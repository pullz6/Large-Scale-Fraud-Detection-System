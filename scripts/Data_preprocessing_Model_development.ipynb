{
  "nbformat": 4,
  "nbformat_minor": 0,
  "metadata": {
    "colab": {
      "provenance": []
    },
    "kernelspec": {
      "name": "python3",
      "display_name": "Python 3"
    },
    "language_info": {
      "name": "python"
    }
  },
  "cells": [
    {
      "cell_type": "code",
      "source": [
        "!pip install mlflow -q"
      ],
      "metadata": {
        "colab": {
          "base_uri": "https://localhost:8080/"
        },
        "id": "WGMoQ_gpdgn2",
        "outputId": "c4029b9a-40cf-4007-922e-2a3acaa5ca2c"
      },
      "execution_count": null,
      "outputs": [
        {
          "output_type": "stream",
          "name": "stdout",
          "text": [
            "\u001b[2K   \u001b[90m━━━━━━━━━━━━━━━━━━━━━━━━━━━━━━━━━━━━━━━━\u001b[0m \u001b[32m24.7/24.7 MB\u001b[0m \u001b[31m24.5 MB/s\u001b[0m eta \u001b[36m0:00:00\u001b[0m\n",
            "\u001b[2K   \u001b[90m━━━━━━━━━━━━━━━━━━━━━━━━━━━━━━━━━━━━━━━━\u001b[0m \u001b[32m1.9/1.9 MB\u001b[0m \u001b[31m29.4 MB/s\u001b[0m eta \u001b[36m0:00:00\u001b[0m\n",
            "\u001b[2K   \u001b[90m━━━━━━━━━━━━━━━━━━━━━━━━━━━━━━━━━━━━━━━━\u001b[0m \u001b[32m242.5/242.5 kB\u001b[0m \u001b[31m11.4 MB/s\u001b[0m eta \u001b[36m0:00:00\u001b[0m\n",
            "\u001b[2K   \u001b[90m━━━━━━━━━━━━━━━━━━━━━━━━━━━━━━━━━━━━━━━━\u001b[0m \u001b[32m147.8/147.8 kB\u001b[0m \u001b[31m7.1 MB/s\u001b[0m eta \u001b[36m0:00:00\u001b[0m\n",
            "\u001b[2K   \u001b[90m━━━━━━━━━━━━━━━━━━━━━━━━━━━━━━━━━━━━━━━━\u001b[0m \u001b[32m114.9/114.9 kB\u001b[0m \u001b[31m3.4 MB/s\u001b[0m eta \u001b[36m0:00:00\u001b[0m\n",
            "\u001b[2K   \u001b[90m━━━━━━━━━━━━━━━━━━━━━━━━━━━━━━━━━━━━━━━━\u001b[0m \u001b[32m85.0/85.0 kB\u001b[0m \u001b[31m3.3 MB/s\u001b[0m eta \u001b[36m0:00:00\u001b[0m\n",
            "\u001b[2K   \u001b[90m━━━━━━━━━━━━━━━━━━━━━━━━━━━━━━━━━━━━━━━━\u001b[0m \u001b[32m733.8/733.8 kB\u001b[0m \u001b[31m16.3 MB/s\u001b[0m eta \u001b[36m0:00:00\u001b[0m\n",
            "\u001b[2K   \u001b[90m━━━━━━━━━━━━━━━━━━━━━━━━━━━━━━━━━━━━━━━━\u001b[0m \u001b[32m203.4/203.4 kB\u001b[0m \u001b[31m10.2 MB/s\u001b[0m eta \u001b[36m0:00:00\u001b[0m\n",
            "\u001b[2K   \u001b[90m━━━━━━━━━━━━━━━━━━━━━━━━━━━━━━━━━━━━━━━━\u001b[0m \u001b[32m65.8/65.8 kB\u001b[0m \u001b[31m2.6 MB/s\u001b[0m eta \u001b[36m0:00:00\u001b[0m\n",
            "\u001b[2K   \u001b[90m━━━━━━━━━━━━━━━━━━━━━━━━━━━━━━━━━━━━━━━━\u001b[0m \u001b[32m118.5/118.5 kB\u001b[0m \u001b[31m6.2 MB/s\u001b[0m eta \u001b[36m0:00:00\u001b[0m\n",
            "\u001b[2K   \u001b[90m━━━━━━━━━━━━━━━━━━━━━━━━━━━━━━━━━━━━━━━━\u001b[0m \u001b[32m196.2/196.2 kB\u001b[0m \u001b[31m6.8 MB/s\u001b[0m eta \u001b[36m0:00:00\u001b[0m\n",
            "\u001b[?25h"
          ]
        }
      ]
    },
    {
      "cell_type": "code",
      "source": [
        "!pip install --upgrade mlflow>=2.3.0"
      ],
      "metadata": {
        "id": "iOyccuDwdhW2"
      },
      "execution_count": null,
      "outputs": []
    },
    {
      "cell_type": "code",
      "source": [
        "!pip install pyngrok -q"
      ],
      "metadata": {
        "id": "-E0eJOvNdkOx"
      },
      "execution_count": null,
      "outputs": []
    },
    {
      "cell_type": "code",
      "source": [
        "def set_mlflow():\n",
        "  get_ipython().system_raw(\"mlflow ui --port 5000 &\")\n",
        "  ngrok.kill()\n",
        "  NGROK_AUTH_TOKEN = \"your code\"\n",
        "  ngrok.set_auth_token(NGROK_AUTH_TOKEN)\n",
        "  ngrok_tunnel = ngrok.connect(addr=\"5000\", proto=\"http\", bind_tls=True)\n",
        "  print(\"MLflow Tracking UI:\", ngrok_tunnel.public_url)\n",
        "  return ngrok_tunnel.public_url"
      ],
      "metadata": {
        "id": "owysT7HcdqeN"
      },
      "execution_count": null,
      "outputs": []
    },
    {
      "cell_type": "code",
      "source": [
        "!pip install -q kaggle"
      ],
      "metadata": {
        "id": "Cz1mY3ly7s0m"
      },
      "execution_count": null,
      "outputs": []
    },
    {
      "cell_type": "code",
      "execution_count": null,
      "metadata": {
        "id": "Eh8AIw4kd6od"
      },
      "outputs": [],
      "source": [
        "import pandas as pd\n",
        "import numpy as np\n",
        "import matplotlib.pyplot as plt\n",
        "import seaborn as sns\n",
        "import random\n",
        "from sklearn import preprocessing\n",
        "\n",
        "import os\n",
        "from google.colab import drive\n",
        "from kaggle.api.kaggle_api_extended import KaggleApi\n",
        "import json\n",
        "from pyngrok import ngrok, conf\n",
        "import mlflow\n",
        "from datetime import datetime, timedelta"
      ]
    },
    {
      "cell_type": "markdown",
      "source": [
        "## Load Data from Kaggle"
      ],
      "metadata": {
        "id": "ZjJvIU10hsVV"
      }
    },
    {
      "cell_type": "code",
      "source": [
        "#Read creds\n",
        "drive.mount('/content/drive')\n",
        "\n",
        "#Get the creds for Kaggle for the Kaggle api\n",
        "creds_path = ('/content/drive/MyDrive/Projects/Creds/kaggle.json')"
      ],
      "metadata": {
        "colab": {
          "base_uri": "https://localhost:8080/"
        },
        "id": "4shXlt9bzbgf",
        "outputId": "e8de228b-7074-4a09-8b8d-55f555d49f2b"
      },
      "execution_count": null,
      "outputs": [
        {
          "output_type": "stream",
          "name": "stdout",
          "text": [
            "Mounted at /content/drive\n"
          ]
        }
      ]
    },
    {
      "cell_type": "code",
      "source": [
        "with open(creds_path, 'r') as f:\n",
        "    creds = json.load(f)"
      ],
      "metadata": {
        "id": "y5PNpr914nFV"
      },
      "execution_count": null,
      "outputs": []
    },
    {
      "cell_type": "code",
      "source": [
        "!mkdir -p ~/.kaggle"
      ],
      "metadata": {
        "id": "aX28oize-_bg"
      },
      "execution_count": null,
      "outputs": []
    },
    {
      "cell_type": "code",
      "source": [
        "with open('/root/.kaggle/kaggle.json', 'w') as f:\n",
        "    json.dump(creds, f)"
      ],
      "metadata": {
        "id": "r8mt-79o_AQi"
      },
      "execution_count": null,
      "outputs": []
    },
    {
      "cell_type": "code",
      "source": [
        "# Set permissions\n",
        "!chmod 600 ~/.kaggle/kaggle.json\n",
        "\n",
        "# Verify setup\n",
        "!kaggle datasets list -s \"ieee fraud\"\n",
        "\n",
        "# STEP 2: DOWNLOAD DATASET\n",
        "# Download the dataset (this is a known mirror of the original competition data)\n",
        "!kaggle datasets download -d kartik2112/fraud-detection\n",
        "\n",
        "# Unzip the files (creates a 'fraud-detection' folder)\n",
        "!unzip fraud-detection.zip -d fraud-detection"
      ],
      "metadata": {
        "colab": {
          "base_uri": "https://localhost:8080/"
        },
        "id": "zKHmMkB__NY5",
        "outputId": "2466cbee-5ba4-469d-a477-af142631f8a7"
      },
      "execution_count": null,
      "outputs": [
        {
          "output_type": "stream",
          "name": "stdout",
          "text": [
            "ref                                                        title                                                    size  lastUpdated                 downloadCount  voteCount  usabilityRating  \n",
            "---------------------------------------------------------  -------------------------------------------------  ----------  --------------------------  -------------  ---------  ---------------  \n",
            "mlg-ulb/creditcardfraud                                    Credit Card Fraud Detection                          69155672  2018-03-23 01:17:27.913000         902182      12240  0.85294116       \n",
            "muhakabartay/yourallmodelsdata                             IEEE-CIS Fraud Detection Models Data                 29768007  2019-09-18 07:57:04.473000            684         17  1.0              \n",
            "whenamancodes/fraud-detection                              Fraud Detection                                      69155672  2022-09-12 11:54:40.550000          10601        118  1.0              \n",
            "kyakovlev/ieee-submissions-and-uids                        IEEE - submissions and uids                          78639550  2019-10-05 11:11:13.207000            538         15  0.64705884       \n",
            "joebeachcapital/credit-card-fraud                          Credit Card Fraud                                   223011632  2023-08-07 02:16:37.627000           3994         69  1.0              \n",
            "arslanali4343/credit-card-cheating-detection-cccd          Credit Card Cheating Detection (CCCD)                45560306  2020-10-07 20:24:31.160000           1554         98  1.0              \n",
            "niangmohamed/ieeecis-fraud-detection                       ieeecis-fraud-detection                             123856947  2020-03-03 20:22:18.440000            366          6  0.5294118        \n",
            "lnasiri007/ieeecis-fraud-detection                         IEEE-CIS FRAUD DETECTION                            123856947  2022-08-11 05:52:08.610000            457          3  0.29411766       \n",
            "adhyanmaji31/credit-card-fraud-detection                   Credit_Card_Fraud_Detection                           3455419  2020-11-04 18:21:42.243000           1208         12  0.6764706        \n",
            "fatiherik/ieeefraudfinaldata                               ieee-fraud-final-data                               168656759  2020-08-22 18:34:07.473000             40          1  0.29411766       \n",
            "manojahi/ieee-fraud-detection-preprocessed-traintest-data  IEEE Fraud Detection Preprocessed Train/Test data   215942428  2019-09-15 04:05:02.337000            101          3  0.23529412       \n",
            "sonalisna/ieeefrauddetection                               ieee-fraud-detection                                123856947  2021-11-02 09:47:35.013000             44          1  0.23529412       \n",
            "artmatician/users-ids                                      Users IDs                                             5724215  2019-10-06 21:53:39.203000             55          3  0.29411766       \n",
            "gbecon/ieeecis-fraud-detection-compressed                  IEEE-CIS Fraud Detection compressed                 133377634  2022-03-15 08:08:00.893000             91          1  0.29411766       \n",
            "zakirbhuiyan/ieee-fraud-detection-submission-v3            ieee-fraud-detection-submission-v3                  123856947  2024-07-26 23:00:35.757000              4          0  0.4117647        \n",
            "shreyauniyal19/ieee-cis-fraud-detection                    IEEE_CIS_Fraud_Detection                            123856947  2020-10-11 06:26:13.003000            188          2  0.1764706        \n",
            "nguynlvithong/ieee-fraud-detection1                        IEEE-Fraud-Detection1                               123857154  2024-11-15 15:28:18.220000              9          0  0.3529412        \n",
            "nguynlvithong/ieee-fraud-detectionn1                       ieee-fraud-detectionn1                              123857157  2024-11-08 08:09:19.427000              0          0  0.3529412        \n",
            "nguynlvithong/ieee-fraud-detectionn2                       ieee-fraud-detectionn2                              123857157  2024-11-08 08:38:59.873000              4          0  0.3529412        \n",
            "zakirbhuiyan/ieee-fraud-detection-submission-v4            ieee-fraud-detection-submission-v4                  123856947  2024-08-20 23:55:04.053000              7          0  0.4117647        \n",
            "Dataset URL: https://www.kaggle.com/datasets/kartik2112/fraud-detection\n",
            "License(s): CC0-1.0\n",
            "Downloading fraud-detection.zip to /content\n",
            " 76% 154M/202M [00:00<00:00, 789MB/s] \n",
            "100% 202M/202M [00:00<00:00, 487MB/s]\n",
            "Archive:  fraud-detection.zip\n",
            "  inflating: fraud-detection/fraudTest.csv  \n",
            "  inflating: fraud-detection/fraudTrain.csv  \n"
          ]
        }
      ]
    },
    {
      "cell_type": "code",
      "source": [
        "# List downloaded files\n",
        "!ls -la fraud-detection/"
      ],
      "metadata": {
        "colab": {
          "base_uri": "https://localhost:8080/"
        },
        "id": "8q5c_4iT_Ugi",
        "outputId": "a35b902d-3c05-4d5d-bc98-803e09d1c81a"
      },
      "execution_count": null,
      "outputs": [
        {
          "output_type": "stream",
          "name": "stdout",
          "text": [
            "total 489852\n",
            "drwxr-xr-x 2 root root      4096 Jun 16 08:07 .\n",
            "drwxr-xr-x 1 root root      4096 Jun 16 08:07 ..\n",
            "-rw-r--r-- 1 root root 150354339 Aug  5  2020 fraudTest.csv\n",
            "-rw-r--r-- 1 root root 351238196 Aug  5  2020 fraudTrain.csv\n"
          ]
        }
      ]
    },
    {
      "cell_type": "markdown",
      "source": [
        "## Load for training from pandas"
      ],
      "metadata": {
        "id": "qgwjn0txhx7X"
      }
    },
    {
      "cell_type": "code",
      "source": [
        "train = pd.read_csv(\"fraud-detection/fraudTrain.csv\")\n",
        "test = pd.read_csv(\"fraud-detection/fraudTest.csv\")"
      ],
      "metadata": {
        "id": "M9niFldmh3Eu"
      },
      "execution_count": null,
      "outputs": []
    },
    {
      "cell_type": "code",
      "source": [
        "train.info()"
      ],
      "metadata": {
        "colab": {
          "base_uri": "https://localhost:8080/"
        },
        "id": "S5MNmii_jBfO",
        "outputId": "d685b832-1606-430e-9dd0-281e80c0327f"
      },
      "execution_count": null,
      "outputs": [
        {
          "output_type": "stream",
          "name": "stdout",
          "text": [
            "<class 'pandas.core.frame.DataFrame'>\n",
            "RangeIndex: 1296675 entries, 0 to 1296674\n",
            "Data columns (total 23 columns):\n",
            " #   Column                 Non-Null Count    Dtype  \n",
            "---  ------                 --------------    -----  \n",
            " 0   Unnamed: 0             1296675 non-null  int64  \n",
            " 1   trans_date_trans_time  1296675 non-null  object \n",
            " 2   cc_num                 1296675 non-null  int64  \n",
            " 3   merchant               1296675 non-null  object \n",
            " 4   category               1296675 non-null  object \n",
            " 5   amt                    1296675 non-null  float64\n",
            " 6   first                  1296675 non-null  object \n",
            " 7   last                   1296675 non-null  object \n",
            " 8   gender                 1296675 non-null  object \n",
            " 9   street                 1296675 non-null  object \n",
            " 10  city                   1296675 non-null  object \n",
            " 11  state                  1296675 non-null  object \n",
            " 12  zip                    1296675 non-null  int64  \n",
            " 13  lat                    1296675 non-null  float64\n",
            " 14  long                   1296675 non-null  float64\n",
            " 15  city_pop               1296675 non-null  int64  \n",
            " 16  job                    1296675 non-null  object \n",
            " 17  dob                    1296675 non-null  object \n",
            " 18  trans_num              1296675 non-null  object \n",
            " 19  unix_time              1296675 non-null  int64  \n",
            " 20  merch_lat              1296675 non-null  float64\n",
            " 21  merch_long             1296675 non-null  float64\n",
            " 22  is_fraud               1296675 non-null  int64  \n",
            "dtypes: float64(5), int64(6), object(12)\n",
            "memory usage: 227.5+ MB\n"
          ]
        }
      ]
    },
    {
      "cell_type": "code",
      "source": [
        "def data_prep(data):\n",
        "  #All the steps to data training\n",
        "  data.drop(['Unnamed: 0','cc_num','first','last','street','zip','trans_num','lat','long','merchant','merch_lat','merch_long','gender','unix_time','category','city'],inplace=True,axis=1)\n",
        "\n",
        "  data['trans_date_trans_time']= pd.to_datetime(data['trans_date_trans_time'])\n",
        "  data['month'] = data['trans_date_trans_time'].dt.month\n",
        "  data['month'] = data['month'].astype(int)\n",
        "  data['dob']= pd.to_datetime(data['dob'])\n",
        "  data['age'] = (data['trans_date_trans_time'] - data['dob']).dt.days/365\n",
        "  data[\"job\"]= data[\"job\"].astype(str)\n",
        "\n",
        "  data.drop(['trans_date_trans_time','dob'],inplace=True,axis=1)\n",
        "\n",
        "  label_encoder = preprocessing.LabelEncoder()\n",
        "  data[\"job\"]= label_encoder.fit_transform(data[\"job\"])\n",
        "  data[\"state\"]= label_encoder.fit_transform(data[\"state\"])\n",
        "\n",
        "  return data"
      ],
      "metadata": {
        "id": "hY8rs7ykI94W"
      },
      "execution_count": null,
      "outputs": []
    },
    {
      "cell_type": "code",
      "source": [
        "train = data_prep(train)"
      ],
      "metadata": {
        "id": "i2bwmoMHN4ay"
      },
      "execution_count": null,
      "outputs": []
    },
    {
      "cell_type": "code",
      "source": [
        "test['is_fraud'].value_counts()"
      ],
      "metadata": {
        "colab": {
          "base_uri": "https://localhost:8080/",
          "height": 178
        },
        "id": "BqmyZTzS8wvC",
        "outputId": "4883acbd-75b3-4ebb-f5fd-7eca8b00dfab"
      },
      "execution_count": null,
      "outputs": [
        {
          "output_type": "execute_result",
          "data": {
            "text/plain": [
              "is_fraud\n",
              "0    553574\n",
              "1      2145\n",
              "Name: count, dtype: int64"
            ],
            "text/html": [
              "<div>\n",
              "<style scoped>\n",
              "    .dataframe tbody tr th:only-of-type {\n",
              "        vertical-align: middle;\n",
              "    }\n",
              "\n",
              "    .dataframe tbody tr th {\n",
              "        vertical-align: top;\n",
              "    }\n",
              "\n",
              "    .dataframe thead th {\n",
              "        text-align: right;\n",
              "    }\n",
              "</style>\n",
              "<table border=\"1\" class=\"dataframe\">\n",
              "  <thead>\n",
              "    <tr style=\"text-align: right;\">\n",
              "      <th></th>\n",
              "      <th>count</th>\n",
              "    </tr>\n",
              "    <tr>\n",
              "      <th>is_fraud</th>\n",
              "      <th></th>\n",
              "    </tr>\n",
              "  </thead>\n",
              "  <tbody>\n",
              "    <tr>\n",
              "      <th>0</th>\n",
              "      <td>553574</td>\n",
              "    </tr>\n",
              "    <tr>\n",
              "      <th>1</th>\n",
              "      <td>2145</td>\n",
              "    </tr>\n",
              "  </tbody>\n",
              "</table>\n",
              "</div><br><label><b>dtype:</b> int64</label>"
            ]
          },
          "metadata": {},
          "execution_count": 18
        }
      ]
    },
    {
      "cell_type": "code",
      "source": [
        "print(\"Class Distribution:\")\n",
        "print(train['is_fraud'].value_counts())\n",
        "print(f\"Percentage: \\n{train['is_fraud'].value_counts(normalize=True) * 100}\")\n",
        "\n",
        "# Imbalance ratio (%)\n",
        "imbalance_ratio = train['is_fraud'].value_counts().min() / train['is_fraud'].value_counts().max()\n",
        "print(f\"Imbalance ratio: {imbalance_ratio:.3f}\")"
      ],
      "metadata": {
        "colab": {
          "base_uri": "https://localhost:8080/"
        },
        "id": "aeaWR7Y35K6F",
        "outputId": "e289eeed-9e07-4e99-8381-32c11f4011eb"
      },
      "execution_count": null,
      "outputs": [
        {
          "output_type": "stream",
          "name": "stdout",
          "text": [
            "Class Distribution:\n",
            "is_fraud\n",
            "0    1289169\n",
            "1       7506\n",
            "Name: count, dtype: int64\n",
            "Percentage: \n",
            "is_fraud\n",
            "0    99.421135\n",
            "1     0.578865\n",
            "Name: proportion, dtype: float64\n",
            "Imbalance ratio: 0.006\n"
          ]
        }
      ]
    },
    {
      "cell_type": "code",
      "source": [
        "# Split instances into majority vs minority class/classes\n",
        "df_majority = train[train['is_fraud'] == 0]\n",
        "df_minority = train[train['is_fraud'] == 1]\n",
        "\n",
        "# Undersampling: we keep as many majority instances (n) as minority ones\n",
        "df_majority_downsampled = df_majority.sample(n=len(df_minority),random_state=42)\n",
        "df_balanced = pd.concat([df_majority_downsampled, df_minority])\n",
        "\n",
        "print(f\"Original dataset: {len(train)}\")\n",
        "print(f\"Balanced dataset: {len(df_balanced)}\")"
      ],
      "metadata": {
        "colab": {
          "base_uri": "https://localhost:8080/"
        },
        "id": "1BfQTw7053qi",
        "outputId": "f6c1561d-c55f-4ebf-f82c-c9f98eaea024"
      },
      "execution_count": null,
      "outputs": [
        {
          "output_type": "stream",
          "name": "stdout",
          "text": [
            "Original dataset: 1296675\n",
            "Balanced dataset: 15012\n"
          ]
        }
      ]
    },
    {
      "cell_type": "code",
      "source": [
        "df_balanced.info()"
      ],
      "metadata": {
        "colab": {
          "base_uri": "https://localhost:8080/"
        },
        "id": "r6H_OtFG0-4p",
        "outputId": "08b5beb6-235b-4b26-eb75-d09a8d301a9f"
      },
      "execution_count": null,
      "outputs": [
        {
          "output_type": "stream",
          "name": "stdout",
          "text": [
            "<class 'pandas.core.frame.DataFrame'>\n",
            "Index: 15012 entries, 811778 to 1295733\n",
            "Data columns (total 7 columns):\n",
            " #   Column    Non-Null Count  Dtype  \n",
            "---  ------    --------------  -----  \n",
            " 0   amt       15012 non-null  float64\n",
            " 1   state     15012 non-null  int64  \n",
            " 2   city_pop  15012 non-null  int64  \n",
            " 3   job       15012 non-null  int64  \n",
            " 4   is_fraud  15012 non-null  int64  \n",
            " 5   month     15012 non-null  int64  \n",
            " 6   age       15012 non-null  float64\n",
            "dtypes: float64(2), int64(5)\n",
            "memory usage: 938.2 KB\n"
          ]
        }
      ]
    },
    {
      "cell_type": "code",
      "source": [
        "# Imbalance ratio (%)\n",
        "imbalance_ratio = df_balanced['is_fraud'].value_counts().min() / df_balanced['is_fraud'].value_counts().max()\n",
        "print(f\"Imbalance ratio: {imbalance_ratio:.3f}\")"
      ],
      "metadata": {
        "colab": {
          "base_uri": "https://localhost:8080/"
        },
        "id": "a6Hibji6-mo0",
        "outputId": "5eb72715-a1b6-4c20-f073-3258966d9067"
      },
      "execution_count": null,
      "outputs": [
        {
          "output_type": "stream",
          "name": "stdout",
          "text": [
            "Imbalance ratio: 1.000\n"
          ]
        }
      ]
    },
    {
      "cell_type": "markdown",
      "source": [
        "## Model Development"
      ],
      "metadata": {
        "id": "lWrdh_IEElmV"
      }
    },
    {
      "cell_type": "code",
      "source": [
        "uri = set_mlflow()\n",
        "mlflow.set_tracking_uri(uri=uri)"
      ],
      "metadata": {
        "colab": {
          "base_uri": "https://localhost:8080/"
        },
        "id": "WnMExnDZIXEd",
        "outputId": "b7466a17-6e1e-4602-eac3-9bc155160ad3"
      },
      "execution_count": null,
      "outputs": [
        {
          "output_type": "stream",
          "name": "stdout",
          "text": [
            "MLflow Tracking UI: https://218d-35-247-53-211.ngrok-free.app\n"
          ]
        }
      ]
    },
    {
      "cell_type": "code",
      "source": [
        "mlflow.set_experiment(\"Fraud-detection\")"
      ],
      "metadata": {
        "colab": {
          "base_uri": "https://localhost:8080/"
        },
        "id": "iTXkzaL6Hwa_",
        "outputId": "c67d73c2-e46a-4601-b70a-6326e790fffe"
      },
      "execution_count": null,
      "outputs": [
        {
          "output_type": "stream",
          "name": "stderr",
          "text": [
            "2025/06/16 08:07:55 INFO mlflow.tracking.fluent: Experiment with name 'Fraud-detection' does not exist. Creating a new experiment.\n"
          ]
        },
        {
          "output_type": "execute_result",
          "data": {
            "text/plain": [
              "<Experiment: artifact_location='mlflow-artifacts:/474008413382543543', creation_time=1750061275371, experiment_id='474008413382543543', last_update_time=1750061275371, lifecycle_stage='active', name='Fraud-detection', tags={}>"
            ]
          },
          "metadata": {},
          "execution_count": 26
        }
      ]
    },
    {
      "cell_type": "code",
      "source": [
        "df_balanced.head()"
      ],
      "metadata": {
        "colab": {
          "base_uri": "https://localhost:8080/",
          "height": 206
        },
        "id": "b2VgRk-q15zo",
        "outputId": "dedf7a60-6f14-4a84-f83f-a975b62994a8"
      },
      "execution_count": null,
      "outputs": [
        {
          "output_type": "execute_result",
          "data": {
            "text/plain": [
              "           amt  state  city_pop  job  is_fraud  month        age\n",
              "811778   86.19      4     92043   85         0     12  58.657534\n",
              "1101718  85.81     24      1019   15         0      4  41.213699\n",
              "800013   99.30     38       184  444         0     12  74.131507\n",
              "398945   42.09     26       743  489         0      6  47.186301\n",
              "207455    4.24     42     87124  486         0      4  32.186301"
            ],
            "text/html": [
              "\n",
              "  <div id=\"df-45edff24-f625-4e0b-93a9-69cb5182d35f\" class=\"colab-df-container\">\n",
              "    <div>\n",
              "<style scoped>\n",
              "    .dataframe tbody tr th:only-of-type {\n",
              "        vertical-align: middle;\n",
              "    }\n",
              "\n",
              "    .dataframe tbody tr th {\n",
              "        vertical-align: top;\n",
              "    }\n",
              "\n",
              "    .dataframe thead th {\n",
              "        text-align: right;\n",
              "    }\n",
              "</style>\n",
              "<table border=\"1\" class=\"dataframe\">\n",
              "  <thead>\n",
              "    <tr style=\"text-align: right;\">\n",
              "      <th></th>\n",
              "      <th>amt</th>\n",
              "      <th>state</th>\n",
              "      <th>city_pop</th>\n",
              "      <th>job</th>\n",
              "      <th>is_fraud</th>\n",
              "      <th>month</th>\n",
              "      <th>age</th>\n",
              "    </tr>\n",
              "  </thead>\n",
              "  <tbody>\n",
              "    <tr>\n",
              "      <th>811778</th>\n",
              "      <td>86.19</td>\n",
              "      <td>4</td>\n",
              "      <td>92043</td>\n",
              "      <td>85</td>\n",
              "      <td>0</td>\n",
              "      <td>12</td>\n",
              "      <td>58.657534</td>\n",
              "    </tr>\n",
              "    <tr>\n",
              "      <th>1101718</th>\n",
              "      <td>85.81</td>\n",
              "      <td>24</td>\n",
              "      <td>1019</td>\n",
              "      <td>15</td>\n",
              "      <td>0</td>\n",
              "      <td>4</td>\n",
              "      <td>41.213699</td>\n",
              "    </tr>\n",
              "    <tr>\n",
              "      <th>800013</th>\n",
              "      <td>99.30</td>\n",
              "      <td>38</td>\n",
              "      <td>184</td>\n",
              "      <td>444</td>\n",
              "      <td>0</td>\n",
              "      <td>12</td>\n",
              "      <td>74.131507</td>\n",
              "    </tr>\n",
              "    <tr>\n",
              "      <th>398945</th>\n",
              "      <td>42.09</td>\n",
              "      <td>26</td>\n",
              "      <td>743</td>\n",
              "      <td>489</td>\n",
              "      <td>0</td>\n",
              "      <td>6</td>\n",
              "      <td>47.186301</td>\n",
              "    </tr>\n",
              "    <tr>\n",
              "      <th>207455</th>\n",
              "      <td>4.24</td>\n",
              "      <td>42</td>\n",
              "      <td>87124</td>\n",
              "      <td>486</td>\n",
              "      <td>0</td>\n",
              "      <td>4</td>\n",
              "      <td>32.186301</td>\n",
              "    </tr>\n",
              "  </tbody>\n",
              "</table>\n",
              "</div>\n",
              "    <div class=\"colab-df-buttons\">\n",
              "\n",
              "  <div class=\"colab-df-container\">\n",
              "    <button class=\"colab-df-convert\" onclick=\"convertToInteractive('df-45edff24-f625-4e0b-93a9-69cb5182d35f')\"\n",
              "            title=\"Convert this dataframe to an interactive table.\"\n",
              "            style=\"display:none;\">\n",
              "\n",
              "  <svg xmlns=\"http://www.w3.org/2000/svg\" height=\"24px\" viewBox=\"0 -960 960 960\">\n",
              "    <path d=\"M120-120v-720h720v720H120Zm60-500h600v-160H180v160Zm220 220h160v-160H400v160Zm0 220h160v-160H400v160ZM180-400h160v-160H180v160Zm440 0h160v-160H620v160ZM180-180h160v-160H180v160Zm440 0h160v-160H620v160Z\"/>\n",
              "  </svg>\n",
              "    </button>\n",
              "\n",
              "  <style>\n",
              "    .colab-df-container {\n",
              "      display:flex;\n",
              "      gap: 12px;\n",
              "    }\n",
              "\n",
              "    .colab-df-convert {\n",
              "      background-color: #E8F0FE;\n",
              "      border: none;\n",
              "      border-radius: 50%;\n",
              "      cursor: pointer;\n",
              "      display: none;\n",
              "      fill: #1967D2;\n",
              "      height: 32px;\n",
              "      padding: 0 0 0 0;\n",
              "      width: 32px;\n",
              "    }\n",
              "\n",
              "    .colab-df-convert:hover {\n",
              "      background-color: #E2EBFA;\n",
              "      box-shadow: 0px 1px 2px rgba(60, 64, 67, 0.3), 0px 1px 3px 1px rgba(60, 64, 67, 0.15);\n",
              "      fill: #174EA6;\n",
              "    }\n",
              "\n",
              "    .colab-df-buttons div {\n",
              "      margin-bottom: 4px;\n",
              "    }\n",
              "\n",
              "    [theme=dark] .colab-df-convert {\n",
              "      background-color: #3B4455;\n",
              "      fill: #D2E3FC;\n",
              "    }\n",
              "\n",
              "    [theme=dark] .colab-df-convert:hover {\n",
              "      background-color: #434B5C;\n",
              "      box-shadow: 0px 1px 3px 1px rgba(0, 0, 0, 0.15);\n",
              "      filter: drop-shadow(0px 1px 2px rgba(0, 0, 0, 0.3));\n",
              "      fill: #FFFFFF;\n",
              "    }\n",
              "  </style>\n",
              "\n",
              "    <script>\n",
              "      const buttonEl =\n",
              "        document.querySelector('#df-45edff24-f625-4e0b-93a9-69cb5182d35f button.colab-df-convert');\n",
              "      buttonEl.style.display =\n",
              "        google.colab.kernel.accessAllowed ? 'block' : 'none';\n",
              "\n",
              "      async function convertToInteractive(key) {\n",
              "        const element = document.querySelector('#df-45edff24-f625-4e0b-93a9-69cb5182d35f');\n",
              "        const dataTable =\n",
              "          await google.colab.kernel.invokeFunction('convertToInteractive',\n",
              "                                                    [key], {});\n",
              "        if (!dataTable) return;\n",
              "\n",
              "        const docLinkHtml = 'Like what you see? Visit the ' +\n",
              "          '<a target=\"_blank\" href=https://colab.research.google.com/notebooks/data_table.ipynb>data table notebook</a>'\n",
              "          + ' to learn more about interactive tables.';\n",
              "        element.innerHTML = '';\n",
              "        dataTable['output_type'] = 'display_data';\n",
              "        await google.colab.output.renderOutput(dataTable, element);\n",
              "        const docLink = document.createElement('div');\n",
              "        docLink.innerHTML = docLinkHtml;\n",
              "        element.appendChild(docLink);\n",
              "      }\n",
              "    </script>\n",
              "  </div>\n",
              "\n",
              "\n",
              "    <div id=\"df-7406c49a-2ab6-46df-836c-0ba810180484\">\n",
              "      <button class=\"colab-df-quickchart\" onclick=\"quickchart('df-7406c49a-2ab6-46df-836c-0ba810180484')\"\n",
              "                title=\"Suggest charts\"\n",
              "                style=\"display:none;\">\n",
              "\n",
              "<svg xmlns=\"http://www.w3.org/2000/svg\" height=\"24px\"viewBox=\"0 0 24 24\"\n",
              "     width=\"24px\">\n",
              "    <g>\n",
              "        <path d=\"M19 3H5c-1.1 0-2 .9-2 2v14c0 1.1.9 2 2 2h14c1.1 0 2-.9 2-2V5c0-1.1-.9-2-2-2zM9 17H7v-7h2v7zm4 0h-2V7h2v10zm4 0h-2v-4h2v4z\"/>\n",
              "    </g>\n",
              "</svg>\n",
              "      </button>\n",
              "\n",
              "<style>\n",
              "  .colab-df-quickchart {\n",
              "      --bg-color: #E8F0FE;\n",
              "      --fill-color: #1967D2;\n",
              "      --hover-bg-color: #E2EBFA;\n",
              "      --hover-fill-color: #174EA6;\n",
              "      --disabled-fill-color: #AAA;\n",
              "      --disabled-bg-color: #DDD;\n",
              "  }\n",
              "\n",
              "  [theme=dark] .colab-df-quickchart {\n",
              "      --bg-color: #3B4455;\n",
              "      --fill-color: #D2E3FC;\n",
              "      --hover-bg-color: #434B5C;\n",
              "      --hover-fill-color: #FFFFFF;\n",
              "      --disabled-bg-color: #3B4455;\n",
              "      --disabled-fill-color: #666;\n",
              "  }\n",
              "\n",
              "  .colab-df-quickchart {\n",
              "    background-color: var(--bg-color);\n",
              "    border: none;\n",
              "    border-radius: 50%;\n",
              "    cursor: pointer;\n",
              "    display: none;\n",
              "    fill: var(--fill-color);\n",
              "    height: 32px;\n",
              "    padding: 0;\n",
              "    width: 32px;\n",
              "  }\n",
              "\n",
              "  .colab-df-quickchart:hover {\n",
              "    background-color: var(--hover-bg-color);\n",
              "    box-shadow: 0 1px 2px rgba(60, 64, 67, 0.3), 0 1px 3px 1px rgba(60, 64, 67, 0.15);\n",
              "    fill: var(--button-hover-fill-color);\n",
              "  }\n",
              "\n",
              "  .colab-df-quickchart-complete:disabled,\n",
              "  .colab-df-quickchart-complete:disabled:hover {\n",
              "    background-color: var(--disabled-bg-color);\n",
              "    fill: var(--disabled-fill-color);\n",
              "    box-shadow: none;\n",
              "  }\n",
              "\n",
              "  .colab-df-spinner {\n",
              "    border: 2px solid var(--fill-color);\n",
              "    border-color: transparent;\n",
              "    border-bottom-color: var(--fill-color);\n",
              "    animation:\n",
              "      spin 1s steps(1) infinite;\n",
              "  }\n",
              "\n",
              "  @keyframes spin {\n",
              "    0% {\n",
              "      border-color: transparent;\n",
              "      border-bottom-color: var(--fill-color);\n",
              "      border-left-color: var(--fill-color);\n",
              "    }\n",
              "    20% {\n",
              "      border-color: transparent;\n",
              "      border-left-color: var(--fill-color);\n",
              "      border-top-color: var(--fill-color);\n",
              "    }\n",
              "    30% {\n",
              "      border-color: transparent;\n",
              "      border-left-color: var(--fill-color);\n",
              "      border-top-color: var(--fill-color);\n",
              "      border-right-color: var(--fill-color);\n",
              "    }\n",
              "    40% {\n",
              "      border-color: transparent;\n",
              "      border-right-color: var(--fill-color);\n",
              "      border-top-color: var(--fill-color);\n",
              "    }\n",
              "    60% {\n",
              "      border-color: transparent;\n",
              "      border-right-color: var(--fill-color);\n",
              "    }\n",
              "    80% {\n",
              "      border-color: transparent;\n",
              "      border-right-color: var(--fill-color);\n",
              "      border-bottom-color: var(--fill-color);\n",
              "    }\n",
              "    90% {\n",
              "      border-color: transparent;\n",
              "      border-bottom-color: var(--fill-color);\n",
              "    }\n",
              "  }\n",
              "</style>\n",
              "\n",
              "      <script>\n",
              "        async function quickchart(key) {\n",
              "          const quickchartButtonEl =\n",
              "            document.querySelector('#' + key + ' button');\n",
              "          quickchartButtonEl.disabled = true;  // To prevent multiple clicks.\n",
              "          quickchartButtonEl.classList.add('colab-df-spinner');\n",
              "          try {\n",
              "            const charts = await google.colab.kernel.invokeFunction(\n",
              "                'suggestCharts', [key], {});\n",
              "          } catch (error) {\n",
              "            console.error('Error during call to suggestCharts:', error);\n",
              "          }\n",
              "          quickchartButtonEl.classList.remove('colab-df-spinner');\n",
              "          quickchartButtonEl.classList.add('colab-df-quickchart-complete');\n",
              "        }\n",
              "        (() => {\n",
              "          let quickchartButtonEl =\n",
              "            document.querySelector('#df-7406c49a-2ab6-46df-836c-0ba810180484 button');\n",
              "          quickchartButtonEl.style.display =\n",
              "            google.colab.kernel.accessAllowed ? 'block' : 'none';\n",
              "        })();\n",
              "      </script>\n",
              "    </div>\n",
              "\n",
              "    </div>\n",
              "  </div>\n"
            ],
            "application/vnd.google.colaboratory.intrinsic+json": {
              "type": "dataframe",
              "variable_name": "df_balanced",
              "summary": "{\n  \"name\": \"df_balanced\",\n  \"rows\": 15012,\n  \"fields\": [\n    {\n      \"column\": \"amt\",\n      \"properties\": {\n        \"dtype\": \"number\",\n        \"std\": 373.9158044488234,\n        \"min\": 1.0,\n        \"max\": 6337.25,\n        \"num_unique_values\": 11446,\n        \"samples\": [\n          1054.68,\n          1.27,\n          242.02\n        ],\n        \"semantic_type\": \"\",\n        \"description\": \"\"\n      }\n    },\n    {\n      \"column\": \"state\",\n      \"properties\": {\n        \"dtype\": \"number\",\n        \"std\": 14,\n        \"min\": 0,\n        \"max\": 50,\n        \"num_unique_values\": 51,\n        \"samples\": [\n          50,\n          23,\n          13\n        ],\n        \"semantic_type\": \"\",\n        \"description\": \"\"\n      }\n    },\n    {\n      \"column\": \"city_pop\",\n      \"properties\": {\n        \"dtype\": \"number\",\n        \"std\": 303554,\n        \"min\": 23,\n        \"max\": 2906700,\n        \"num_unique_values\": 875,\n        \"samples\": [\n          522,\n          1892,\n          51\n        ],\n        \"semantic_type\": \"\",\n        \"description\": \"\"\n      }\n    },\n    {\n      \"column\": \"job\",\n      \"properties\": {\n        \"dtype\": \"number\",\n        \"std\": 139,\n        \"min\": 0,\n        \"max\": 493,\n        \"num_unique_values\": 493,\n        \"samples\": [\n          210,\n          428,\n          228\n        ],\n        \"semantic_type\": \"\",\n        \"description\": \"\"\n      }\n    },\n    {\n      \"column\": \"is_fraud\",\n      \"properties\": {\n        \"dtype\": \"number\",\n        \"std\": 0,\n        \"min\": 0,\n        \"max\": 1,\n        \"num_unique_values\": 2,\n        \"samples\": [\n          1,\n          0\n        ],\n        \"semantic_type\": \"\",\n        \"description\": \"\"\n      }\n    },\n    {\n      \"column\": \"month\",\n      \"properties\": {\n        \"dtype\": \"number\",\n        \"std\": 3,\n        \"min\": 1,\n        \"max\": 12,\n        \"num_unique_values\": 12,\n        \"samples\": [\n          2,\n          11\n        ],\n        \"semantic_type\": \"\",\n        \"description\": \"\"\n      }\n    },\n    {\n      \"column\": \"age\",\n      \"properties\": {\n        \"dtype\": \"number\",\n        \"std\": 18.0712719243626,\n        \"min\": 14.0,\n        \"max\": 95.54520547945205,\n        \"num_unique_values\": 7383,\n        \"samples\": [\n          28.98904109589041,\n          35.704109589041096\n        ],\n        \"semantic_type\": \"\",\n        \"description\": \"\"\n      }\n    }\n  ]\n}"
            }
          },
          "metadata": {},
          "execution_count": 27
        }
      ]
    },
    {
      "cell_type": "code",
      "source": [
        "!pip install xgboost"
      ],
      "metadata": {
        "colab": {
          "base_uri": "https://localhost:8080/"
        },
        "id": "gNyQWTdQ_J9a",
        "outputId": "583841c5-4c83-4ab7-b8da-7a159bbe3a21"
      },
      "execution_count": null,
      "outputs": [
        {
          "output_type": "stream",
          "name": "stdout",
          "text": [
            "Requirement already satisfied: xgboost in /usr/local/lib/python3.11/dist-packages (2.1.4)\n",
            "Requirement already satisfied: numpy in /usr/local/lib/python3.11/dist-packages (from xgboost) (2.0.2)\n",
            "Requirement already satisfied: nvidia-nccl-cu12 in /usr/local/lib/python3.11/dist-packages (from xgboost) (2.21.5)\n",
            "Requirement already satisfied: scipy in /usr/local/lib/python3.11/dist-packages (from xgboost) (1.15.3)\n"
          ]
        }
      ]
    },
    {
      "cell_type": "code",
      "source": [
        "!pip install optuna"
      ],
      "metadata": {
        "colab": {
          "base_uri": "https://localhost:8080/"
        },
        "id": "zG2N7O1qyBMj",
        "outputId": "0cf24ea5-8e99-4b68-da8f-9821b1429524"
      },
      "execution_count": null,
      "outputs": [
        {
          "output_type": "stream",
          "name": "stdout",
          "text": [
            "Collecting optuna\n",
            "  Downloading optuna-4.4.0-py3-none-any.whl.metadata (17 kB)\n",
            "Requirement already satisfied: alembic>=1.5.0 in /usr/local/lib/python3.11/dist-packages (from optuna) (1.16.1)\n",
            "Collecting colorlog (from optuna)\n",
            "  Downloading colorlog-6.9.0-py3-none-any.whl.metadata (10 kB)\n",
            "Requirement already satisfied: numpy in /usr/local/lib/python3.11/dist-packages (from optuna) (2.0.2)\n",
            "Requirement already satisfied: packaging>=20.0 in /usr/local/lib/python3.11/dist-packages (from optuna) (24.2)\n",
            "Requirement already satisfied: sqlalchemy>=1.4.2 in /usr/local/lib/python3.11/dist-packages (from optuna) (2.0.41)\n",
            "Requirement already satisfied: tqdm in /usr/local/lib/python3.11/dist-packages (from optuna) (4.67.1)\n",
            "Requirement already satisfied: PyYAML in /usr/local/lib/python3.11/dist-packages (from optuna) (6.0.2)\n",
            "Requirement already satisfied: Mako in /usr/lib/python3/dist-packages (from alembic>=1.5.0->optuna) (1.1.3)\n",
            "Requirement already satisfied: typing-extensions>=4.12 in /usr/local/lib/python3.11/dist-packages (from alembic>=1.5.0->optuna) (4.14.0)\n",
            "Requirement already satisfied: greenlet>=1 in /usr/local/lib/python3.11/dist-packages (from sqlalchemy>=1.4.2->optuna) (3.2.2)\n",
            "Downloading optuna-4.4.0-py3-none-any.whl (395 kB)\n",
            "\u001b[2K   \u001b[90m━━━━━━━━━━━━━━━━━━━━━━━━━━━━━━━━━━━━━━━━\u001b[0m \u001b[32m395.9/395.9 kB\u001b[0m \u001b[31m10.6 MB/s\u001b[0m eta \u001b[36m0:00:00\u001b[0m\n",
            "\u001b[?25hDownloading colorlog-6.9.0-py3-none-any.whl (11 kB)\n",
            "Installing collected packages: colorlog, optuna\n",
            "Successfully installed colorlog-6.9.0 optuna-4.4.0\n"
          ]
        }
      ]
    },
    {
      "cell_type": "code",
      "source": [
        "import xgboost as xgb\n",
        "import sklearn\n",
        "from sklearn.metrics import accuracy_score,confusion_matrix, ConfusionMatrixDisplay\n",
        "\n",
        "from sklearn.model_selection import GridSearchCV, train_test_split\n",
        "import optuna"
      ],
      "metadata": {
        "id": "3XK5NgetEoQY"
      },
      "execution_count": null,
      "outputs": []
    },
    {
      "cell_type": "code",
      "source": [
        "mlflow.xgboost.autolog()"
      ],
      "metadata": {
        "id": "jx-Ch9PaN8nM"
      },
      "execution_count": null,
      "outputs": []
    },
    {
      "cell_type": "code",
      "source": [
        "# Split data into X and y\n",
        "X = df_balanced.drop(columns=['is_fraud'], axis=1)\n",
        "y = df_balanced['is_fraud']"
      ],
      "metadata": {
        "id": "slwJPx1DEs6M"
      },
      "execution_count": null,
      "outputs": []
    },
    {
      "cell_type": "code",
      "source": [
        "X_train, X_test, y_train, y_test = train_test_split(X, y, stratify=y, test_size=0.3, random_state=0)"
      ],
      "metadata": {
        "id": "2XOqMc0zFHX5"
      },
      "execution_count": null,
      "outputs": []
    },
    {
      "cell_type": "code",
      "source": [
        "y_train.value_counts(normalize=True)"
      ],
      "metadata": {
        "colab": {
          "base_uri": "https://localhost:8080/",
          "height": 178
        },
        "id": "NfNXdSMXFLf6",
        "outputId": "56a776b0-44e9-4106-c75b-76b60f3ee467"
      },
      "execution_count": null,
      "outputs": [
        {
          "output_type": "execute_result",
          "data": {
            "text/plain": [
              "is_fraud\n",
              "0    0.5\n",
              "1    0.5\n",
              "Name: proportion, dtype: float64"
            ],
            "text/html": [
              "<div>\n",
              "<style scoped>\n",
              "    .dataframe tbody tr th:only-of-type {\n",
              "        vertical-align: middle;\n",
              "    }\n",
              "\n",
              "    .dataframe tbody tr th {\n",
              "        vertical-align: top;\n",
              "    }\n",
              "\n",
              "    .dataframe thead th {\n",
              "        text-align: right;\n",
              "    }\n",
              "</style>\n",
              "<table border=\"1\" class=\"dataframe\">\n",
              "  <thead>\n",
              "    <tr style=\"text-align: right;\">\n",
              "      <th></th>\n",
              "      <th>proportion</th>\n",
              "    </tr>\n",
              "    <tr>\n",
              "      <th>is_fraud</th>\n",
              "      <th></th>\n",
              "    </tr>\n",
              "  </thead>\n",
              "  <tbody>\n",
              "    <tr>\n",
              "      <th>0</th>\n",
              "      <td>0.5</td>\n",
              "    </tr>\n",
              "    <tr>\n",
              "      <th>1</th>\n",
              "      <td>0.5</td>\n",
              "    </tr>\n",
              "  </tbody>\n",
              "</table>\n",
              "</div><br><label><b>dtype:</b> float64</label>"
            ]
          },
          "metadata": {},
          "execution_count": 35
        }
      ]
    },
    {
      "cell_type": "code",
      "source": [
        "dmatrix_train = xgb.DMatrix(data=X_train, label=y_train)\n",
        "dmatrix_test = xgb.DMatrix(data=X_test,label=y_test)"
      ],
      "metadata": {
        "id": "5QE_ZRv2FNjR"
      },
      "execution_count": null,
      "outputs": []
    },
    {
      "cell_type": "code",
      "source": [
        "def objective(trial, dtrain, dvalid):\n",
        "    param = {\n",
        "        \"verbosity\": 0,\n",
        "        \"objective\": \"binary:logistic\",\n",
        "        # use exact for small dataset.\n",
        "        \"tree_method\": \"exact\",\n",
        "        # defines booster, gblinear for linear functions.\n",
        "        \"booster\": trial.suggest_categorical(\"booster\", [\"gbtree\", \"gblinear\", \"dart\"]),\n",
        "        # L2 regularization weight.\n",
        "        \"lambda\": trial.suggest_float(\"lambda\", 1e-8, 1.0, log=True),\n",
        "        # L1 regularization weight.\n",
        "        \"alpha\": trial.suggest_float(\"alpha\", 1e-8, 1.0, log=True),\n",
        "        # sampling ratio for training data.\n",
        "        \"subsample\": trial.suggest_float(\"subsample\", 0.2, 1.0),\n",
        "        # sampling according to each tree.\n",
        "        \"colsample_bytree\": trial.suggest_float(\"colsample_bytree\", 0.2, 1.0),\n",
        "    }\n",
        "\n",
        "    if param[\"booster\"] in [\"gbtree\", \"dart\"]:\n",
        "        # maximum depth of the tree, signifies complexity of the tree.\n",
        "        param[\"max_depth\"] = trial.suggest_int(\"max_depth\", 3, 9, step=2)\n",
        "        # minimum child weight, larger the term more conservative the tree.\n",
        "        param[\"min_child_weight\"] = trial.suggest_int(\"min_child_weight\", 2, 10)\n",
        "        param[\"eta\"] = trial.suggest_float(\"eta\", 1e-8, 1.0, log=True)\n",
        "        # defines how selective algorithm is.\n",
        "        param[\"gamma\"] = trial.suggest_float(\"gamma\", 1e-8, 1.0, log=True)\n",
        "        param[\"grow_policy\"] = trial.suggest_categorical(\"grow_policy\", [\"depthwise\", \"lossguide\"])\n",
        "\n",
        "    if param[\"booster\"] == \"dart\":\n",
        "        param[\"sample_type\"] = trial.suggest_categorical(\"sample_type\", [\"uniform\", \"weighted\"])\n",
        "        param[\"normalize_type\"] = trial.suggest_categorical(\"normalize_type\", [\"tree\", \"forest\"])\n",
        "        param[\"rate_drop\"] = trial.suggest_float(\"rate_drop\", 1e-8, 1.0, log=True)\n",
        "        param[\"skip_drop\"] = trial.suggest_float(\"skip_drop\", 1e-8, 1.0, log=True)\n",
        "\n",
        "    bst = xgb.train(param, dtrain)\n",
        "    preds = bst.predict(dvalid)\n",
        "    pred_labels = np.rint(preds)\n",
        "    accuracy = sklearn.metrics.accuracy_score(y_test, pred_labels)\n",
        "    return accuracy"
      ],
      "metadata": {
        "id": "rHmzJe35zXls"
      },
      "execution_count": null,
      "outputs": []
    },
    {
      "cell_type": "code",
      "source": [
        "study = optuna.create_study(direction=\"maximize\")\n",
        "study.optimize(lambda trial: objective(trial,dmatrix_train, dmatrix_test ), n_trials=100, timeout=600)"
      ],
      "metadata": {
        "colab": {
          "base_uri": "https://localhost:8080/"
        },
        "id": "Abe617HY8h7h",
        "outputId": "339bedf0-b9fc-411d-c178-283eb2f07521"
      },
      "execution_count": null,
      "outputs": [
        {
          "output_type": "stream",
          "name": "stderr",
          "text": [
            "[I 2025-06-16 09:01:02,975] A new study created in memory with name: no-name-5dabe8e7-6184-47cd-9ce1-6628cb2258ed\n",
            "2025/06/16 09:01:03 INFO mlflow.utils.autologging_utils: Created MLflow autologging run with ID '0cfa02f5676c41aa87ff8db084552949', which will track hyperparameters, performance metrics, model artifacts, and lineage information for the current xgboost workflow\n",
            "2025/06/16 09:01:03 WARNING mlflow.utils.autologging_utils: MLflow autologging encountered a warning: \"/usr/local/lib/python3.11/dist-packages/mlflow/types/utils.py:452: UserWarning: Hint: Inferred schema contains integer column(s). Integer columns in Python cannot represent missing values. If your input data contains missing values at inference time, it will be encoded as floats and will cause a schema enforcement error. The best way to avoid this problem is to infer the model schema based on a realistic data sample (training dataset) that includes missing values. Alternatively, you can declare integer columns as doubles (float64) whenever these columns may have missing values. See `Handling Integers With Missing Values <https://www.mlflow.org/docs/latest/models.html#handling-integers-with-missing-values>`_ for more details.\"\n",
            "2025/06/16 09:01:03 WARNING mlflow.models.model: `artifact_path` is deprecated. Please use `name` instead.\n",
            "[I 2025-06-16 09:01:09,981] Trial 0 finished with value: 0.8965364120781527 and parameters: {'booster': 'dart', 'lambda': 1.1105903265350852e-06, 'alpha': 2.5074522145636967e-08, 'subsample': 0.6139092880396293, 'colsample_bytree': 0.5560728445718881, 'max_depth': 5, 'min_child_weight': 9, 'eta': 0.06878126131433494, 'gamma': 0.010380252869581942, 'grow_policy': 'depthwise', 'sample_type': 'uniform', 'normalize_type': 'tree', 'rate_drop': 1.706433061241863e-07, 'skip_drop': 1.2411959836454243e-06}. Best is trial 0 with value: 0.8965364120781527.\n"
          ]
        },
        {
          "output_type": "stream",
          "name": "stdout",
          "text": [
            "🏃 View run loud-bird-605 at: https://218d-35-247-53-211.ngrok-free.app/#/experiments/474008413382543543/runs/0cfa02f5676c41aa87ff8db084552949\n",
            "🧪 View experiment at: https://218d-35-247-53-211.ngrok-free.app/#/experiments/474008413382543543\n"
          ]
        },
        {
          "output_type": "stream",
          "name": "stderr",
          "text": [
            "2025/06/16 09:01:10 INFO mlflow.utils.autologging_utils: Created MLflow autologging run with ID '593de230dc89402cae55febd9f0bc6b9', which will track hyperparameters, performance metrics, model artifacts, and lineage information for the current xgboost workflow\n",
            "2025/06/16 09:01:10 WARNING mlflow.utils.autologging_utils: MLflow autologging encountered a warning: \"/usr/local/lib/python3.11/dist-packages/mlflow/types/utils.py:452: UserWarning: Hint: Inferred schema contains integer column(s). Integer columns in Python cannot represent missing values. If your input data contains missing values at inference time, it will be encoded as floats and will cause a schema enforcement error. The best way to avoid this problem is to infer the model schema based on a realistic data sample (training dataset) that includes missing values. Alternatively, you can declare integer columns as doubles (float64) whenever these columns may have missing values. See `Handling Integers With Missing Values <https://www.mlflow.org/docs/latest/models.html#handling-integers-with-missing-values>`_ for more details.\"\n",
            "2025/06/16 09:01:10 WARNING mlflow.models.model: `artifact_path` is deprecated. Please use `name` instead.\n",
            "[I 2025-06-16 09:01:17,961] Trial 1 finished with value: 0.8472468916518651 and parameters: {'booster': 'gblinear', 'lambda': 0.09311154375039808, 'alpha': 0.0001774234570964425, 'subsample': 0.24752108732989192, 'colsample_bytree': 0.3239650875365609}. Best is trial 0 with value: 0.8965364120781527.\n"
          ]
        },
        {
          "output_type": "stream",
          "name": "stdout",
          "text": [
            "🏃 View run invincible-hog-221 at: https://218d-35-247-53-211.ngrok-free.app/#/experiments/474008413382543543/runs/593de230dc89402cae55febd9f0bc6b9\n",
            "🧪 View experiment at: https://218d-35-247-53-211.ngrok-free.app/#/experiments/474008413382543543\n"
          ]
        },
        {
          "output_type": "stream",
          "name": "stderr",
          "text": [
            "2025/06/16 09:01:18 INFO mlflow.utils.autologging_utils: Created MLflow autologging run with ID '06b3adad12164de696ea83119d8ed6ab', which will track hyperparameters, performance metrics, model artifacts, and lineage information for the current xgboost workflow\n",
            "2025/06/16 09:01:18 WARNING mlflow.utils.autologging_utils: MLflow autologging encountered a warning: \"/usr/local/lib/python3.11/dist-packages/mlflow/types/utils.py:452: UserWarning: Hint: Inferred schema contains integer column(s). Integer columns in Python cannot represent missing values. If your input data contains missing values at inference time, it will be encoded as floats and will cause a schema enforcement error. The best way to avoid this problem is to infer the model schema based on a realistic data sample (training dataset) that includes missing values. Alternatively, you can declare integer columns as doubles (float64) whenever these columns may have missing values. See `Handling Integers With Missing Values <https://www.mlflow.org/docs/latest/models.html#handling-integers-with-missing-values>`_ for more details.\"\n",
            "2025/06/16 09:01:18 WARNING mlflow.models.model: `artifact_path` is deprecated. Please use `name` instead.\n"
          ]
        },
        {
          "output_type": "stream",
          "name": "stdout",
          "text": [
            "🏃 View run mysterious-roo-327 at: https://218d-35-247-53-211.ngrok-free.app/#/experiments/474008413382543543/runs/06b3adad12164de696ea83119d8ed6ab\n",
            "🧪 View experiment at: https://218d-35-247-53-211.ngrok-free.app/#/experiments/474008413382543543\n"
          ]
        },
        {
          "output_type": "stream",
          "name": "stderr",
          "text": [
            "[I 2025-06-16 09:01:24,908] Trial 2 finished with value: 0.8758880994671403 and parameters: {'booster': 'gbtree', 'lambda': 0.0573443128422169, 'alpha': 1.1879754529893421e-08, 'subsample': 0.5646547702974956, 'colsample_bytree': 0.6170759947804201, 'max_depth': 3, 'min_child_weight': 3, 'eta': 2.640852645341445e-07, 'gamma': 0.00021173268209929996, 'grow_policy': 'lossguide'}. Best is trial 0 with value: 0.8965364120781527.\n",
            "2025/06/16 09:01:25 INFO mlflow.utils.autologging_utils: Created MLflow autologging run with ID 'd205fdd150a341438c13c433ba63a5e7', which will track hyperparameters, performance metrics, model artifacts, and lineage information for the current xgboost workflow\n",
            "2025/06/16 09:01:25 WARNING mlflow.utils.autologging_utils: MLflow autologging encountered a warning: \"/usr/local/lib/python3.11/dist-packages/mlflow/types/utils.py:452: UserWarning: Hint: Inferred schema contains integer column(s). Integer columns in Python cannot represent missing values. If your input data contains missing values at inference time, it will be encoded as floats and will cause a schema enforcement error. The best way to avoid this problem is to infer the model schema based on a realistic data sample (training dataset) that includes missing values. Alternatively, you can declare integer columns as doubles (float64) whenever these columns may have missing values. See `Handling Integers With Missing Values <https://www.mlflow.org/docs/latest/models.html#handling-integers-with-missing-values>`_ for more details.\"\n",
            "2025/06/16 09:01:25 WARNING mlflow.models.model: `artifact_path` is deprecated. Please use `name` instead.\n",
            "[I 2025-06-16 09:01:32,931] Trial 3 finished with value: 0.8967584369449378 and parameters: {'booster': 'gbtree', 'lambda': 0.026216121773963184, 'alpha': 0.006838623780930073, 'subsample': 0.9727726709885862, 'colsample_bytree': 0.5369332444959276, 'max_depth': 7, 'min_child_weight': 2, 'eta': 3.087328339340958e-07, 'gamma': 5.407700678387699e-08, 'grow_policy': 'depthwise'}. Best is trial 3 with value: 0.8967584369449378.\n"
          ]
        },
        {
          "output_type": "stream",
          "name": "stdout",
          "text": [
            "🏃 View run dashing-shrike-232 at: https://218d-35-247-53-211.ngrok-free.app/#/experiments/474008413382543543/runs/d205fdd150a341438c13c433ba63a5e7\n",
            "🧪 View experiment at: https://218d-35-247-53-211.ngrok-free.app/#/experiments/474008413382543543\n"
          ]
        },
        {
          "output_type": "stream",
          "name": "stderr",
          "text": [
            "2025/06/16 09:01:33 INFO mlflow.utils.autologging_utils: Created MLflow autologging run with ID '8d10b42395e94531b0db642b18f83da9', which will track hyperparameters, performance metrics, model artifacts, and lineage information for the current xgboost workflow\n",
            "2025/06/16 09:01:33 WARNING mlflow.utils.autologging_utils: MLflow autologging encountered a warning: \"/usr/local/lib/python3.11/dist-packages/mlflow/types/utils.py:452: UserWarning: Hint: Inferred schema contains integer column(s). Integer columns in Python cannot represent missing values. If your input data contains missing values at inference time, it will be encoded as floats and will cause a schema enforcement error. The best way to avoid this problem is to infer the model schema based on a realistic data sample (training dataset) that includes missing values. Alternatively, you can declare integer columns as doubles (float64) whenever these columns may have missing values. See `Handling Integers With Missing Values <https://www.mlflow.org/docs/latest/models.html#handling-integers-with-missing-values>`_ for more details.\"\n",
            "2025/06/16 09:01:33 WARNING mlflow.models.model: `artifact_path` is deprecated. Please use `name` instead.\n"
          ]
        },
        {
          "output_type": "stream",
          "name": "stdout",
          "text": [
            "🏃 View run exultant-whale-350 at: https://218d-35-247-53-211.ngrok-free.app/#/experiments/474008413382543543/runs/8d10b42395e94531b0db642b18f83da9\n",
            "🧪 View experiment at: https://218d-35-247-53-211.ngrok-free.app/#/experiments/474008413382543543\n"
          ]
        },
        {
          "output_type": "stream",
          "name": "stderr",
          "text": [
            "[I 2025-06-16 09:01:40,090] Trial 4 finished with value: 0.8796625222024866 and parameters: {'booster': 'dart', 'lambda': 1.3790268370095666e-05, 'alpha': 5.687370179828561e-07, 'subsample': 0.764509343445611, 'colsample_bytree': 0.4044238967426361, 'max_depth': 3, 'min_child_weight': 10, 'eta': 9.942286981486042e-05, 'gamma': 0.00016375945489108175, 'grow_policy': 'lossguide', 'sample_type': 'weighted', 'normalize_type': 'tree', 'rate_drop': 1.9673593986274733e-05, 'skip_drop': 3.553440725686412e-08}. Best is trial 3 with value: 0.8967584369449378.\n",
            "2025/06/16 09:01:40 INFO mlflow.utils.autologging_utils: Created MLflow autologging run with ID 'b0d2f793fab1458f81d044b064199b5a', which will track hyperparameters, performance metrics, model artifacts, and lineage information for the current xgboost workflow\n",
            "2025/06/16 09:01:40 WARNING mlflow.utils.autologging_utils: MLflow autologging encountered a warning: \"/usr/local/lib/python3.11/dist-packages/mlflow/types/utils.py:452: UserWarning: Hint: Inferred schema contains integer column(s). Integer columns in Python cannot represent missing values. If your input data contains missing values at inference time, it will be encoded as floats and will cause a schema enforcement error. The best way to avoid this problem is to infer the model schema based on a realistic data sample (training dataset) that includes missing values. Alternatively, you can declare integer columns as doubles (float64) whenever these columns may have missing values. See `Handling Integers With Missing Values <https://www.mlflow.org/docs/latest/models.html#handling-integers-with-missing-values>`_ for more details.\"\n",
            "2025/06/16 09:01:40 WARNING mlflow.models.model: `artifact_path` is deprecated. Please use `name` instead.\n",
            "[I 2025-06-16 09:01:47,189] Trial 5 finished with value: 0.8465808170515098 and parameters: {'booster': 'gblinear', 'lambda': 2.1598768070770123e-06, 'alpha': 6.755641563194261e-06, 'subsample': 0.3667010402208745, 'colsample_bytree': 0.5468375594250823}. Best is trial 3 with value: 0.8967584369449378.\n"
          ]
        },
        {
          "output_type": "stream",
          "name": "stdout",
          "text": [
            "🏃 View run lyrical-dolphin-526 at: https://218d-35-247-53-211.ngrok-free.app/#/experiments/474008413382543543/runs/b0d2f793fab1458f81d044b064199b5a\n",
            "🧪 View experiment at: https://218d-35-247-53-211.ngrok-free.app/#/experiments/474008413382543543\n"
          ]
        },
        {
          "output_type": "stream",
          "name": "stderr",
          "text": [
            "2025/06/16 09:01:47 INFO mlflow.utils.autologging_utils: Created MLflow autologging run with ID '0bb00b5875bb4d9fa90bf5c76168cf21', which will track hyperparameters, performance metrics, model artifacts, and lineage information for the current xgboost workflow\n",
            "2025/06/16 09:01:47 WARNING mlflow.utils.autologging_utils: MLflow autologging encountered a warning: \"/usr/local/lib/python3.11/dist-packages/mlflow/types/utils.py:452: UserWarning: Hint: Inferred schema contains integer column(s). Integer columns in Python cannot represent missing values. If your input data contains missing values at inference time, it will be encoded as floats and will cause a schema enforcement error. The best way to avoid this problem is to infer the model schema based on a realistic data sample (training dataset) that includes missing values. Alternatively, you can declare integer columns as doubles (float64) whenever these columns may have missing values. See `Handling Integers With Missing Values <https://www.mlflow.org/docs/latest/models.html#handling-integers-with-missing-values>`_ for more details.\"\n",
            "2025/06/16 09:01:47 WARNING mlflow.models.model: `artifact_path` is deprecated. Please use `name` instead.\n"
          ]
        },
        {
          "output_type": "stream",
          "name": "stdout",
          "text": [
            "🏃 View run mysterious-bug-449 at: https://218d-35-247-53-211.ngrok-free.app/#/experiments/474008413382543543/runs/0bb00b5875bb4d9fa90bf5c76168cf21\n",
            "🧪 View experiment at: https://218d-35-247-53-211.ngrok-free.app/#/experiments/474008413382543543\n"
          ]
        },
        {
          "output_type": "stream",
          "name": "stderr",
          "text": [
            "[I 2025-06-16 09:01:54,472] Trial 6 finished with value: 0.8980905861456483 and parameters: {'booster': 'dart', 'lambda': 0.19669945580489212, 'alpha': 1.954498195996105e-07, 'subsample': 0.8357099818478844, 'colsample_bytree': 0.7729955607761818, 'max_depth': 5, 'min_child_weight': 6, 'eta': 0.021168339497587032, 'gamma': 0.10836387757578737, 'grow_policy': 'lossguide', 'sample_type': 'weighted', 'normalize_type': 'forest', 'rate_drop': 0.003019575545149758, 'skip_drop': 0.5779686538033064}. Best is trial 6 with value: 0.8980905861456483.\n",
            "2025/06/16 09:01:54 INFO mlflow.utils.autologging_utils: Created MLflow autologging run with ID '2fe00a11d04b4f3aa87c08d36e17d788', which will track hyperparameters, performance metrics, model artifacts, and lineage information for the current xgboost workflow\n",
            "2025/06/16 09:01:55 WARNING mlflow.utils.autologging_utils: MLflow autologging encountered a warning: \"/usr/local/lib/python3.11/dist-packages/mlflow/types/utils.py:452: UserWarning: Hint: Inferred schema contains integer column(s). Integer columns in Python cannot represent missing values. If your input data contains missing values at inference time, it will be encoded as floats and will cause a schema enforcement error. The best way to avoid this problem is to infer the model schema based on a realistic data sample (training dataset) that includes missing values. Alternatively, you can declare integer columns as doubles (float64) whenever these columns may have missing values. See `Handling Integers With Missing Values <https://www.mlflow.org/docs/latest/models.html#handling-integers-with-missing-values>`_ for more details.\"\n",
            "2025/06/16 09:01:55 WARNING mlflow.models.model: `artifact_path` is deprecated. Please use `name` instead.\n",
            "[I 2025-06-16 09:02:01,514] Trial 7 finished with value: 0.8769982238010657 and parameters: {'booster': 'gbtree', 'lambda': 3.0162918764826605e-05, 'alpha': 0.0004320755156466055, 'subsample': 0.7985717090044477, 'colsample_bytree': 0.5851890137625542, 'max_depth': 3, 'min_child_weight': 4, 'eta': 3.5655012648586906e-06, 'gamma': 0.005622343741560039, 'grow_policy': 'lossguide'}. Best is trial 6 with value: 0.8980905861456483.\n"
          ]
        },
        {
          "output_type": "stream",
          "name": "stdout",
          "text": [
            "🏃 View run useful-fowl-57 at: https://218d-35-247-53-211.ngrok-free.app/#/experiments/474008413382543543/runs/2fe00a11d04b4f3aa87c08d36e17d788\n",
            "🧪 View experiment at: https://218d-35-247-53-211.ngrok-free.app/#/experiments/474008413382543543\n"
          ]
        },
        {
          "output_type": "stream",
          "name": "stderr",
          "text": [
            "2025/06/16 09:02:01 INFO mlflow.utils.autologging_utils: Created MLflow autologging run with ID '88ede9f994b44f28b6127a248712dab6', which will track hyperparameters, performance metrics, model artifacts, and lineage information for the current xgboost workflow\n",
            "2025/06/16 09:02:02 WARNING mlflow.utils.autologging_utils: MLflow autologging encountered a warning: \"/usr/local/lib/python3.11/dist-packages/mlflow/types/utils.py:452: UserWarning: Hint: Inferred schema contains integer column(s). Integer columns in Python cannot represent missing values. If your input data contains missing values at inference time, it will be encoded as floats and will cause a schema enforcement error. The best way to avoid this problem is to infer the model schema based on a realistic data sample (training dataset) that includes missing values. Alternatively, you can declare integer columns as doubles (float64) whenever these columns may have missing values. See `Handling Integers With Missing Values <https://www.mlflow.org/docs/latest/models.html#handling-integers-with-missing-values>`_ for more details.\"\n",
            "2025/06/16 09:02:02 WARNING mlflow.models.model: `artifact_path` is deprecated. Please use `name` instead.\n",
            "[I 2025-06-16 09:02:08,910] Trial 8 finished with value: 0.8907637655417406 and parameters: {'booster': 'dart', 'lambda': 0.058420361223272835, 'alpha': 2.1043632368735672e-05, 'subsample': 0.9637411853657376, 'colsample_bytree': 0.8586727016597813, 'max_depth': 5, 'min_child_weight': 6, 'eta': 0.004506506632816712, 'gamma': 0.0021371676566864753, 'grow_policy': 'depthwise', 'sample_type': 'uniform', 'normalize_type': 'forest', 'rate_drop': 1.1794235206423019e-05, 'skip_drop': 0.7335479274966649}. Best is trial 6 with value: 0.8980905861456483.\n"
          ]
        },
        {
          "output_type": "stream",
          "name": "stdout",
          "text": [
            "🏃 View run honorable-fish-628 at: https://218d-35-247-53-211.ngrok-free.app/#/experiments/474008413382543543/runs/88ede9f994b44f28b6127a248712dab6\n",
            "🧪 View experiment at: https://218d-35-247-53-211.ngrok-free.app/#/experiments/474008413382543543\n"
          ]
        },
        {
          "output_type": "stream",
          "name": "stderr",
          "text": [
            "2025/06/16 09:02:09 INFO mlflow.utils.autologging_utils: Created MLflow autologging run with ID '682b72c77d954d47b693f0680a85efe3', which will track hyperparameters, performance metrics, model artifacts, and lineage information for the current xgboost workflow\n",
            "2025/06/16 09:02:09 WARNING mlflow.utils.autologging_utils: MLflow autologging encountered a warning: \"/usr/local/lib/python3.11/dist-packages/mlflow/types/utils.py:452: UserWarning: Hint: Inferred schema contains integer column(s). Integer columns in Python cannot represent missing values. If your input data contains missing values at inference time, it will be encoded as floats and will cause a schema enforcement error. The best way to avoid this problem is to infer the model schema based on a realistic data sample (training dataset) that includes missing values. Alternatively, you can declare integer columns as doubles (float64) whenever these columns may have missing values. See `Handling Integers With Missing Values <https://www.mlflow.org/docs/latest/models.html#handling-integers-with-missing-values>`_ for more details.\"\n",
            "2025/06/16 09:02:09 WARNING mlflow.models.model: `artifact_path` is deprecated. Please use `name` instead.\n",
            "[I 2025-06-16 09:02:15,905] Trial 9 finished with value: 0.8470248667850799 and parameters: {'booster': 'gblinear', 'lambda': 0.06576051110295489, 'alpha': 6.853693980501834e-08, 'subsample': 0.5436408771495944, 'colsample_bytree': 0.8057116489723923}. Best is trial 6 with value: 0.8980905861456483.\n"
          ]
        },
        {
          "output_type": "stream",
          "name": "stdout",
          "text": [
            "🏃 View run bittersweet-fowl-877 at: https://218d-35-247-53-211.ngrok-free.app/#/experiments/474008413382543543/runs/682b72c77d954d47b693f0680a85efe3\n",
            "🧪 View experiment at: https://218d-35-247-53-211.ngrok-free.app/#/experiments/474008413382543543\n"
          ]
        },
        {
          "output_type": "stream",
          "name": "stderr",
          "text": [
            "2025/06/16 09:02:16 INFO mlflow.utils.autologging_utils: Created MLflow autologging run with ID 'b73c838bbac44a0c813f4725da66fd07', which will track hyperparameters, performance metrics, model artifacts, and lineage information for the current xgboost workflow\n",
            "2025/06/16 09:02:16 WARNING mlflow.utils.autologging_utils: MLflow autologging encountered a warning: \"/usr/local/lib/python3.11/dist-packages/mlflow/types/utils.py:452: UserWarning: Hint: Inferred schema contains integer column(s). Integer columns in Python cannot represent missing values. If your input data contains missing values at inference time, it will be encoded as floats and will cause a schema enforcement error. The best way to avoid this problem is to infer the model schema based on a realistic data sample (training dataset) that includes missing values. Alternatively, you can declare integer columns as doubles (float64) whenever these columns may have missing values. See `Handling Integers With Missing Values <https://www.mlflow.org/docs/latest/models.html#handling-integers-with-missing-values>`_ for more details.\"\n",
            "2025/06/16 09:02:16 WARNING mlflow.models.model: `artifact_path` is deprecated. Please use `name` instead.\n",
            "[I 2025-06-16 09:02:23,721] Trial 10 finished with value: 0.9016429840142096 and parameters: {'booster': 'dart', 'lambda': 1.8277423780348672e-08, 'alpha': 0.019214175182135123, 'subsample': 0.7869916753935494, 'colsample_bytree': 0.9674355047055726, 'max_depth': 9, 'min_child_weight': 7, 'eta': 0.5946428681802302, 'gamma': 0.4411921982618034, 'grow_policy': 'lossguide', 'sample_type': 'weighted', 'normalize_type': 'forest', 'rate_drop': 0.6664676361176817, 'skip_drop': 0.509070483437567}. Best is trial 10 with value: 0.9016429840142096.\n"
          ]
        },
        {
          "output_type": "stream",
          "name": "stdout",
          "text": [
            "🏃 View run fun-skink-342 at: https://218d-35-247-53-211.ngrok-free.app/#/experiments/474008413382543543/runs/b73c838bbac44a0c813f4725da66fd07\n",
            "🧪 View experiment at: https://218d-35-247-53-211.ngrok-free.app/#/experiments/474008413382543543\n"
          ]
        },
        {
          "output_type": "stream",
          "name": "stderr",
          "text": [
            "2025/06/16 09:02:23 INFO mlflow.utils.autologging_utils: Created MLflow autologging run with ID '663d26f6a22c4edebd1252b1b4b19cfa', which will track hyperparameters, performance metrics, model artifacts, and lineage information for the current xgboost workflow\n",
            "2025/06/16 09:02:24 WARNING mlflow.utils.autologging_utils: MLflow autologging encountered a warning: \"/usr/local/lib/python3.11/dist-packages/mlflow/types/utils.py:452: UserWarning: Hint: Inferred schema contains integer column(s). Integer columns in Python cannot represent missing values. If your input data contains missing values at inference time, it will be encoded as floats and will cause a schema enforcement error. The best way to avoid this problem is to infer the model schema based on a realistic data sample (training dataset) that includes missing values. Alternatively, you can declare integer columns as doubles (float64) whenever these columns may have missing values. See `Handling Integers With Missing Values <https://www.mlflow.org/docs/latest/models.html#handling-integers-with-missing-values>`_ for more details.\"\n",
            "2025/06/16 09:02:24 WARNING mlflow.models.model: `artifact_path` is deprecated. Please use `name` instead.\n",
            "[I 2025-06-16 09:02:30,851] Trial 11 finished with value: 0.9038632326820604 and parameters: {'booster': 'dart', 'lambda': 1.2692168847925657e-08, 'alpha': 0.3381904619022946, 'subsample': 0.7976581634533333, 'colsample_bytree': 0.9808041997477009, 'max_depth': 9, 'min_child_weight': 7, 'eta': 0.8806108827809211, 'gamma': 0.8152743935909882, 'grow_policy': 'lossguide', 'sample_type': 'weighted', 'normalize_type': 'forest', 'rate_drop': 0.9211131251373176, 'skip_drop': 0.6596321484060699}. Best is trial 11 with value: 0.9038632326820604.\n"
          ]
        },
        {
          "output_type": "stream",
          "name": "stdout",
          "text": [
            "🏃 View run adorable-bat-444 at: https://218d-35-247-53-211.ngrok-free.app/#/experiments/474008413382543543/runs/663d26f6a22c4edebd1252b1b4b19cfa\n",
            "🧪 View experiment at: https://218d-35-247-53-211.ngrok-free.app/#/experiments/474008413382543543\n"
          ]
        },
        {
          "output_type": "stream",
          "name": "stderr",
          "text": [
            "2025/06/16 09:02:31 INFO mlflow.utils.autologging_utils: Created MLflow autologging run with ID '568f747d55c44df6b97fc6a1b3f26c35', which will track hyperparameters, performance metrics, model artifacts, and lineage information for the current xgboost workflow\n",
            "2025/06/16 09:02:31 WARNING mlflow.utils.autologging_utils: MLflow autologging encountered a warning: \"/usr/local/lib/python3.11/dist-packages/mlflow/types/utils.py:452: UserWarning: Hint: Inferred schema contains integer column(s). Integer columns in Python cannot represent missing values. If your input data contains missing values at inference time, it will be encoded as floats and will cause a schema enforcement error. The best way to avoid this problem is to infer the model schema based on a realistic data sample (training dataset) that includes missing values. Alternatively, you can declare integer columns as doubles (float64) whenever these columns may have missing values. See `Handling Integers With Missing Values <https://www.mlflow.org/docs/latest/models.html#handling-integers-with-missing-values>`_ for more details.\"\n",
            "2025/06/16 09:02:31 WARNING mlflow.models.model: `artifact_path` is deprecated. Please use `name` instead.\n",
            "[I 2025-06-16 09:02:38,938] Trial 12 finished with value: 0.9025310834813499 and parameters: {'booster': 'dart', 'lambda': 1.3011113295907295e-08, 'alpha': 0.9416493061499414, 'subsample': 0.7012088771890259, 'colsample_bytree': 0.9952471965180799, 'max_depth': 9, 'min_child_weight': 8, 'eta': 0.6090451791265203, 'gamma': 0.3236948491451997, 'grow_policy': 'lossguide', 'sample_type': 'weighted', 'normalize_type': 'forest', 'rate_drop': 0.6818235448915196, 'skip_drop': 0.002603430967166264}. Best is trial 11 with value: 0.9038632326820604.\n"
          ]
        },
        {
          "output_type": "stream",
          "name": "stdout",
          "text": [
            "🏃 View run bright-shrew-341 at: https://218d-35-247-53-211.ngrok-free.app/#/experiments/474008413382543543/runs/568f747d55c44df6b97fc6a1b3f26c35\n",
            "🧪 View experiment at: https://218d-35-247-53-211.ngrok-free.app/#/experiments/474008413382543543\n"
          ]
        },
        {
          "output_type": "stream",
          "name": "stderr",
          "text": [
            "2025/06/16 09:02:39 INFO mlflow.utils.autologging_utils: Created MLflow autologging run with ID '6439161c74ef4e569893dd54ba7957fb', which will track hyperparameters, performance metrics, model artifacts, and lineage information for the current xgboost workflow\n",
            "2025/06/16 09:02:39 WARNING mlflow.utils.autologging_utils: MLflow autologging encountered a warning: \"/usr/local/lib/python3.11/dist-packages/mlflow/types/utils.py:452: UserWarning: Hint: Inferred schema contains integer column(s). Integer columns in Python cannot represent missing values. If your input data contains missing values at inference time, it will be encoded as floats and will cause a schema enforcement error. The best way to avoid this problem is to infer the model schema based on a realistic data sample (training dataset) that includes missing values. Alternatively, you can declare integer columns as doubles (float64) whenever these columns may have missing values. See `Handling Integers With Missing Values <https://www.mlflow.org/docs/latest/models.html#handling-integers-with-missing-values>`_ for more details.\"\n",
            "2025/06/16 09:02:39 WARNING mlflow.models.model: `artifact_path` is deprecated. Please use `name` instead.\n",
            "[I 2025-06-16 09:02:46,038] Trial 13 finished with value: 0.8985346358792184 and parameters: {'booster': 'dart', 'lambda': 4.94328507844741e-08, 'alpha': 0.7120245931012508, 'subsample': 0.636793232801443, 'colsample_bytree': 0.997454761763559, 'max_depth': 9, 'min_child_weight': 8, 'eta': 0.7844388653768224, 'gamma': 0.7255349145793767, 'grow_policy': 'lossguide', 'sample_type': 'weighted', 'normalize_type': 'forest', 'rate_drop': 0.706728143785695, 'skip_drop': 0.001135879264030387}. Best is trial 11 with value: 0.9038632326820604.\n"
          ]
        },
        {
          "output_type": "stream",
          "name": "stdout",
          "text": [
            "🏃 View run rumbling-rook-728 at: https://218d-35-247-53-211.ngrok-free.app/#/experiments/474008413382543543/runs/6439161c74ef4e569893dd54ba7957fb\n",
            "🧪 View experiment at: https://218d-35-247-53-211.ngrok-free.app/#/experiments/474008413382543543\n"
          ]
        },
        {
          "output_type": "stream",
          "name": "stderr",
          "text": [
            "2025/06/16 09:02:46 INFO mlflow.utils.autologging_utils: Created MLflow autologging run with ID '0db310369d9c4db69b71351d3e1d1a1d', which will track hyperparameters, performance metrics, model artifacts, and lineage information for the current xgboost workflow\n",
            "2025/06/16 09:02:46 WARNING mlflow.utils.autologging_utils: MLflow autologging encountered a warning: \"/usr/local/lib/python3.11/dist-packages/mlflow/types/utils.py:452: UserWarning: Hint: Inferred schema contains integer column(s). Integer columns in Python cannot represent missing values. If your input data contains missing values at inference time, it will be encoded as floats and will cause a schema enforcement error. The best way to avoid this problem is to infer the model schema based on a realistic data sample (training dataset) that includes missing values. Alternatively, you can declare integer columns as doubles (float64) whenever these columns may have missing values. See `Handling Integers With Missing Values <https://www.mlflow.org/docs/latest/models.html#handling-integers-with-missing-values>`_ for more details.\"\n",
            "2025/06/16 09:02:46 WARNING mlflow.models.model: `artifact_path` is deprecated. Please use `name` instead.\n",
            "[I 2025-06-16 09:02:54,427] Trial 14 finished with value: 0.9049733570159858 and parameters: {'booster': 'dart', 'lambda': 0.0008968693946259602, 'alpha': 0.640231196774617, 'subsample': 0.71047440562309, 'colsample_bytree': 0.891638118310015, 'max_depth': 9, 'min_child_weight': 8, 'eta': 0.0016343391428391342, 'gamma': 4.37043220661132e-07, 'grow_policy': 'lossguide', 'sample_type': 'weighted', 'normalize_type': 'forest', 'rate_drop': 0.005254984882073686, 'skip_drop': 0.0010388122521623358}. Best is trial 14 with value: 0.9049733570159858.\n"
          ]
        },
        {
          "output_type": "stream",
          "name": "stdout",
          "text": [
            "🏃 View run thoughtful-lamb-875 at: https://218d-35-247-53-211.ngrok-free.app/#/experiments/474008413382543543/runs/0db310369d9c4db69b71351d3e1d1a1d\n",
            "🧪 View experiment at: https://218d-35-247-53-211.ngrok-free.app/#/experiments/474008413382543543\n"
          ]
        },
        {
          "output_type": "stream",
          "name": "stderr",
          "text": [
            "2025/06/16 09:02:54 INFO mlflow.utils.autologging_utils: Created MLflow autologging run with ID 'b83f4f74a4d14d4894b0823a47be238e', which will track hyperparameters, performance metrics, model artifacts, and lineage information for the current xgboost workflow\n",
            "2025/06/16 09:02:55 WARNING mlflow.utils.autologging_utils: MLflow autologging encountered a warning: \"/usr/local/lib/python3.11/dist-packages/mlflow/types/utils.py:452: UserWarning: Hint: Inferred schema contains integer column(s). Integer columns in Python cannot represent missing values. If your input data contains missing values at inference time, it will be encoded as floats and will cause a schema enforcement error. The best way to avoid this problem is to infer the model schema based on a realistic data sample (training dataset) that includes missing values. Alternatively, you can declare integer columns as doubles (float64) whenever these columns may have missing values. See `Handling Integers With Missing Values <https://www.mlflow.org/docs/latest/models.html#handling-integers-with-missing-values>`_ for more details.\"\n",
            "2025/06/16 09:02:55 WARNING mlflow.models.model: `artifact_path` is deprecated. Please use `name` instead.\n",
            "[I 2025-06-16 09:03:01,547] Trial 15 finished with value: 0.9014209591474245 and parameters: {'booster': 'dart', 'lambda': 0.0008702629730181406, 'alpha': 0.060773130466428474, 'subsample': 0.43606411519410915, 'colsample_bytree': 0.8795733124617071, 'max_depth': 7, 'min_child_weight': 5, 'eta': 0.0004996334158594467, 'gamma': 7.011772179737606e-07, 'grow_policy': 'lossguide', 'sample_type': 'weighted', 'normalize_type': 'forest', 'rate_drop': 0.010508287833580661, 'skip_drop': 4.844308349652757e-05}. Best is trial 14 with value: 0.9049733570159858.\n"
          ]
        },
        {
          "output_type": "stream",
          "name": "stdout",
          "text": [
            "🏃 View run brawny-sheep-463 at: https://218d-35-247-53-211.ngrok-free.app/#/experiments/474008413382543543/runs/b83f4f74a4d14d4894b0823a47be238e\n",
            "🧪 View experiment at: https://218d-35-247-53-211.ngrok-free.app/#/experiments/474008413382543543\n"
          ]
        },
        {
          "output_type": "stream",
          "name": "stderr",
          "text": [
            "2025/06/16 09:03:01 INFO mlflow.utils.autologging_utils: Created MLflow autologging run with ID 'e22f9e6e174a4a7f92b685d95ecdf3fd', which will track hyperparameters, performance metrics, model artifacts, and lineage information for the current xgboost workflow\n",
            "2025/06/16 09:03:02 WARNING mlflow.utils.autologging_utils: MLflow autologging encountered a warning: \"/usr/local/lib/python3.11/dist-packages/mlflow/types/utils.py:452: UserWarning: Hint: Inferred schema contains integer column(s). Integer columns in Python cannot represent missing values. If your input data contains missing values at inference time, it will be encoded as floats and will cause a schema enforcement error. The best way to avoid this problem is to infer the model schema based on a realistic data sample (training dataset) that includes missing values. Alternatively, you can declare integer columns as doubles (float64) whenever these columns may have missing values. See `Handling Integers With Missing Values <https://www.mlflow.org/docs/latest/models.html#handling-integers-with-missing-values>`_ for more details.\"\n",
            "2025/06/16 09:03:02 WARNING mlflow.models.model: `artifact_path` is deprecated. Please use `name` instead.\n",
            "[I 2025-06-16 09:03:10,038] Trial 16 finished with value: 0.9009769094138543 and parameters: {'booster': 'dart', 'lambda': 0.0008366925262636119, 'alpha': 0.004006358708755793, 'subsample': 0.8744417575702363, 'colsample_bytree': 0.697408747978457, 'max_depth': 7, 'min_child_weight': 8, 'eta': 2.900274836264203e-05, 'gamma': 4.607610375867089e-06, 'grow_policy': 'lossguide', 'sample_type': 'weighted', 'normalize_type': 'forest', 'rate_drop': 0.004269316984097491, 'skip_drop': 0.011041266725788437}. Best is trial 14 with value: 0.9049733570159858.\n"
          ]
        },
        {
          "output_type": "stream",
          "name": "stdout",
          "text": [
            "🏃 View run marvelous-midge-954 at: https://218d-35-247-53-211.ngrok-free.app/#/experiments/474008413382543543/runs/e22f9e6e174a4a7f92b685d95ecdf3fd\n",
            "🧪 View experiment at: https://218d-35-247-53-211.ngrok-free.app/#/experiments/474008413382543543\n"
          ]
        },
        {
          "output_type": "stream",
          "name": "stderr",
          "text": [
            "2025/06/16 09:03:10 INFO mlflow.utils.autologging_utils: Created MLflow autologging run with ID '3d967011adeb45ba814f013456894f53', which will track hyperparameters, performance metrics, model artifacts, and lineage information for the current xgboost workflow\n",
            "2025/06/16 09:03:10 WARNING mlflow.utils.autologging_utils: MLflow autologging encountered a warning: \"/usr/local/lib/python3.11/dist-packages/mlflow/types/utils.py:452: UserWarning: Hint: Inferred schema contains integer column(s). Integer columns in Python cannot represent missing values. If your input data contains missing values at inference time, it will be encoded as floats and will cause a schema enforcement error. The best way to avoid this problem is to infer the model schema based on a realistic data sample (training dataset) that includes missing values. Alternatively, you can declare integer columns as doubles (float64) whenever these columns may have missing values. See `Handling Integers With Missing Values <https://www.mlflow.org/docs/latest/models.html#handling-integers-with-missing-values>`_ for more details.\"\n",
            "2025/06/16 09:03:10 WARNING mlflow.models.model: `artifact_path` is deprecated. Please use `name` instead.\n",
            "[I 2025-06-16 09:03:17,191] Trial 17 finished with value: 0.9005328596802842 and parameters: {'booster': 'dart', 'lambda': 0.001751533979714893, 'alpha': 0.1649416177582078, 'subsample': 0.7029550782567291, 'colsample_bytree': 0.9114485674380538, 'max_depth': 9, 'min_child_weight': 10, 'eta': 0.0014085047471088185, 'gamma': 3.576853585460961e-06, 'grow_policy': 'depthwise', 'sample_type': 'uniform', 'normalize_type': 'tree', 'rate_drop': 0.017157111901047562, 'skip_drop': 3.2976076036637114e-05}. Best is trial 14 with value: 0.9049733570159858.\n"
          ]
        },
        {
          "output_type": "stream",
          "name": "stdout",
          "text": [
            "🏃 View run auspicious-rat-859 at: https://218d-35-247-53-211.ngrok-free.app/#/experiments/474008413382543543/runs/3d967011adeb45ba814f013456894f53\n",
            "🧪 View experiment at: https://218d-35-247-53-211.ngrok-free.app/#/experiments/474008413382543543\n"
          ]
        },
        {
          "output_type": "stream",
          "name": "stderr",
          "text": [
            "2025/06/16 09:03:17 INFO mlflow.utils.autologging_utils: Created MLflow autologging run with ID '2fa8c76a63a7472d9aad4f8a741645ca', which will track hyperparameters, performance metrics, model artifacts, and lineage information for the current xgboost workflow\n",
            "2025/06/16 09:03:17 WARNING mlflow.utils.autologging_utils: MLflow autologging encountered a warning: \"/usr/local/lib/python3.11/dist-packages/mlflow/types/utils.py:452: UserWarning: Hint: Inferred schema contains integer column(s). Integer columns in Python cannot represent missing values. If your input data contains missing values at inference time, it will be encoded as floats and will cause a schema enforcement error. The best way to avoid this problem is to infer the model schema based on a realistic data sample (training dataset) that includes missing values. Alternatively, you can declare integer columns as doubles (float64) whenever these columns may have missing values. See `Handling Integers With Missing Values <https://www.mlflow.org/docs/latest/models.html#handling-integers-with-missing-values>`_ for more details.\"\n",
            "2025/06/16 09:03:17 WARNING mlflow.models.model: `artifact_path` is deprecated. Please use `name` instead.\n"
          ]
        },
        {
          "output_type": "stream",
          "name": "stdout",
          "text": [
            "🏃 View run hilarious-horse-622 at: https://218d-35-247-53-211.ngrok-free.app/#/experiments/474008413382543543/runs/2fa8c76a63a7472d9aad4f8a741645ca\n",
            "🧪 View experiment at: https://218d-35-247-53-211.ngrok-free.app/#/experiments/474008413382543543\n"
          ]
        },
        {
          "output_type": "stream",
          "name": "stderr",
          "text": [
            "[I 2025-06-16 09:03:25,330] Trial 18 finished with value: 0.8465808170515098 and parameters: {'booster': 'gblinear', 'lambda': 6.724712815700744e-07, 'alpha': 0.0014176365218000035, 'subsample': 0.5116693161737618, 'colsample_bytree': 0.7493959006709708}. Best is trial 14 with value: 0.9049733570159858.\n",
            "2025/06/16 09:03:25 INFO mlflow.utils.autologging_utils: Created MLflow autologging run with ID 'a2968b6662494a1fba9135a47e4bca8a', which will track hyperparameters, performance metrics, model artifacts, and lineage information for the current xgboost workflow\n",
            "2025/06/16 09:03:26 WARNING mlflow.utils.autologging_utils: MLflow autologging encountered a warning: \"/usr/local/lib/python3.11/dist-packages/mlflow/types/utils.py:452: UserWarning: Hint: Inferred schema contains integer column(s). Integer columns in Python cannot represent missing values. If your input data contains missing values at inference time, it will be encoded as floats and will cause a schema enforcement error. The best way to avoid this problem is to infer the model schema based on a realistic data sample (training dataset) that includes missing values. Alternatively, you can declare integer columns as doubles (float64) whenever these columns may have missing values. See `Handling Integers With Missing Values <https://www.mlflow.org/docs/latest/models.html#handling-integers-with-missing-values>`_ for more details.\"\n",
            "2025/06/16 09:03:26 WARNING mlflow.models.model: `artifact_path` is deprecated. Please use `name` instead.\n",
            "[I 2025-06-16 09:03:32,347] Trial 19 finished with value: 0.897202486678508 and parameters: {'booster': 'gbtree', 'lambda': 0.00012031198748999178, 'alpha': 0.09408636957325767, 'subsample': 0.8950348298658163, 'colsample_bytree': 0.6965774867223584, 'max_depth': 7, 'min_child_weight': 7, 'eta': 2.3462001024628468e-08, 'gamma': 7.989418602690402e-08, 'grow_policy': 'lossguide'}. Best is trial 14 with value: 0.9049733570159858.\n"
          ]
        },
        {
          "output_type": "stream",
          "name": "stdout",
          "text": [
            "🏃 View run selective-fowl-756 at: https://218d-35-247-53-211.ngrok-free.app/#/experiments/474008413382543543/runs/a2968b6662494a1fba9135a47e4bca8a\n",
            "🧪 View experiment at: https://218d-35-247-53-211.ngrok-free.app/#/experiments/474008413382543543\n"
          ]
        },
        {
          "output_type": "stream",
          "name": "stderr",
          "text": [
            "2025/06/16 09:03:32 INFO mlflow.utils.autologging_utils: Created MLflow autologging run with ID 'cd6110a3aad348b59451cc78f3a9cfef', which will track hyperparameters, performance metrics, model artifacts, and lineage information for the current xgboost workflow\n",
            "2025/06/16 09:03:33 WARNING mlflow.utils.autologging_utils: MLflow autologging encountered a warning: \"/usr/local/lib/python3.11/dist-packages/mlflow/types/utils.py:452: UserWarning: Hint: Inferred schema contains integer column(s). Integer columns in Python cannot represent missing values. If your input data contains missing values at inference time, it will be encoded as floats and will cause a schema enforcement error. The best way to avoid this problem is to infer the model schema based on a realistic data sample (training dataset) that includes missing values. Alternatively, you can declare integer columns as doubles (float64) whenever these columns may have missing values. See `Handling Integers With Missing Values <https://www.mlflow.org/docs/latest/models.html#handling-integers-with-missing-values>`_ for more details.\"\n",
            "2025/06/16 09:03:33 WARNING mlflow.models.model: `artifact_path` is deprecated. Please use `name` instead.\n"
          ]
        },
        {
          "output_type": "stream",
          "name": "stdout",
          "text": [
            "🏃 View run fortunate-duck-71 at: https://218d-35-247-53-211.ngrok-free.app/#/experiments/474008413382543543/runs/cd6110a3aad348b59451cc78f3a9cfef\n",
            "🧪 View experiment at: https://218d-35-247-53-211.ngrok-free.app/#/experiments/474008413382543543\n"
          ]
        },
        {
          "output_type": "stream",
          "name": "stderr",
          "text": [
            "[I 2025-06-16 09:03:40,641] Trial 20 finished with value: 0.8967584369449378 and parameters: {'booster': 'dart', 'lambda': 0.004320096728116807, 'alpha': 0.021340727912409423, 'subsample': 0.6979049101012071, 'colsample_bytree': 0.21569019181728266, 'max_depth': 9, 'min_child_weight': 5, 'eta': 0.02763533161471313, 'gamma': 1.3744607678343921e-05, 'grow_policy': 'lossguide', 'sample_type': 'weighted', 'normalize_type': 'forest', 'rate_drop': 0.00034304961134375204, 'skip_drop': 0.016588899741813403}. Best is trial 14 with value: 0.9049733570159858.\n",
            "2025/06/16 09:03:40 INFO mlflow.utils.autologging_utils: Created MLflow autologging run with ID 'db9f224af688463e8ba1948b0affa863', which will track hyperparameters, performance metrics, model artifacts, and lineage information for the current xgboost workflow\n",
            "2025/06/16 09:03:41 WARNING mlflow.utils.autologging_utils: MLflow autologging encountered a warning: \"/usr/local/lib/python3.11/dist-packages/mlflow/types/utils.py:452: UserWarning: Hint: Inferred schema contains integer column(s). Integer columns in Python cannot represent missing values. If your input data contains missing values at inference time, it will be encoded as floats and will cause a schema enforcement error. The best way to avoid this problem is to infer the model schema based on a realistic data sample (training dataset) that includes missing values. Alternatively, you can declare integer columns as doubles (float64) whenever these columns may have missing values. See `Handling Integers With Missing Values <https://www.mlflow.org/docs/latest/models.html#handling-integers-with-missing-values>`_ for more details.\"\n",
            "2025/06/16 09:03:41 WARNING mlflow.models.model: `artifact_path` is deprecated. Please use `name` instead.\n"
          ]
        },
        {
          "output_type": "stream",
          "name": "stdout",
          "text": [
            "🏃 View run adorable-deer-981 at: https://218d-35-247-53-211.ngrok-free.app/#/experiments/474008413382543543/runs/db9f224af688463e8ba1948b0affa863\n",
            "🧪 View experiment at: https://218d-35-247-53-211.ngrok-free.app/#/experiments/474008413382543543\n"
          ]
        },
        {
          "output_type": "stream",
          "name": "stderr",
          "text": [
            "[I 2025-06-16 09:03:47,830] Trial 21 finished with value: 0.9025310834813499 and parameters: {'booster': 'dart', 'lambda': 1.1408267424719419e-07, 'alpha': 0.5457122473291194, 'subsample': 0.7020858011641111, 'colsample_bytree': 0.9332061879099108, 'max_depth': 9, 'min_child_weight': 8, 'eta': 0.15925691103559733, 'gamma': 0.039532961645504114, 'grow_policy': 'lossguide', 'sample_type': 'weighted', 'normalize_type': 'forest', 'rate_drop': 0.16071968938930084, 'skip_drop': 0.0031019993910060568}. Best is trial 14 with value: 0.9049733570159858.\n",
            "2025/06/16 09:03:48 INFO mlflow.utils.autologging_utils: Created MLflow autologging run with ID '6c5f5b78dfc84ab89d5c44a892071b89', which will track hyperparameters, performance metrics, model artifacts, and lineage information for the current xgboost workflow\n",
            "2025/06/16 09:03:50 WARNING mlflow.utils.autologging_utils: MLflow autologging encountered a warning: \"/usr/local/lib/python3.11/dist-packages/mlflow/types/utils.py:452: UserWarning: Hint: Inferred schema contains integer column(s). Integer columns in Python cannot represent missing values. If your input data contains missing values at inference time, it will be encoded as floats and will cause a schema enforcement error. The best way to avoid this problem is to infer the model schema based on a realistic data sample (training dataset) that includes missing values. Alternatively, you can declare integer columns as doubles (float64) whenever these columns may have missing values. See `Handling Integers With Missing Values <https://www.mlflow.org/docs/latest/models.html#handling-integers-with-missing-values>`_ for more details.\"\n",
            "2025/06/16 09:03:50 WARNING mlflow.models.model: `artifact_path` is deprecated. Please use `name` instead.\n",
            "[I 2025-06-16 09:03:56,556] Trial 22 finished with value: 0.9036412078152753 and parameters: {'booster': 'dart', 'lambda': 1.0080840528589562e-08, 'alpha': 0.9620819906014288, 'subsample': 0.7322054827412969, 'colsample_bytree': 0.987329742771323, 'max_depth': 9, 'min_child_weight': 7, 'eta': 0.0094923466087683, 'gamma': 0.10823745607731472, 'grow_policy': 'lossguide', 'sample_type': 'weighted', 'normalize_type': 'forest', 'rate_drop': 0.07839205514205726, 'skip_drop': 0.0003095107169143398}. Best is trial 14 with value: 0.9049733570159858.\n"
          ]
        },
        {
          "output_type": "stream",
          "name": "stdout",
          "text": [
            "🏃 View run merciful-ant-179 at: https://218d-35-247-53-211.ngrok-free.app/#/experiments/474008413382543543/runs/6c5f5b78dfc84ab89d5c44a892071b89\n",
            "🧪 View experiment at: https://218d-35-247-53-211.ngrok-free.app/#/experiments/474008413382543543\n"
          ]
        },
        {
          "output_type": "stream",
          "name": "stderr",
          "text": [
            "2025/06/16 09:03:56 INFO mlflow.utils.autologging_utils: Created MLflow autologging run with ID '81b245de96c24a5989648f7c1ed6dbf1', which will track hyperparameters, performance metrics, model artifacts, and lineage information for the current xgboost workflow\n",
            "2025/06/16 09:03:57 WARNING mlflow.utils.autologging_utils: MLflow autologging encountered a warning: \"/usr/local/lib/python3.11/dist-packages/mlflow/types/utils.py:452: UserWarning: Hint: Inferred schema contains integer column(s). Integer columns in Python cannot represent missing values. If your input data contains missing values at inference time, it will be encoded as floats and will cause a schema enforcement error. The best way to avoid this problem is to infer the model schema based on a realistic data sample (training dataset) that includes missing values. Alternatively, you can declare integer columns as doubles (float64) whenever these columns may have missing values. See `Handling Integers With Missing Values <https://www.mlflow.org/docs/latest/models.html#handling-integers-with-missing-values>`_ for more details.\"\n",
            "2025/06/16 09:03:57 WARNING mlflow.models.model: `artifact_path` is deprecated. Please use `name` instead.\n",
            "[I 2025-06-16 09:04:04,181] Trial 23 finished with value: 0.9085257548845471 and parameters: {'booster': 'dart', 'lambda': 1.8952833637912613e-07, 'alpha': 0.07773508956342427, 'subsample': 0.89368404581975, 'colsample_bytree': 0.8599600903649458, 'max_depth': 9, 'min_child_weight': 7, 'eta': 0.004877243732167556, 'gamma': 0.001183108268747263, 'grow_policy': 'lossguide', 'sample_type': 'weighted', 'normalize_type': 'forest', 'rate_drop': 0.04777876215947412, 'skip_drop': 5.301824362669022e-06}. Best is trial 23 with value: 0.9085257548845471.\n"
          ]
        },
        {
          "output_type": "stream",
          "name": "stdout",
          "text": [
            "🏃 View run languid-squid-452 at: https://218d-35-247-53-211.ngrok-free.app/#/experiments/474008413382543543/runs/81b245de96c24a5989648f7c1ed6dbf1\n",
            "🧪 View experiment at: https://218d-35-247-53-211.ngrok-free.app/#/experiments/474008413382543543\n"
          ]
        },
        {
          "output_type": "stream",
          "name": "stderr",
          "text": [
            "2025/06/16 09:04:04 INFO mlflow.utils.autologging_utils: Created MLflow autologging run with ID 'dd687fa22930471babc6ec6eac28b6d6', which will track hyperparameters, performance metrics, model artifacts, and lineage information for the current xgboost workflow\n",
            "2025/06/16 09:04:04 WARNING mlflow.utils.autologging_utils: MLflow autologging encountered a warning: \"/usr/local/lib/python3.11/dist-packages/mlflow/types/utils.py:452: UserWarning: Hint: Inferred schema contains integer column(s). Integer columns in Python cannot represent missing values. If your input data contains missing values at inference time, it will be encoded as floats and will cause a schema enforcement error. The best way to avoid this problem is to infer the model schema based on a realistic data sample (training dataset) that includes missing values. Alternatively, you can declare integer columns as doubles (float64) whenever these columns may have missing values. See `Handling Integers With Missing Values <https://www.mlflow.org/docs/latest/models.html#handling-integers-with-missing-values>`_ for more details.\"\n",
            "2025/06/16 09:04:04 WARNING mlflow.models.model: `artifact_path` is deprecated. Please use `name` instead.\n",
            "[I 2025-06-16 09:04:11,220] Trial 24 finished with value: 0.9038632326820604 and parameters: {'booster': 'dart', 'lambda': 2.0553959347479967e-07, 'alpha': 0.14748351781223287, 'subsample': 0.9099973910696855, 'colsample_bytree': 0.8364562751324847, 'max_depth': 7, 'min_child_weight': 9, 'eta': 0.0005504767150237387, 'gamma': 1.2020786873480362e-08, 'grow_policy': 'lossguide', 'sample_type': 'weighted', 'normalize_type': 'forest', 'rate_drop': 0.0006903989733439059, 'skip_drop': 1.6661513735528844e-06}. Best is trial 23 with value: 0.9085257548845471.\n"
          ]
        },
        {
          "output_type": "stream",
          "name": "stdout",
          "text": [
            "🏃 View run adventurous-hawk-830 at: https://218d-35-247-53-211.ngrok-free.app/#/experiments/474008413382543543/runs/dd687fa22930471babc6ec6eac28b6d6\n",
            "🧪 View experiment at: https://218d-35-247-53-211.ngrok-free.app/#/experiments/474008413382543543\n"
          ]
        },
        {
          "output_type": "stream",
          "name": "stderr",
          "text": [
            "2025/06/16 09:04:11 INFO mlflow.utils.autologging_utils: Created MLflow autologging run with ID '65054b158217442091899d08b1f0da24', which will track hyperparameters, performance metrics, model artifacts, and lineage information for the current xgboost workflow\n",
            "2025/06/16 09:04:12 WARNING mlflow.utils.autologging_utils: MLflow autologging encountered a warning: \"/usr/local/lib/python3.11/dist-packages/mlflow/types/utils.py:452: UserWarning: Hint: Inferred schema contains integer column(s). Integer columns in Python cannot represent missing values. If your input data contains missing values at inference time, it will be encoded as floats and will cause a schema enforcement error. The best way to avoid this problem is to infer the model schema based on a realistic data sample (training dataset) that includes missing values. Alternatively, you can declare integer columns as doubles (float64) whenever these columns may have missing values. See `Handling Integers With Missing Values <https://www.mlflow.org/docs/latest/models.html#handling-integers-with-missing-values>`_ for more details.\"\n",
            "2025/06/16 09:04:12 WARNING mlflow.models.model: `artifact_path` is deprecated. Please use `name` instead.\n",
            "[I 2025-06-16 09:04:19,323] Trial 25 finished with value: 0.9074156305506217 and parameters: {'booster': 'dart', 'lambda': 5.639944266694868e-06, 'alpha': 0.023866279941510957, 'subsample': 0.8590822226205215, 'colsample_bytree': 0.8946690845531718, 'max_depth': 9, 'min_child_weight': 7, 'eta': 0.002359898340304367, 'gamma': 0.0007253932479128606, 'grow_policy': 'lossguide', 'sample_type': 'weighted', 'normalize_type': 'forest', 'rate_drop': 0.04176667963061597, 'skip_drop': 2.3786377869481403e-06}. Best is trial 23 with value: 0.9085257548845471.\n"
          ]
        },
        {
          "output_type": "stream",
          "name": "stdout",
          "text": [
            "🏃 View run popular-lamb-11 at: https://218d-35-247-53-211.ngrok-free.app/#/experiments/474008413382543543/runs/65054b158217442091899d08b1f0da24\n",
            "🧪 View experiment at: https://218d-35-247-53-211.ngrok-free.app/#/experiments/474008413382543543\n"
          ]
        },
        {
          "output_type": "stream",
          "name": "stderr",
          "text": [
            "2025/06/16 09:04:19 INFO mlflow.utils.autologging_utils: Created MLflow autologging run with ID '73581db7028e4933bb99d55c54043b8e', which will track hyperparameters, performance metrics, model artifacts, and lineage information for the current xgboost workflow\n",
            "2025/06/16 09:04:20 WARNING mlflow.utils.autologging_utils: MLflow autologging encountered a warning: \"/usr/local/lib/python3.11/dist-packages/mlflow/types/utils.py:452: UserWarning: Hint: Inferred schema contains integer column(s). Integer columns in Python cannot represent missing values. If your input data contains missing values at inference time, it will be encoded as floats and will cause a schema enforcement error. The best way to avoid this problem is to infer the model schema based on a realistic data sample (training dataset) that includes missing values. Alternatively, you can declare integer columns as doubles (float64) whenever these columns may have missing values. See `Handling Integers With Missing Values <https://www.mlflow.org/docs/latest/models.html#handling-integers-with-missing-values>`_ for more details.\"\n",
            "2025/06/16 09:04:20 WARNING mlflow.models.model: `artifact_path` is deprecated. Please use `name` instead.\n",
            "[I 2025-06-16 09:04:26,430] Trial 26 finished with value: 0.9020870337477798 and parameters: {'booster': 'dart', 'lambda': 9.002868061694604e-06, 'alpha': 0.02059576175766501, 'subsample': 0.9840085245226601, 'colsample_bytree': 0.7084269913581704, 'max_depth': 7, 'min_child_weight': 5, 'eta': 0.003387886352682711, 'gamma': 0.0005613059899870147, 'grow_policy': 'lossguide', 'sample_type': 'uniform', 'normalize_type': 'tree', 'rate_drop': 0.039575995629464455, 'skip_drop': 3.6915040933914906e-06}. Best is trial 23 with value: 0.9085257548845471.\n"
          ]
        },
        {
          "output_type": "stream",
          "name": "stdout",
          "text": [
            "🏃 View run amusing-koi-411 at: https://218d-35-247-53-211.ngrok-free.app/#/experiments/474008413382543543/runs/73581db7028e4933bb99d55c54043b8e\n",
            "🧪 View experiment at: https://218d-35-247-53-211.ngrok-free.app/#/experiments/474008413382543543\n"
          ]
        },
        {
          "output_type": "stream",
          "name": "stderr",
          "text": [
            "2025/06/16 09:04:26 INFO mlflow.utils.autologging_utils: Created MLflow autologging run with ID 'a4ec960b1232482bbd372cc1c31f5fe3', which will track hyperparameters, performance metrics, model artifacts, and lineage information for the current xgboost workflow\n",
            "2025/06/16 09:04:27 WARNING mlflow.utils.autologging_utils: MLflow autologging encountered a warning: \"/usr/local/lib/python3.11/dist-packages/mlflow/types/utils.py:452: UserWarning: Hint: Inferred schema contains integer column(s). Integer columns in Python cannot represent missing values. If your input data contains missing values at inference time, it will be encoded as floats and will cause a schema enforcement error. The best way to avoid this problem is to infer the model schema based on a realistic data sample (training dataset) that includes missing values. Alternatively, you can declare integer columns as doubles (float64) whenever these columns may have missing values. See `Handling Integers With Missing Values <https://www.mlflow.org/docs/latest/models.html#handling-integers-with-missing-values>`_ for more details.\"\n",
            "2025/06/16 09:04:27 WARNING mlflow.models.model: `artifact_path` is deprecated. Please use `name` instead.\n"
          ]
        },
        {
          "output_type": "stream",
          "name": "stdout",
          "text": [
            "🏃 View run likeable-doe-461 at: https://218d-35-247-53-211.ngrok-free.app/#/experiments/474008413382543543/runs/a4ec960b1232482bbd372cc1c31f5fe3\n",
            "🧪 View experiment at: https://218d-35-247-53-211.ngrok-free.app/#/experiments/474008413382543543\n"
          ]
        },
        {
          "output_type": "stream",
          "name": "stderr",
          "text": [
            "[I 2025-06-16 09:04:34,633] Trial 27 finished with value: 0.9047513321492007 and parameters: {'booster': 'dart', 'lambda': 0.00012827112856641934, 'alpha': 0.001482126837115325, 'subsample': 0.8656998051799019, 'colsample_bytree': 0.9054392478924769, 'max_depth': 9, 'min_child_weight': 9, 'eta': 0.00011075543711703507, 'gamma': 4.228807568383361e-05, 'grow_policy': 'depthwise', 'sample_type': 'weighted', 'normalize_type': 'forest', 'rate_drop': 0.0010735463843945677, 'skip_drop': 6.406458054920814e-08}. Best is trial 23 with value: 0.9085257548845471.\n",
            "2025/06/16 09:04:34 INFO mlflow.utils.autologging_utils: Created MLflow autologging run with ID '35b6cc6088e242b08f20bf7eea834531', which will track hyperparameters, performance metrics, model artifacts, and lineage information for the current xgboost workflow\n",
            "2025/06/16 09:04:35 WARNING mlflow.utils.autologging_utils: MLflow autologging encountered a warning: \"/usr/local/lib/python3.11/dist-packages/mlflow/types/utils.py:452: UserWarning: Hint: Inferred schema contains integer column(s). Integer columns in Python cannot represent missing values. If your input data contains missing values at inference time, it will be encoded as floats and will cause a schema enforcement error. The best way to avoid this problem is to infer the model schema based on a realistic data sample (training dataset) that includes missing values. Alternatively, you can declare integer columns as doubles (float64) whenever these columns may have missing values. See `Handling Integers With Missing Values <https://www.mlflow.org/docs/latest/models.html#handling-integers-with-missing-values>`_ for more details.\"\n",
            "2025/06/16 09:04:35 WARNING mlflow.models.model: `artifact_path` is deprecated. Please use `name` instead.\n",
            "[I 2025-06-16 09:04:41,584] Trial 28 finished with value: 0.8530195381882771 and parameters: {'booster': 'gblinear', 'lambda': 2.3272602750490984e-06, 'alpha': 0.0499020620386142, 'subsample': 0.923755300441593, 'colsample_bytree': 0.8033927508355936}. Best is trial 23 with value: 0.9085257548845471.\n"
          ]
        },
        {
          "output_type": "stream",
          "name": "stdout",
          "text": [
            "🏃 View run adaptable-bee-647 at: https://218d-35-247-53-211.ngrok-free.app/#/experiments/474008413382543543/runs/35b6cc6088e242b08f20bf7eea834531\n",
            "🧪 View experiment at: https://218d-35-247-53-211.ngrok-free.app/#/experiments/474008413382543543\n"
          ]
        },
        {
          "output_type": "stream",
          "name": "stderr",
          "text": [
            "2025/06/16 09:04:41 INFO mlflow.utils.autologging_utils: Created MLflow autologging run with ID '988ffd1a01934861af3ae39b38de415b', which will track hyperparameters, performance metrics, model artifacts, and lineage information for the current xgboost workflow\n",
            "2025/06/16 09:04:42 WARNING mlflow.utils.autologging_utils: MLflow autologging encountered a warning: \"/usr/local/lib/python3.11/dist-packages/mlflow/types/utils.py:452: UserWarning: Hint: Inferred schema contains integer column(s). Integer columns in Python cannot represent missing values. If your input data contains missing values at inference time, it will be encoded as floats and will cause a schema enforcement error. The best way to avoid this problem is to infer the model schema based on a realistic data sample (training dataset) that includes missing values. Alternatively, you can declare integer columns as doubles (float64) whenever these columns may have missing values. See `Handling Integers With Missing Values <https://www.mlflow.org/docs/latest/models.html#handling-integers-with-missing-values>`_ for more details.\"\n",
            "2025/06/16 09:04:42 WARNING mlflow.models.model: `artifact_path` is deprecated. Please use `name` instead.\n",
            "[I 2025-06-16 09:04:49,978] Trial 29 finished with value: 0.9023090586145648 and parameters: {'booster': 'gbtree', 'lambda': 5.415299790128422e-07, 'alpha': 0.005661638381450554, 'subsample': 0.6089409766048408, 'colsample_bytree': 0.6256470592977242, 'max_depth': 9, 'min_child_weight': 6, 'eta': 0.00018867731283115792, 'gamma': 0.0013476862123925509, 'grow_policy': 'lossguide'}. Best is trial 23 with value: 0.9085257548845471.\n"
          ]
        },
        {
          "output_type": "stream",
          "name": "stdout",
          "text": [
            "🏃 View run painted-stork-110 at: https://218d-35-247-53-211.ngrok-free.app/#/experiments/474008413382543543/runs/988ffd1a01934861af3ae39b38de415b\n",
            "🧪 View experiment at: https://218d-35-247-53-211.ngrok-free.app/#/experiments/474008413382543543\n"
          ]
        },
        {
          "output_type": "stream",
          "name": "stderr",
          "text": [
            "2025/06/16 09:04:50 INFO mlflow.utils.autologging_utils: Created MLflow autologging run with ID '908f172e4e194378964cd43fd8a52278', which will track hyperparameters, performance metrics, model artifacts, and lineage information for the current xgboost workflow\n",
            "2025/06/16 09:04:50 WARNING mlflow.utils.autologging_utils: MLflow autologging encountered a warning: \"/usr/local/lib/python3.11/dist-packages/mlflow/types/utils.py:452: UserWarning: Hint: Inferred schema contains integer column(s). Integer columns in Python cannot represent missing values. If your input data contains missing values at inference time, it will be encoded as floats and will cause a schema enforcement error. The best way to avoid this problem is to infer the model schema based on a realistic data sample (training dataset) that includes missing values. Alternatively, you can declare integer columns as doubles (float64) whenever these columns may have missing values. See `Handling Integers With Missing Values <https://www.mlflow.org/docs/latest/models.html#handling-integers-with-missing-values>`_ for more details.\"\n",
            "2025/06/16 09:04:50 WARNING mlflow.models.model: `artifact_path` is deprecated. Please use `name` instead.\n",
            "[I 2025-06-16 09:04:57,012] Trial 30 finished with value: 0.9034191829484902 and parameters: {'booster': 'dart', 'lambda': 0.6580222067895125, 'alpha': 0.0007093053566393983, 'subsample': 0.8440296909593756, 'colsample_bytree': 0.8485655438767672, 'max_depth': 7, 'min_child_weight': 7, 'eta': 1.6769253292055683e-05, 'gamma': 3.717232368555143e-05, 'grow_policy': 'lossguide', 'sample_type': 'weighted', 'normalize_type': 'forest', 'rate_drop': 8.777404129141789e-05, 'skip_drop': 1.2105988137172379e-05}. Best is trial 23 with value: 0.9085257548845471.\n"
          ]
        },
        {
          "output_type": "stream",
          "name": "stdout",
          "text": [
            "🏃 View run legendary-dove-997 at: https://218d-35-247-53-211.ngrok-free.app/#/experiments/474008413382543543/runs/908f172e4e194378964cd43fd8a52278\n",
            "🧪 View experiment at: https://218d-35-247-53-211.ngrok-free.app/#/experiments/474008413382543543\n"
          ]
        },
        {
          "output_type": "stream",
          "name": "stderr",
          "text": [
            "2025/06/16 09:04:57 INFO mlflow.utils.autologging_utils: Created MLflow autologging run with ID 'dc6b4685a7b54598be1d9f549e5ccca9', which will track hyperparameters, performance metrics, model artifacts, and lineage information for the current xgboost workflow\n",
            "2025/06/16 09:04:57 WARNING mlflow.utils.autologging_utils: MLflow autologging encountered a warning: \"/usr/local/lib/python3.11/dist-packages/mlflow/types/utils.py:452: UserWarning: Hint: Inferred schema contains integer column(s). Integer columns in Python cannot represent missing values. If your input data contains missing values at inference time, it will be encoded as floats and will cause a schema enforcement error. The best way to avoid this problem is to infer the model schema based on a realistic data sample (training dataset) that includes missing values. Alternatively, you can declare integer columns as doubles (float64) whenever these columns may have missing values. See `Handling Integers With Missing Values <https://www.mlflow.org/docs/latest/models.html#handling-integers-with-missing-values>`_ for more details.\"\n",
            "2025/06/16 09:04:57 WARNING mlflow.models.model: `artifact_path` is deprecated. Please use `name` instead.\n",
            "[I 2025-06-16 09:05:05,663] Trial 31 finished with value: 0.9031971580817052 and parameters: {'booster': 'dart', 'lambda': 0.00014389514376072026, 'alpha': 0.0021134049563724428, 'subsample': 0.8530274684486021, 'colsample_bytree': 0.9086880179367376, 'max_depth': 9, 'min_child_weight': 9, 'eta': 0.001987920946732626, 'gamma': 5.73988229449663e-05, 'grow_policy': 'depthwise', 'sample_type': 'weighted', 'normalize_type': 'forest', 'rate_drop': 0.00207609096479316, 'skip_drop': 1.3785125469689819e-07}. Best is trial 23 with value: 0.9085257548845471.\n"
          ]
        },
        {
          "output_type": "stream",
          "name": "stdout",
          "text": [
            "🏃 View run fun-cat-549 at: https://218d-35-247-53-211.ngrok-free.app/#/experiments/474008413382543543/runs/dc6b4685a7b54598be1d9f549e5ccca9\n",
            "🧪 View experiment at: https://218d-35-247-53-211.ngrok-free.app/#/experiments/474008413382543543\n"
          ]
        },
        {
          "output_type": "stream",
          "name": "stderr",
          "text": [
            "2025/06/16 09:05:05 INFO mlflow.utils.autologging_utils: Created MLflow autologging run with ID '5e018618eddb49d2ad1eb3d7cb817b47', which will track hyperparameters, performance metrics, model artifacts, and lineage information for the current xgboost workflow\n",
            "2025/06/16 09:05:06 WARNING mlflow.utils.autologging_utils: MLflow autologging encountered a warning: \"/usr/local/lib/python3.11/dist-packages/mlflow/types/utils.py:452: UserWarning: Hint: Inferred schema contains integer column(s). Integer columns in Python cannot represent missing values. If your input data contains missing values at inference time, it will be encoded as floats and will cause a schema enforcement error. The best way to avoid this problem is to infer the model schema based on a realistic data sample (training dataset) that includes missing values. Alternatively, you can declare integer columns as doubles (float64) whenever these columns may have missing values. See `Handling Integers With Missing Values <https://www.mlflow.org/docs/latest/models.html#handling-integers-with-missing-values>`_ for more details.\"\n",
            "2025/06/16 09:05:06 WARNING mlflow.models.model: `artifact_path` is deprecated. Please use `name` instead.\n",
            "[I 2025-06-16 09:05:12,944] Trial 32 finished with value: 0.9045293072824157 and parameters: {'booster': 'dart', 'lambda': 4.311690534112953e-05, 'alpha': 8.944082658270202e-05, 'subsample': 0.9358818546640263, 'colsample_bytree': 0.9313621410804277, 'max_depth': 9, 'min_child_weight': 9, 'eta': 6.36986100894134e-05, 'gamma': 0.00032536879665398305, 'grow_policy': 'depthwise', 'sample_type': 'weighted', 'normalize_type': 'forest', 'rate_drop': 0.031006061492216457, 'skip_drop': 2.7014443034427954e-07}. Best is trial 23 with value: 0.9085257548845471.\n"
          ]
        },
        {
          "output_type": "stream",
          "name": "stdout",
          "text": [
            "🏃 View run zealous-fawn-906 at: https://218d-35-247-53-211.ngrok-free.app/#/experiments/474008413382543543/runs/5e018618eddb49d2ad1eb3d7cb817b47\n",
            "🧪 View experiment at: https://218d-35-247-53-211.ngrok-free.app/#/experiments/474008413382543543\n"
          ]
        },
        {
          "output_type": "stream",
          "name": "stderr",
          "text": [
            "2025/06/16 09:05:13 INFO mlflow.utils.autologging_utils: Created MLflow autologging run with ID '29940655409f4db4a8e2ef43f643efd5', which will track hyperparameters, performance metrics, model artifacts, and lineage information for the current xgboost workflow\n",
            "2025/06/16 09:05:15 WARNING mlflow.utils.autologging_utils: MLflow autologging encountered a warning: \"/usr/local/lib/python3.11/dist-packages/mlflow/types/utils.py:452: UserWarning: Hint: Inferred schema contains integer column(s). Integer columns in Python cannot represent missing values. If your input data contains missing values at inference time, it will be encoded as floats and will cause a schema enforcement error. The best way to avoid this problem is to infer the model schema based on a realistic data sample (training dataset) that includes missing values. Alternatively, you can declare integer columns as doubles (float64) whenever these columns may have missing values. See `Handling Integers With Missing Values <https://www.mlflow.org/docs/latest/models.html#handling-integers-with-missing-values>`_ for more details.\"\n",
            "2025/06/16 09:05:15 WARNING mlflow.models.model: `artifact_path` is deprecated. Please use `name` instead.\n",
            "[I 2025-06-16 09:05:21,940] Trial 33 finished with value: 0.9007548845470693 and parameters: {'booster': 'dart', 'lambda': 0.0003763975659801196, 'alpha': 0.012648923191849452, 'subsample': 0.6586467806344585, 'colsample_bytree': 0.8837096373473843, 'max_depth': 9, 'min_child_weight': 8, 'eta': 0.0005514285711130361, 'gamma': 7.573330022498048e-07, 'grow_policy': 'depthwise', 'sample_type': 'weighted', 'normalize_type': 'forest', 'rate_drop': 0.0006082416218260918, 'skip_drop': 2.0944072544238676e-07}. Best is trial 23 with value: 0.9085257548845471.\n"
          ]
        },
        {
          "output_type": "stream",
          "name": "stdout",
          "text": [
            "🏃 View run unleashed-sow-26 at: https://218d-35-247-53-211.ngrok-free.app/#/experiments/474008413382543543/runs/29940655409f4db4a8e2ef43f643efd5\n",
            "🧪 View experiment at: https://218d-35-247-53-211.ngrok-free.app/#/experiments/474008413382543543\n"
          ]
        },
        {
          "output_type": "stream",
          "name": "stderr",
          "text": [
            "2025/06/16 09:05:22 INFO mlflow.utils.autologging_utils: Created MLflow autologging run with ID 'fc710f890e8449e6a3e9a23c26702787', which will track hyperparameters, performance metrics, model artifacts, and lineage information for the current xgboost workflow\n",
            "2025/06/16 09:05:22 WARNING mlflow.utils.autologging_utils: MLflow autologging encountered a warning: \"/usr/local/lib/python3.11/dist-packages/mlflow/types/utils.py:452: UserWarning: Hint: Inferred schema contains integer column(s). Integer columns in Python cannot represent missing values. If your input data contains missing values at inference time, it will be encoded as floats and will cause a schema enforcement error. The best way to avoid this problem is to infer the model schema based on a realistic data sample (training dataset) that includes missing values. Alternatively, you can declare integer columns as doubles (float64) whenever these columns may have missing values. See `Handling Integers With Missing Values <https://www.mlflow.org/docs/latest/models.html#handling-integers-with-missing-values>`_ for more details.\"\n",
            "2025/06/16 09:05:22 WARNING mlflow.models.model: `artifact_path` is deprecated. Please use `name` instead.\n"
          ]
        },
        {
          "output_type": "stream",
          "name": "stdout",
          "text": [
            "🏃 View run useful-sow-116 at: https://218d-35-247-53-211.ngrok-free.app/#/experiments/474008413382543543/runs/fc710f890e8449e6a3e9a23c26702787\n",
            "🧪 View experiment at: https://218d-35-247-53-211.ngrok-free.app/#/experiments/474008413382543543\n"
          ]
        },
        {
          "output_type": "stream",
          "name": "stderr",
          "text": [
            "[I 2025-06-16 09:05:29,283] Trial 34 finished with value: 0.9076376554174067 and parameters: {'booster': 'dart', 'lambda': 0.010904921051853611, 'alpha': 0.03350380079775842, 'subsample': 0.8215760881640233, 'colsample_bytree': 0.7568228448704103, 'max_depth': 9, 'min_child_weight': 10, 'eta': 0.008311777714260421, 'gamma': 0.010033859556191481, 'grow_policy': 'depthwise', 'sample_type': 'weighted', 'normalize_type': 'forest', 'rate_drop': 0.11096427771084307, 'skip_drop': 2.0381914652065804e-08}. Best is trial 23 with value: 0.9085257548845471.\n",
            "2025/06/16 09:05:29 INFO mlflow.utils.autologging_utils: Created MLflow autologging run with ID '9beb8fd41161425d98c07d426e24f25c', which will track hyperparameters, performance metrics, model artifacts, and lineage information for the current xgboost workflow\n",
            "2025/06/16 09:05:30 WARNING mlflow.utils.autologging_utils: MLflow autologging encountered a warning: \"/usr/local/lib/python3.11/dist-packages/mlflow/types/utils.py:452: UserWarning: Hint: Inferred schema contains integer column(s). Integer columns in Python cannot represent missing values. If your input data contains missing values at inference time, it will be encoded as floats and will cause a schema enforcement error. The best way to avoid this problem is to infer the model schema based on a realistic data sample (training dataset) that includes missing values. Alternatively, you can declare integer columns as doubles (float64) whenever these columns may have missing values. See `Handling Integers With Missing Values <https://www.mlflow.org/docs/latest/models.html#handling-integers-with-missing-values>`_ for more details.\"\n",
            "2025/06/16 09:05:30 WARNING mlflow.models.model: `artifact_path` is deprecated. Please use `name` instead.\n",
            "[I 2025-06-16 09:05:36,570] Trial 35 finished with value: 0.8974245115452931 and parameters: {'booster': 'dart', 'lambda': 0.007188779108253809, 'alpha': 0.2711310131512014, 'subsample': 0.21855023375307697, 'colsample_bytree': 0.4674976798241667, 'max_depth': 9, 'min_child_weight': 10, 'eta': 0.057291100169564166, 'gamma': 0.006412191351418747, 'grow_policy': 'depthwise', 'sample_type': 'weighted', 'normalize_type': 'forest', 'rate_drop': 0.16546213076099392, 'skip_drop': 1.4658388223567961e-08}. Best is trial 23 with value: 0.9085257548845471.\n"
          ]
        },
        {
          "output_type": "stream",
          "name": "stdout",
          "text": [
            "🏃 View run redolent-ram-409 at: https://218d-35-247-53-211.ngrok-free.app/#/experiments/474008413382543543/runs/9beb8fd41161425d98c07d426e24f25c\n",
            "🧪 View experiment at: https://218d-35-247-53-211.ngrok-free.app/#/experiments/474008413382543543\n"
          ]
        },
        {
          "output_type": "stream",
          "name": "stderr",
          "text": [
            "2025/06/16 09:05:36 INFO mlflow.utils.autologging_utils: Created MLflow autologging run with ID '1c11e8d450dd4e74bf26b649796af28e', which will track hyperparameters, performance metrics, model artifacts, and lineage information for the current xgboost workflow\n",
            "2025/06/16 09:05:37 WARNING mlflow.utils.autologging_utils: MLflow autologging encountered a warning: \"/usr/local/lib/python3.11/dist-packages/mlflow/types/utils.py:452: UserWarning: Hint: Inferred schema contains integer column(s). Integer columns in Python cannot represent missing values. If your input data contains missing values at inference time, it will be encoded as floats and will cause a schema enforcement error. The best way to avoid this problem is to infer the model schema based on a realistic data sample (training dataset) that includes missing values. Alternatively, you can declare integer columns as doubles (float64) whenever these columns may have missing values. See `Handling Integers With Missing Values <https://www.mlflow.org/docs/latest/models.html#handling-integers-with-missing-values>`_ for more details.\"\n",
            "2025/06/16 09:05:37 WARNING mlflow.models.model: `artifact_path` is deprecated. Please use `name` instead.\n"
          ]
        },
        {
          "output_type": "stream",
          "name": "stdout",
          "text": [
            "🏃 View run merciful-crane-235 at: https://218d-35-247-53-211.ngrok-free.app/#/experiments/474008413382543543/runs/1c11e8d450dd4e74bf26b649796af28e\n",
            "🧪 View experiment at: https://218d-35-247-53-211.ngrok-free.app/#/experiments/474008413382543543\n"
          ]
        },
        {
          "output_type": "stream",
          "name": "stderr",
          "text": [
            "[I 2025-06-16 09:05:43,993] Trial 36 finished with value: 0.8987566607460036 and parameters: {'booster': 'gbtree', 'lambda': 0.01373238466181694, 'alpha': 0.0588743631182722, 'subsample': 0.772718072960843, 'colsample_bytree': 0.7537371236931334, 'max_depth': 7, 'min_child_weight': 6, 'eta': 0.01174211323569349, 'gamma': 0.001513624831398769, 'grow_policy': 'depthwise'}. Best is trial 23 with value: 0.9085257548845471.\n",
            "2025/06/16 09:05:44 INFO mlflow.utils.autologging_utils: Created MLflow autologging run with ID '68aae1b972894c3ea961d579adf5dec8', which will track hyperparameters, performance metrics, model artifacts, and lineage information for the current xgboost workflow\n",
            "2025/06/16 09:05:44 WARNING mlflow.utils.autologging_utils: MLflow autologging encountered a warning: \"/usr/local/lib/python3.11/dist-packages/mlflow/types/utils.py:452: UserWarning: Hint: Inferred schema contains integer column(s). Integer columns in Python cannot represent missing values. If your input data contains missing values at inference time, it will be encoded as floats and will cause a schema enforcement error. The best way to avoid this problem is to infer the model schema based on a realistic data sample (training dataset) that includes missing values. Alternatively, you can declare integer columns as doubles (float64) whenever these columns may have missing values. See `Handling Integers With Missing Values <https://www.mlflow.org/docs/latest/models.html#handling-integers-with-missing-values>`_ for more details.\"\n",
            "2025/06/16 09:05:44 WARNING mlflow.models.model: `artifact_path` is deprecated. Please use `name` instead.\n",
            "[I 2025-06-16 09:05:51,072] Trial 37 finished with value: 0.8510213143872114 and parameters: {'booster': 'gblinear', 'lambda': 6.335213285500132e-06, 'alpha': 0.038128749524038656, 'subsample': 0.8263396561422787, 'colsample_bytree': 0.6546467463122809}. Best is trial 23 with value: 0.9085257548845471.\n"
          ]
        },
        {
          "output_type": "stream",
          "name": "stdout",
          "text": [
            "🏃 View run upbeat-crane-158 at: https://218d-35-247-53-211.ngrok-free.app/#/experiments/474008413382543543/runs/68aae1b972894c3ea961d579adf5dec8\n",
            "🧪 View experiment at: https://218d-35-247-53-211.ngrok-free.app/#/experiments/474008413382543543\n"
          ]
        },
        {
          "output_type": "stream",
          "name": "stderr",
          "text": [
            "2025/06/16 09:05:51 INFO mlflow.utils.autologging_utils: Created MLflow autologging run with ID '4f923f0cc7394a7290529514bcb4d306', which will track hyperparameters, performance metrics, model artifacts, and lineage information for the current xgboost workflow\n",
            "2025/06/16 09:05:51 WARNING mlflow.utils.autologging_utils: MLflow autologging encountered a warning: \"/usr/local/lib/python3.11/dist-packages/mlflow/types/utils.py:452: UserWarning: Hint: Inferred schema contains integer column(s). Integer columns in Python cannot represent missing values. If your input data contains missing values at inference time, it will be encoded as floats and will cause a schema enforcement error. The best way to avoid this problem is to infer the model schema based on a realistic data sample (training dataset) that includes missing values. Alternatively, you can declare integer columns as doubles (float64) whenever these columns may have missing values. See `Handling Integers With Missing Values <https://www.mlflow.org/docs/latest/models.html#handling-integers-with-missing-values>`_ for more details.\"\n",
            "2025/06/16 09:05:51 WARNING mlflow.models.model: `artifact_path` is deprecated. Please use `name` instead.\n",
            "[I 2025-06-16 09:05:58,998] Trial 38 finished with value: 0.9069715808170515 and parameters: {'booster': 'dart', 'lambda': 2.070160590279606e-06, 'alpha': 3.354831212285595e-06, 'subsample': 0.9988845571991667, 'colsample_bytree': 0.7915937091274848, 'max_depth': 9, 'min_child_weight': 9, 'eta': 0.005466307112488679, 'gamma': 0.026693657848330936, 'grow_policy': 'depthwise', 'sample_type': 'weighted', 'normalize_type': 'forest', 'rate_drop': 0.011310120591126368, 'skip_drop': 0.0002951436331878175}. Best is trial 23 with value: 0.9085257548845471.\n"
          ]
        },
        {
          "output_type": "stream",
          "name": "stdout",
          "text": [
            "🏃 View run selective-chimp-598 at: https://218d-35-247-53-211.ngrok-free.app/#/experiments/474008413382543543/runs/4f923f0cc7394a7290529514bcb4d306\n",
            "🧪 View experiment at: https://218d-35-247-53-211.ngrok-free.app/#/experiments/474008413382543543\n"
          ]
        },
        {
          "output_type": "stream",
          "name": "stderr",
          "text": [
            "2025/06/16 09:05:59 INFO mlflow.utils.autologging_utils: Created MLflow autologging run with ID '1fa42fc14cf6400caf076ebc83f0f456', which will track hyperparameters, performance metrics, model artifacts, and lineage information for the current xgboost workflow\n",
            "2025/06/16 09:05:59 WARNING mlflow.utils.autologging_utils: MLflow autologging encountered a warning: \"/usr/local/lib/python3.11/dist-packages/mlflow/types/utils.py:452: UserWarning: Hint: Inferred schema contains integer column(s). Integer columns in Python cannot represent missing values. If your input data contains missing values at inference time, it will be encoded as floats and will cause a schema enforcement error. The best way to avoid this problem is to infer the model schema based on a realistic data sample (training dataset) that includes missing values. Alternatively, you can declare integer columns as doubles (float64) whenever these columns may have missing values. See `Handling Integers With Missing Values <https://www.mlflow.org/docs/latest/models.html#handling-integers-with-missing-values>`_ for more details.\"\n",
            "2025/06/16 09:05:59 WARNING mlflow.models.model: `artifact_path` is deprecated. Please use `name` instead.\n",
            "[I 2025-06-16 09:06:06,129] Trial 39 finished with value: 0.9014209591474245 and parameters: {'booster': 'dart', 'lambda': 1.9879658461089046e-06, 'alpha': 3.2239198604118124e-06, 'subsample': 0.9913204937268021, 'colsample_bytree': 0.8054872854269488, 'max_depth': 7, 'min_child_weight': 10, 'eta': 0.07291603202607233, 'gamma': 0.014779965271749563, 'grow_policy': 'depthwise', 'sample_type': 'uniform', 'normalize_type': 'tree', 'rate_drop': 0.06562871132056236, 'skip_drop': 0.00020756923713276232}. Best is trial 23 with value: 0.9085257548845471.\n"
          ]
        },
        {
          "output_type": "stream",
          "name": "stdout",
          "text": [
            "🏃 View run able-croc-637 at: https://218d-35-247-53-211.ngrok-free.app/#/experiments/474008413382543543/runs/1fa42fc14cf6400caf076ebc83f0f456\n",
            "🧪 View experiment at: https://218d-35-247-53-211.ngrok-free.app/#/experiments/474008413382543543\n"
          ]
        },
        {
          "output_type": "stream",
          "name": "stderr",
          "text": [
            "2025/06/16 09:06:06 INFO mlflow.utils.autologging_utils: Created MLflow autologging run with ID 'bbb08b8d2a3c4aa9a57669bd20fc2080', which will track hyperparameters, performance metrics, model artifacts, and lineage information for the current xgboost workflow\n",
            "2025/06/16 09:06:06 WARNING mlflow.utils.autologging_utils: MLflow autologging encountered a warning: \"/usr/local/lib/python3.11/dist-packages/mlflow/types/utils.py:452: UserWarning: Hint: Inferred schema contains integer column(s). Integer columns in Python cannot represent missing values. If your input data contains missing values at inference time, it will be encoded as floats and will cause a schema enforcement error. The best way to avoid this problem is to infer the model schema based on a realistic data sample (training dataset) that includes missing values. Alternatively, you can declare integer columns as doubles (float64) whenever these columns may have missing values. See `Handling Integers With Missing Values <https://www.mlflow.org/docs/latest/models.html#handling-integers-with-missing-values>`_ for more details.\"\n",
            "2025/06/16 09:06:06 WARNING mlflow.models.model: `artifact_path` is deprecated. Please use `name` instead.\n",
            "[I 2025-06-16 09:06:14,165] Trial 40 finished with value: 0.9051953818827708 and parameters: {'booster': 'gbtree', 'lambda': 2.519239655615828e-07, 'alpha': 2.14396106788854e-06, 'subsample': 0.9694703427217644, 'colsample_bytree': 0.4992890036683413, 'max_depth': 9, 'min_child_weight': 10, 'eta': 0.006126809544856611, 'gamma': 0.025583528951822233, 'grow_policy': 'depthwise'}. Best is trial 23 with value: 0.9085257548845471.\n"
          ]
        },
        {
          "output_type": "stream",
          "name": "stdout",
          "text": [
            "🏃 View run sassy-crane-218 at: https://218d-35-247-53-211.ngrok-free.app/#/experiments/474008413382543543/runs/bbb08b8d2a3c4aa9a57669bd20fc2080\n",
            "🧪 View experiment at: https://218d-35-247-53-211.ngrok-free.app/#/experiments/474008413382543543\n"
          ]
        },
        {
          "output_type": "stream",
          "name": "stderr",
          "text": [
            "2025/06/16 09:06:14 INFO mlflow.utils.autologging_utils: Created MLflow autologging run with ID '117cd77ebeec41a4b7273f739c3d28f8', which will track hyperparameters, performance metrics, model artifacts, and lineage information for the current xgboost workflow\n",
            "2025/06/16 09:06:14 WARNING mlflow.utils.autologging_utils: MLflow autologging encountered a warning: \"/usr/local/lib/python3.11/dist-packages/mlflow/types/utils.py:452: UserWarning: Hint: Inferred schema contains integer column(s). Integer columns in Python cannot represent missing values. If your input data contains missing values at inference time, it will be encoded as floats and will cause a schema enforcement error. The best way to avoid this problem is to infer the model schema based on a realistic data sample (training dataset) that includes missing values. Alternatively, you can declare integer columns as doubles (float64) whenever these columns may have missing values. See `Handling Integers With Missing Values <https://www.mlflow.org/docs/latest/models.html#handling-integers-with-missing-values>`_ for more details.\"\n",
            "2025/06/16 09:06:14 WARNING mlflow.models.model: `artifact_path` is deprecated. Please use `name` instead.\n",
            "[I 2025-06-16 09:06:21,292] Trial 41 finished with value: 0.9047513321492007 and parameters: {'booster': 'gbtree', 'lambda': 3.2281435646407224e-07, 'alpha': 1.1255039982083192e-06, 'subsample': 0.954674782730405, 'colsample_bytree': 0.4956169173323195, 'max_depth': 9, 'min_child_weight': 10, 'eta': 0.006688131939032261, 'gamma': 0.01894116987235812, 'grow_policy': 'depthwise'}. Best is trial 23 with value: 0.9085257548845471.\n"
          ]
        },
        {
          "output_type": "stream",
          "name": "stdout",
          "text": [
            "🏃 View run bittersweet-lark-314 at: https://218d-35-247-53-211.ngrok-free.app/#/experiments/474008413382543543/runs/117cd77ebeec41a4b7273f739c3d28f8\n",
            "🧪 View experiment at: https://218d-35-247-53-211.ngrok-free.app/#/experiments/474008413382543543\n"
          ]
        },
        {
          "output_type": "stream",
          "name": "stderr",
          "text": [
            "2025/06/16 09:06:21 INFO mlflow.utils.autologging_utils: Created MLflow autologging run with ID 'bb0fb157dc3b4e958e5fb75ea0b62d89', which will track hyperparameters, performance metrics, model artifacts, and lineage information for the current xgboost workflow\n",
            "2025/06/16 09:06:21 WARNING mlflow.utils.autologging_utils: MLflow autologging encountered a warning: \"/usr/local/lib/python3.11/dist-packages/mlflow/types/utils.py:452: UserWarning: Hint: Inferred schema contains integer column(s). Integer columns in Python cannot represent missing values. If your input data contains missing values at inference time, it will be encoded as floats and will cause a schema enforcement error. The best way to avoid this problem is to infer the model schema based on a realistic data sample (training dataset) that includes missing values. Alternatively, you can declare integer columns as doubles (float64) whenever these columns may have missing values. See `Handling Integers With Missing Values <https://www.mlflow.org/docs/latest/models.html#handling-integers-with-missing-values>`_ for more details.\"\n",
            "2025/06/16 09:06:21 WARNING mlflow.models.model: `artifact_path` is deprecated. Please use `name` instead.\n",
            "[I 2025-06-16 09:06:29,635] Trial 42 finished with value: 0.9056394316163411 and parameters: {'booster': 'gbtree', 'lambda': 6.617525866017682e-08, 'alpha': 2.652987131047944e-05, 'subsample': 0.9975031364134729, 'colsample_bytree': 0.3513757381938581, 'max_depth': 9, 'min_child_weight': 9, 'eta': 0.032950383165698933, 'gamma': 0.057629093089950234, 'grow_policy': 'depthwise'}. Best is trial 23 with value: 0.9085257548845471.\n"
          ]
        },
        {
          "output_type": "stream",
          "name": "stdout",
          "text": [
            "🏃 View run youthful-lark-563 at: https://218d-35-247-53-211.ngrok-free.app/#/experiments/474008413382543543/runs/bb0fb157dc3b4e958e5fb75ea0b62d89\n",
            "🧪 View experiment at: https://218d-35-247-53-211.ngrok-free.app/#/experiments/474008413382543543\n"
          ]
        },
        {
          "output_type": "stream",
          "name": "stderr",
          "text": [
            "2025/06/16 09:06:29 INFO mlflow.utils.autologging_utils: Created MLflow autologging run with ID '4f739b324d0745559aa0e1d254da2dc2', which will track hyperparameters, performance metrics, model artifacts, and lineage information for the current xgboost workflow\n",
            "2025/06/16 09:06:30 WARNING mlflow.utils.autologging_utils: MLflow autologging encountered a warning: \"/usr/local/lib/python3.11/dist-packages/mlflow/types/utils.py:452: UserWarning: Hint: Inferred schema contains integer column(s). Integer columns in Python cannot represent missing values. If your input data contains missing values at inference time, it will be encoded as floats and will cause a schema enforcement error. The best way to avoid this problem is to infer the model schema based on a realistic data sample (training dataset) that includes missing values. Alternatively, you can declare integer columns as doubles (float64) whenever these columns may have missing values. See `Handling Integers With Missing Values <https://www.mlflow.org/docs/latest/models.html#handling-integers-with-missing-values>`_ for more details.\"\n",
            "2025/06/16 09:06:30 WARNING mlflow.models.model: `artifact_path` is deprecated. Please use `name` instead.\n",
            "[I 2025-06-16 09:06:36,722] Trial 43 finished with value: 0.8785523978685613 and parameters: {'booster': 'gbtree', 'lambda': 8.202916816371081e-08, 'alpha': 2.538254292620849e-05, 'subsample': 0.9078988218469296, 'colsample_bytree': 0.32189759829429787, 'max_depth': 9, 'min_child_weight': 9, 'eta': 0.17879218369776678, 'gamma': 0.10099302095009656, 'grow_policy': 'depthwise'}. Best is trial 23 with value: 0.9085257548845471.\n"
          ]
        },
        {
          "output_type": "stream",
          "name": "stdout",
          "text": [
            "🏃 View run clean-trout-233 at: https://218d-35-247-53-211.ngrok-free.app/#/experiments/474008413382543543/runs/4f739b324d0745559aa0e1d254da2dc2\n",
            "🧪 View experiment at: https://218d-35-247-53-211.ngrok-free.app/#/experiments/474008413382543543\n"
          ]
        },
        {
          "output_type": "stream",
          "name": "stderr",
          "text": [
            "2025/06/16 09:06:36 INFO mlflow.utils.autologging_utils: Created MLflow autologging run with ID 'f0f4060bc0bf4fff9c52b3c51f14186f', which will track hyperparameters, performance metrics, model artifacts, and lineage information for the current xgboost workflow\n",
            "2025/06/16 09:06:37 WARNING mlflow.utils.autologging_utils: MLflow autologging encountered a warning: \"/usr/local/lib/python3.11/dist-packages/mlflow/types/utils.py:452: UserWarning: Hint: Inferred schema contains integer column(s). Integer columns in Python cannot represent missing values. If your input data contains missing values at inference time, it will be encoded as floats and will cause a schema enforcement error. The best way to avoid this problem is to infer the model schema based on a realistic data sample (training dataset) that includes missing values. Alternatively, you can declare integer columns as doubles (float64) whenever these columns may have missing values. See `Handling Integers With Missing Values <https://www.mlflow.org/docs/latest/models.html#handling-integers-with-missing-values>`_ for more details.\"\n",
            "2025/06/16 09:06:37 WARNING mlflow.models.model: `artifact_path` is deprecated. Please use `name` instead.\n",
            "[I 2025-06-16 09:06:45,179] Trial 44 finished with value: 0.875 and parameters: {'booster': 'gbtree', 'lambda': 3.881039437409978e-06, 'alpha': 0.00015236011552355588, 'subsample': 0.9403342190665369, 'colsample_bytree': 0.28729585255225965, 'max_depth': 3, 'min_child_weight': 3, 'eta': 0.033146395585222234, 'gamma': 0.004373110038809471, 'grow_policy': 'depthwise'}. Best is trial 23 with value: 0.9085257548845471.\n"
          ]
        },
        {
          "output_type": "stream",
          "name": "stdout",
          "text": [
            "🏃 View run whimsical-wolf-295 at: https://218d-35-247-53-211.ngrok-free.app/#/experiments/474008413382543543/runs/f0f4060bc0bf4fff9c52b3c51f14186f\n",
            "🧪 View experiment at: https://218d-35-247-53-211.ngrok-free.app/#/experiments/474008413382543543\n"
          ]
        },
        {
          "output_type": "stream",
          "name": "stderr",
          "text": [
            "2025/06/16 09:06:45 INFO mlflow.utils.autologging_utils: Created MLflow autologging run with ID 'd56486a92f7d40409c0ef2a30f8c7448', which will track hyperparameters, performance metrics, model artifacts, and lineage information for the current xgboost workflow\n",
            "2025/06/16 09:06:45 WARNING mlflow.utils.autologging_utils: MLflow autologging encountered a warning: \"/usr/local/lib/python3.11/dist-packages/mlflow/types/utils.py:452: UserWarning: Hint: Inferred schema contains integer column(s). Integer columns in Python cannot represent missing values. If your input data contains missing values at inference time, it will be encoded as floats and will cause a schema enforcement error. The best way to avoid this problem is to infer the model schema based on a realistic data sample (training dataset) that includes missing values. Alternatively, you can declare integer columns as doubles (float64) whenever these columns may have missing values. See `Handling Integers With Missing Values <https://www.mlflow.org/docs/latest/models.html#handling-integers-with-missing-values>`_ for more details.\"\n",
            "2025/06/16 09:06:45 WARNING mlflow.models.model: `artifact_path` is deprecated. Please use `name` instead.\n",
            "[I 2025-06-16 09:06:52,166] Trial 45 finished with value: 0.8958703374777975 and parameters: {'booster': 'gbtree', 'lambda': 3.81475741472084e-08, 'alpha': 1.7042757447096026e-05, 'subsample': 0.8180762669422036, 'colsample_bytree': 0.4193448697321335, 'max_depth': 5, 'min_child_weight': 9, 'eta': 0.12830635466332937, 'gamma': 0.0007150921790461421, 'grow_policy': 'depthwise'}. Best is trial 23 with value: 0.9085257548845471.\n"
          ]
        },
        {
          "output_type": "stream",
          "name": "stdout",
          "text": [
            "🏃 View run crawling-ram-128 at: https://218d-35-247-53-211.ngrok-free.app/#/experiments/474008413382543543/runs/d56486a92f7d40409c0ef2a30f8c7448\n",
            "🧪 View experiment at: https://218d-35-247-53-211.ngrok-free.app/#/experiments/474008413382543543\n"
          ]
        },
        {
          "output_type": "stream",
          "name": "stderr",
          "text": [
            "2025/06/16 09:06:52 INFO mlflow.utils.autologging_utils: Created MLflow autologging run with ID '6a119262556e401ca21c565b49de4529', which will track hyperparameters, performance metrics, model artifacts, and lineage information for the current xgboost workflow\n",
            "2025/06/16 09:06:52 WARNING mlflow.utils.autologging_utils: MLflow autologging encountered a warning: \"/usr/local/lib/python3.11/dist-packages/mlflow/types/utils.py:452: UserWarning: Hint: Inferred schema contains integer column(s). Integer columns in Python cannot represent missing values. If your input data contains missing values at inference time, it will be encoded as floats and will cause a schema enforcement error. The best way to avoid this problem is to infer the model schema based on a realistic data sample (training dataset) that includes missing values. Alternatively, you can declare integer columns as doubles (float64) whenever these columns may have missing values. See `Handling Integers With Missing Values <https://www.mlflow.org/docs/latest/models.html#handling-integers-with-missing-values>`_ for more details.\"\n",
            "2025/06/16 09:06:52 WARNING mlflow.models.model: `artifact_path` is deprecated. Please use `name` instead.\n",
            "[I 2025-06-16 09:07:00,565] Trial 46 finished with value: 0.8465808170515098 and parameters: {'booster': 'gblinear', 'lambda': 1.0160415931516897e-06, 'alpha': 2.0997207996526402e-07, 'subsample': 0.9897285022665554, 'colsample_bytree': 0.7861734951207608}. Best is trial 23 with value: 0.9085257548845471.\n"
          ]
        },
        {
          "output_type": "stream",
          "name": "stdout",
          "text": [
            "🏃 View run sophisticated-hen-80 at: https://218d-35-247-53-211.ngrok-free.app/#/experiments/474008413382543543/runs/6a119262556e401ca21c565b49de4529\n",
            "🧪 View experiment at: https://218d-35-247-53-211.ngrok-free.app/#/experiments/474008413382543543\n"
          ]
        },
        {
          "output_type": "stream",
          "name": "stderr",
          "text": [
            "2025/06/16 09:07:00 INFO mlflow.utils.autologging_utils: Created MLflow autologging run with ID 'a173a514a2cf49c29363de32ed4a83f9', which will track hyperparameters, performance metrics, model artifacts, and lineage information for the current xgboost workflow\n",
            "2025/06/16 09:07:01 WARNING mlflow.utils.autologging_utils: MLflow autologging encountered a warning: \"/usr/local/lib/python3.11/dist-packages/mlflow/types/utils.py:452: UserWarning: Hint: Inferred schema contains integer column(s). Integer columns in Python cannot represent missing values. If your input data contains missing values at inference time, it will be encoded as floats and will cause a schema enforcement error. The best way to avoid this problem is to infer the model schema based on a realistic data sample (training dataset) that includes missing values. Alternatively, you can declare integer columns as doubles (float64) whenever these columns may have missing values. See `Handling Integers With Missing Values <https://www.mlflow.org/docs/latest/models.html#handling-integers-with-missing-values>`_ for more details.\"\n",
            "2025/06/16 09:07:01 WARNING mlflow.models.model: `artifact_path` is deprecated. Please use `name` instead.\n"
          ]
        },
        {
          "output_type": "stream",
          "name": "stdout",
          "text": [
            "🏃 View run charming-duck-245 at: https://218d-35-247-53-211.ngrok-free.app/#/experiments/474008413382543543/runs/a173a514a2cf49c29363de32ed4a83f9\n",
            "🧪 View experiment at: https://218d-35-247-53-211.ngrok-free.app/#/experiments/474008413382543543\n"
          ]
        },
        {
          "output_type": "stream",
          "name": "stderr",
          "text": [
            "[I 2025-06-16 09:07:07,938] Trial 47 finished with value: 0.9007548845470693 and parameters: {'booster': 'dart', 'lambda': 3.3498237727702266e-05, 'alpha': 1.0961397547351982e-05, 'subsample': 0.8896193939173467, 'colsample_bytree': 0.5793529769541833, 'max_depth': 9, 'min_child_weight': 9, 'eta': 0.024303041768527253, 'gamma': 0.05229255267804305, 'grow_policy': 'depthwise', 'sample_type': 'weighted', 'normalize_type': 'forest', 'rate_drop': 0.1262692366787444, 'skip_drop': 9.598934511688828e-06}. Best is trial 23 with value: 0.9085257548845471.\n",
            "2025/06/16 09:07:08 INFO mlflow.utils.autologging_utils: Created MLflow autologging run with ID 'd1eba78e48ad4445af7015020fa0a532', which will track hyperparameters, performance metrics, model artifacts, and lineage information for the current xgboost workflow\n",
            "2025/06/16 09:07:09 WARNING mlflow.utils.autologging_utils: MLflow autologging encountered a warning: \"/usr/local/lib/python3.11/dist-packages/mlflow/types/utils.py:452: UserWarning: Hint: Inferred schema contains integer column(s). Integer columns in Python cannot represent missing values. If your input data contains missing values at inference time, it will be encoded as floats and will cause a schema enforcement error. The best way to avoid this problem is to infer the model schema based on a realistic data sample (training dataset) that includes missing values. Alternatively, you can declare integer columns as doubles (float64) whenever these columns may have missing values. See `Handling Integers With Missing Values <https://www.mlflow.org/docs/latest/models.html#handling-integers-with-missing-values>`_ for more details.\"\n",
            "2025/06/16 09:07:09 WARNING mlflow.models.model: `artifact_path` is deprecated. Please use `name` instead.\n",
            "[I 2025-06-16 09:07:16,544] Trial 48 finished with value: 0.9047513321492007 and parameters: {'booster': 'dart', 'lambda': 1.3395451522526222e-07, 'alpha': 3.0732057030664295e-07, 'subsample': 0.9973400792572102, 'colsample_bytree': 0.7440063907598252, 'max_depth': 9, 'min_child_weight': 7, 'eta': 0.012629444074370399, 'gamma': 0.004101779660902889, 'grow_policy': 'depthwise', 'sample_type': 'weighted', 'normalize_type': 'forest', 'rate_drop': 0.017610053776353152, 'skip_drop': 7.222179709177671e-07}. Best is trial 23 with value: 0.9085257548845471.\n"
          ]
        },
        {
          "output_type": "stream",
          "name": "stdout",
          "text": [
            "🏃 View run enthused-crane-218 at: https://218d-35-247-53-211.ngrok-free.app/#/experiments/474008413382543543/runs/d1eba78e48ad4445af7015020fa0a532\n",
            "🧪 View experiment at: https://218d-35-247-53-211.ngrok-free.app/#/experiments/474008413382543543\n"
          ]
        },
        {
          "output_type": "stream",
          "name": "stderr",
          "text": [
            "2025/06/16 09:07:16 INFO mlflow.utils.autologging_utils: Created MLflow autologging run with ID '0ec2930c5a42434c92d71a1fb8f14014', which will track hyperparameters, performance metrics, model artifacts, and lineage information for the current xgboost workflow\n",
            "2025/06/16 09:07:17 WARNING mlflow.utils.autologging_utils: MLflow autologging encountered a warning: \"/usr/local/lib/python3.11/dist-packages/mlflow/types/utils.py:452: UserWarning: Hint: Inferred schema contains integer column(s). Integer columns in Python cannot represent missing values. If your input data contains missing values at inference time, it will be encoded as floats and will cause a schema enforcement error. The best way to avoid this problem is to infer the model schema based on a realistic data sample (training dataset) that includes missing values. Alternatively, you can declare integer columns as doubles (float64) whenever these columns may have missing values. See `Handling Integers With Missing Values <https://www.mlflow.org/docs/latest/models.html#handling-integers-with-missing-values>`_ for more details.\"\n",
            "2025/06/16 09:07:17 WARNING mlflow.models.model: `artifact_path` is deprecated. Please use `name` instead.\n",
            "[I 2025-06-16 09:07:23,705] Trial 49 finished with value: 0.8983126110124334 and parameters: {'booster': 'dart', 'lambda': 1.7047207114611758e-05, 'alpha': 4.918629670330788e-05, 'subsample': 0.311767466617894, 'colsample_bytree': 0.8427234021850334, 'max_depth': 9, 'min_child_weight': 10, 'eta': 0.0010575716365522024, 'gamma': 0.20861400497871618, 'grow_policy': 'depthwise', 'sample_type': 'uniform', 'normalize_type': 'tree', 'rate_drop': 7.015823947658611e-08, 'skip_drop': 9.467819659245105e-07}. Best is trial 23 with value: 0.9085257548845471.\n"
          ]
        },
        {
          "output_type": "stream",
          "name": "stdout",
          "text": [
            "🏃 View run beautiful-sponge-188 at: https://218d-35-247-53-211.ngrok-free.app/#/experiments/474008413382543543/runs/0ec2930c5a42434c92d71a1fb8f14014\n",
            "🧪 View experiment at: https://218d-35-247-53-211.ngrok-free.app/#/experiments/474008413382543543\n"
          ]
        },
        {
          "output_type": "stream",
          "name": "stderr",
          "text": [
            "2025/06/16 09:07:23 INFO mlflow.utils.autologging_utils: Created MLflow autologging run with ID 'd8869d524600440abbc911fb26a8d478', which will track hyperparameters, performance metrics, model artifacts, and lineage information for the current xgboost workflow\n",
            "2025/06/16 09:07:24 WARNING mlflow.utils.autologging_utils: MLflow autologging encountered a warning: \"/usr/local/lib/python3.11/dist-packages/mlflow/types/utils.py:452: UserWarning: Hint: Inferred schema contains integer column(s). Integer columns in Python cannot represent missing values. If your input data contains missing values at inference time, it will be encoded as floats and will cause a schema enforcement error. The best way to avoid this problem is to infer the model schema based on a realistic data sample (training dataset) that includes missing values. Alternatively, you can declare integer columns as doubles (float64) whenever these columns may have missing values. See `Handling Integers With Missing Values <https://www.mlflow.org/docs/latest/models.html#handling-integers-with-missing-values>`_ for more details.\"\n",
            "2025/06/16 09:07:24 WARNING mlflow.models.model: `artifact_path` is deprecated. Please use `name` instead.\n",
            "[I 2025-06-16 09:07:31,140] Trial 50 finished with value: 0.8645648312611013 and parameters: {'booster': 'gbtree', 'lambda': 3.17883873592081e-08, 'alpha': 0.00032346000810285825, 'subsample': 0.758481246146647, 'colsample_bytree': 0.20647236098287503, 'max_depth': 7, 'min_child_weight': 8, 'eta': 0.00294572861771352, 'gamma': 0.00015045273879033222, 'grow_policy': 'depthwise'}. Best is trial 23 with value: 0.9085257548845471.\n"
          ]
        },
        {
          "output_type": "stream",
          "name": "stdout",
          "text": [
            "🏃 View run delightful-dove-555 at: https://218d-35-247-53-211.ngrok-free.app/#/experiments/474008413382543543/runs/d8869d524600440abbc911fb26a8d478\n",
            "🧪 View experiment at: https://218d-35-247-53-211.ngrok-free.app/#/experiments/474008413382543543\n"
          ]
        },
        {
          "output_type": "stream",
          "name": "stderr",
          "text": [
            "2025/06/16 09:07:31 INFO mlflow.utils.autologging_utils: Created MLflow autologging run with ID '1bf82cf77b7f421c952103f25fa69878', which will track hyperparameters, performance metrics, model artifacts, and lineage information for the current xgboost workflow\n",
            "2025/06/16 09:07:31 WARNING mlflow.utils.autologging_utils: MLflow autologging encountered a warning: \"/usr/local/lib/python3.11/dist-packages/mlflow/types/utils.py:452: UserWarning: Hint: Inferred schema contains integer column(s). Integer columns in Python cannot represent missing values. If your input data contains missing values at inference time, it will be encoded as floats and will cause a schema enforcement error. The best way to avoid this problem is to infer the model schema based on a realistic data sample (training dataset) that includes missing values. Alternatively, you can declare integer columns as doubles (float64) whenever these columns may have missing values. See `Handling Integers With Missing Values <https://www.mlflow.org/docs/latest/models.html#handling-integers-with-missing-values>`_ for more details.\"\n",
            "2025/06/16 09:07:31 WARNING mlflow.models.model: `artifact_path` is deprecated. Please use `name` instead.\n",
            "[I 2025-06-16 09:07:38,700] Trial 51 finished with value: 0.9047513321492007 and parameters: {'booster': 'gbtree', 'lambda': 3.3024559542553923e-07, 'alpha': 3.897464523203722e-06, 'subsample': 0.9543608420608032, 'colsample_bytree': 0.3972768290036735, 'max_depth': 9, 'min_child_weight': 10, 'eta': 0.006322877573843928, 'gamma': 0.014030114620006442, 'grow_policy': 'depthwise'}. Best is trial 23 with value: 0.9085257548845471.\n"
          ]
        },
        {
          "output_type": "stream",
          "name": "stdout",
          "text": [
            "🏃 View run zealous-quail-872 at: https://218d-35-247-53-211.ngrok-free.app/#/experiments/474008413382543543/runs/1bf82cf77b7f421c952103f25fa69878\n",
            "🧪 View experiment at: https://218d-35-247-53-211.ngrok-free.app/#/experiments/474008413382543543\n"
          ]
        },
        {
          "output_type": "stream",
          "name": "stderr",
          "text": [
            "2025/06/16 09:07:38 INFO mlflow.utils.autologging_utils: Created MLflow autologging run with ID '1ee0af8eaf3b41c7b87861fe8b72845d', which will track hyperparameters, performance metrics, model artifacts, and lineage information for the current xgboost workflow\n",
            "2025/06/16 09:07:39 WARNING mlflow.utils.autologging_utils: MLflow autologging encountered a warning: \"/usr/local/lib/python3.11/dist-packages/mlflow/types/utils.py:452: UserWarning: Hint: Inferred schema contains integer column(s). Integer columns in Python cannot represent missing values. If your input data contains missing values at inference time, it will be encoded as floats and will cause a schema enforcement error. The best way to avoid this problem is to infer the model schema based on a realistic data sample (training dataset) that includes missing values. Alternatively, you can declare integer columns as doubles (float64) whenever these columns may have missing values. See `Handling Integers With Missing Values <https://www.mlflow.org/docs/latest/models.html#handling-integers-with-missing-values>`_ for more details.\"\n",
            "2025/06/16 09:07:39 WARNING mlflow.models.model: `artifact_path` is deprecated. Please use `name` instead.\n",
            "[I 2025-06-16 09:07:45,867] Trial 52 finished with value: 0.9016429840142096 and parameters: {'booster': 'gbtree', 'lambda': 1.3409165275064326e-06, 'alpha': 1.4066549576216373e-06, 'subsample': 0.9590205790251963, 'colsample_bytree': 0.5105252745585076, 'max_depth': 9, 'min_child_weight': 10, 'eta': 0.01393230014599249, 'gamma': 0.04125510711690836, 'grow_policy': 'depthwise'}. Best is trial 23 with value: 0.9085257548845471.\n"
          ]
        },
        {
          "output_type": "stream",
          "name": "stdout",
          "text": [
            "🏃 View run intrigued-croc-275 at: https://218d-35-247-53-211.ngrok-free.app/#/experiments/474008413382543543/runs/1ee0af8eaf3b41c7b87861fe8b72845d\n",
            "🧪 View experiment at: https://218d-35-247-53-211.ngrok-free.app/#/experiments/474008413382543543\n"
          ]
        },
        {
          "output_type": "stream",
          "name": "stderr",
          "text": [
            "2025/06/16 09:07:46 INFO mlflow.utils.autologging_utils: Created MLflow autologging run with ID 'd81b1769b0634bd6bb048941ce367575', which will track hyperparameters, performance metrics, model artifacts, and lineage information for the current xgboost workflow\n",
            "2025/06/16 09:07:46 WARNING mlflow.utils.autologging_utils: MLflow autologging encountered a warning: \"/usr/local/lib/python3.11/dist-packages/mlflow/types/utils.py:452: UserWarning: Hint: Inferred schema contains integer column(s). Integer columns in Python cannot represent missing values. If your input data contains missing values at inference time, it will be encoded as floats and will cause a schema enforcement error. The best way to avoid this problem is to infer the model schema based on a realistic data sample (training dataset) that includes missing values. Alternatively, you can declare integer columns as doubles (float64) whenever these columns may have missing values. See `Handling Integers With Missing Values <https://www.mlflow.org/docs/latest/models.html#handling-integers-with-missing-values>`_ for more details.\"\n",
            "2025/06/16 09:07:46 WARNING mlflow.models.model: `artifact_path` is deprecated. Please use `name` instead.\n",
            "[I 2025-06-16 09:07:54,014] Trial 53 finished with value: 0.9047513321492007 and parameters: {'booster': 'gbtree', 'lambda': 4.961872643552186e-07, 'alpha': 4.320222855920622e-08, 'subsample': 0.8843076153552211, 'colsample_bytree': 0.3715805090734622, 'max_depth': 9, 'min_child_weight': 9, 'eta': 0.004478587643210938, 'gamma': 0.008777299699280875, 'grow_policy': 'depthwise'}. Best is trial 23 with value: 0.9085257548845471.\n"
          ]
        },
        {
          "output_type": "stream",
          "name": "stdout",
          "text": [
            "🏃 View run puzzled-bat-421 at: https://218d-35-247-53-211.ngrok-free.app/#/experiments/474008413382543543/runs/d81b1769b0634bd6bb048941ce367575\n",
            "🧪 View experiment at: https://218d-35-247-53-211.ngrok-free.app/#/experiments/474008413382543543\n"
          ]
        },
        {
          "output_type": "stream",
          "name": "stderr",
          "text": [
            "2025/06/16 09:07:54 INFO mlflow.utils.autologging_utils: Created MLflow autologging run with ID 'd55116a3d2a14d6fa9fe0b5a7575086b', which will track hyperparameters, performance metrics, model artifacts, and lineage information for the current xgboost workflow\n",
            "2025/06/16 09:07:54 WARNING mlflow.utils.autologging_utils: MLflow autologging encountered a warning: \"/usr/local/lib/python3.11/dist-packages/mlflow/types/utils.py:452: UserWarning: Hint: Inferred schema contains integer column(s). Integer columns in Python cannot represent missing values. If your input data contains missing values at inference time, it will be encoded as floats and will cause a schema enforcement error. The best way to avoid this problem is to infer the model schema based on a realistic data sample (training dataset) that includes missing values. Alternatively, you can declare integer columns as doubles (float64) whenever these columns may have missing values. See `Handling Integers With Missing Values <https://www.mlflow.org/docs/latest/models.html#handling-integers-with-missing-values>`_ for more details.\"\n",
            "2025/06/16 09:07:54 WARNING mlflow.models.model: `artifact_path` is deprecated. Please use `name` instead.\n",
            "[I 2025-06-16 09:08:01,121] Trial 54 finished with value: 0.9043072824156305 and parameters: {'booster': 'gbtree', 'lambda': 3.2101654241194585e-06, 'alpha': 4.909955805591704e-06, 'subsample': 0.9113448482044155, 'colsample_bytree': 0.45774796122561157, 'max_depth': 9, 'min_child_weight': 2, 'eta': 0.0553463790601649, 'gamma': 0.0023215857766160594, 'grow_policy': 'depthwise'}. Best is trial 23 with value: 0.9085257548845471.\n"
          ]
        },
        {
          "output_type": "stream",
          "name": "stdout",
          "text": [
            "🏃 View run overjoyed-kite-272 at: https://218d-35-247-53-211.ngrok-free.app/#/experiments/474008413382543543/runs/d55116a3d2a14d6fa9fe0b5a7575086b\n",
            "🧪 View experiment at: https://218d-35-247-53-211.ngrok-free.app/#/experiments/474008413382543543\n"
          ]
        },
        {
          "output_type": "stream",
          "name": "stderr",
          "text": [
            "2025/06/16 09:08:01 INFO mlflow.utils.autologging_utils: Created MLflow autologging run with ID '71f64551cb9f47538688125b1976e2ca', which will track hyperparameters, performance metrics, model artifacts, and lineage information for the current xgboost workflow\n",
            "2025/06/16 09:08:01 WARNING mlflow.utils.autologging_utils: MLflow autologging encountered a warning: \"/usr/local/lib/python3.11/dist-packages/mlflow/types/utils.py:452: UserWarning: Hint: Inferred schema contains integer column(s). Integer columns in Python cannot represent missing values. If your input data contains missing values at inference time, it will be encoded as floats and will cause a schema enforcement error. The best way to avoid this problem is to infer the model schema based on a realistic data sample (training dataset) that includes missing values. Alternatively, you can declare integer columns as doubles (float64) whenever these columns may have missing values. See `Handling Integers With Missing Values <https://www.mlflow.org/docs/latest/models.html#handling-integers-with-missing-values>`_ for more details.\"\n",
            "2025/06/16 09:08:01 WARNING mlflow.models.model: `artifact_path` is deprecated. Please use `name` instead.\n",
            "[I 2025-06-16 09:08:09,422] Trial 55 finished with value: 0.9040852575488455 and parameters: {'booster': 'dart', 'lambda': 7.389824285236733e-08, 'alpha': 1.6583535189581967e-06, 'subsample': 0.9298652091467957, 'colsample_bytree': 0.6627238391327239, 'max_depth': 9, 'min_child_weight': 10, 'eta': 0.0002768307295389433, 'gamma': 0.030776557135938805, 'grow_policy': 'depthwise', 'sample_type': 'weighted', 'normalize_type': 'forest', 'rate_drop': 3.851505698007243e-06, 'skip_drop': 1.3822231848048044e-05}. Best is trial 23 with value: 0.9085257548845471.\n"
          ]
        },
        {
          "output_type": "stream",
          "name": "stdout",
          "text": [
            "🏃 View run skittish-bear-398 at: https://218d-35-247-53-211.ngrok-free.app/#/experiments/474008413382543543/runs/71f64551cb9f47538688125b1976e2ca\n",
            "🧪 View experiment at: https://218d-35-247-53-211.ngrok-free.app/#/experiments/474008413382543543\n"
          ]
        },
        {
          "output_type": "stream",
          "name": "stderr",
          "text": [
            "2025/06/16 09:08:09 INFO mlflow.utils.autologging_utils: Created MLflow autologging run with ID '726e7db4e34b41909105f8320734ad93', which will track hyperparameters, performance metrics, model artifacts, and lineage information for the current xgboost workflow\n",
            "2025/06/16 09:08:10 WARNING mlflow.utils.autologging_utils: MLflow autologging encountered a warning: \"/usr/local/lib/python3.11/dist-packages/mlflow/types/utils.py:452: UserWarning: Hint: Inferred schema contains integer column(s). Integer columns in Python cannot represent missing values. If your input data contains missing values at inference time, it will be encoded as floats and will cause a schema enforcement error. The best way to avoid this problem is to infer the model schema based on a realistic data sample (training dataset) that includes missing values. Alternatively, you can declare integer columns as doubles (float64) whenever these columns may have missing values. See `Handling Integers With Missing Values <https://www.mlflow.org/docs/latest/models.html#handling-integers-with-missing-values>`_ for more details.\"\n",
            "2025/06/16 09:08:10 WARNING mlflow.models.model: `artifact_path` is deprecated. Please use `name` instead.\n",
            "[I 2025-06-16 09:08:16,390] Trial 56 finished with value: 0.8658969804618117 and parameters: {'booster': 'gbtree', 'lambda': 2.0221339720229963e-07, 'alpha': 6.99680073937773e-05, 'subsample': 0.810449515949117, 'colsample_bytree': 0.2606929179108239, 'max_depth': 9, 'min_child_weight': 8, 'eta': 0.0010440489045111065, 'gamma': 0.20117513651333246, 'grow_policy': 'lossguide'}. Best is trial 23 with value: 0.9085257548845471.\n"
          ]
        },
        {
          "output_type": "stream",
          "name": "stdout",
          "text": [
            "🏃 View run smiling-fowl-35 at: https://218d-35-247-53-211.ngrok-free.app/#/experiments/474008413382543543/runs/726e7db4e34b41909105f8320734ad93\n",
            "🧪 View experiment at: https://218d-35-247-53-211.ngrok-free.app/#/experiments/474008413382543543\n"
          ]
        },
        {
          "output_type": "stream",
          "name": "stderr",
          "text": [
            "2025/06/16 09:08:16 INFO mlflow.utils.autologging_utils: Created MLflow autologging run with ID 'a9ebe32386ca40518c6e92e737600760', which will track hyperparameters, performance metrics, model artifacts, and lineage information for the current xgboost workflow\n",
            "2025/06/16 09:08:17 WARNING mlflow.utils.autologging_utils: MLflow autologging encountered a warning: \"/usr/local/lib/python3.11/dist-packages/mlflow/types/utils.py:452: UserWarning: Hint: Inferred schema contains integer column(s). Integer columns in Python cannot represent missing values. If your input data contains missing values at inference time, it will be encoded as floats and will cause a schema enforcement error. The best way to avoid this problem is to infer the model schema based on a realistic data sample (training dataset) that includes missing values. Alternatively, you can declare integer columns as doubles (float64) whenever these columns may have missing values. See `Handling Integers With Missing Values <https://www.mlflow.org/docs/latest/models.html#handling-integers-with-missing-values>`_ for more details.\"\n",
            "2025/06/16 09:08:17 WARNING mlflow.models.model: `artifact_path` is deprecated. Please use `name` instead.\n",
            "[I 2025-06-16 09:08:25,166] Trial 57 finished with value: 0.9027531083481349 and parameters: {'booster': 'dart', 'lambda': 2.6425288707758472e-08, 'alpha': 6.771657099705408e-07, 'subsample': 0.9669964553577158, 'colsample_bytree': 0.9474175257415374, 'max_depth': 9, 'min_child_weight': 9, 'eta': 0.002930519600458942, 'gamma': 0.0032597540668365304, 'grow_policy': 'depthwise', 'sample_type': 'weighted', 'normalize_type': 'tree', 'rate_drop': 0.26715115434186754, 'skip_drop': 8.633680570460284e-05}. Best is trial 23 with value: 0.9085257548845471.\n"
          ]
        },
        {
          "output_type": "stream",
          "name": "stdout",
          "text": [
            "🏃 View run hilarious-eel-813 at: https://218d-35-247-53-211.ngrok-free.app/#/experiments/474008413382543543/runs/a9ebe32386ca40518c6e92e737600760\n",
            "🧪 View experiment at: https://218d-35-247-53-211.ngrok-free.app/#/experiments/474008413382543543\n"
          ]
        },
        {
          "output_type": "stream",
          "name": "stderr",
          "text": [
            "2025/06/16 09:08:25 INFO mlflow.utils.autologging_utils: Created MLflow autologging run with ID '85cca332f0da496193dfea3efdbfc414', which will track hyperparameters, performance metrics, model artifacts, and lineage information for the current xgboost workflow\n",
            "2025/06/16 09:08:25 WARNING mlflow.utils.autologging_utils: MLflow autologging encountered a warning: \"/usr/local/lib/python3.11/dist-packages/mlflow/types/utils.py:452: UserWarning: Hint: Inferred schema contains integer column(s). Integer columns in Python cannot represent missing values. If your input data contains missing values at inference time, it will be encoded as floats and will cause a schema enforcement error. The best way to avoid this problem is to infer the model schema based on a realistic data sample (training dataset) that includes missing values. Alternatively, you can declare integer columns as doubles (float64) whenever these columns may have missing values. See `Handling Integers With Missing Values <https://www.mlflow.org/docs/latest/models.html#handling-integers-with-missing-values>`_ for more details.\"\n",
            "2025/06/16 09:08:25 WARNING mlflow.models.model: `artifact_path` is deprecated. Please use `name` instead.\n",
            "[I 2025-06-16 09:08:32,033] Trial 58 finished with value: 0.8472468916518651 and parameters: {'booster': 'gblinear', 'lambda': 0.1418143896839509, 'alpha': 1.0478147752164288e-08, 'subsample': 0.8638759530794983, 'colsample_bytree': 0.5504458375083046}. Best is trial 23 with value: 0.9085257548845471.\n"
          ]
        },
        {
          "output_type": "stream",
          "name": "stdout",
          "text": [
            "🏃 View run orderly-gull-680 at: https://218d-35-247-53-211.ngrok-free.app/#/experiments/474008413382543543/runs/85cca332f0da496193dfea3efdbfc414\n",
            "🧪 View experiment at: https://218d-35-247-53-211.ngrok-free.app/#/experiments/474008413382543543\n"
          ]
        },
        {
          "output_type": "stream",
          "name": "stderr",
          "text": [
            "2025/06/16 09:08:32 INFO mlflow.utils.autologging_utils: Created MLflow autologging run with ID '807991e7992344c38560cd41f981433e', which will track hyperparameters, performance metrics, model artifacts, and lineage information for the current xgboost workflow\n",
            "2025/06/16 09:08:32 WARNING mlflow.utils.autologging_utils: MLflow autologging encountered a warning: \"/usr/local/lib/python3.11/dist-packages/mlflow/types/utils.py:452: UserWarning: Hint: Inferred schema contains integer column(s). Integer columns in Python cannot represent missing values. If your input data contains missing values at inference time, it will be encoded as floats and will cause a schema enforcement error. The best way to avoid this problem is to infer the model schema based on a realistic data sample (training dataset) that includes missing values. Alternatively, you can declare integer columns as doubles (float64) whenever these columns may have missing values. See `Handling Integers With Missing Values <https://www.mlflow.org/docs/latest/models.html#handling-integers-with-missing-values>`_ for more details.\"\n",
            "2025/06/16 09:08:32 WARNING mlflow.models.model: `artifact_path` is deprecated. Please use `name` instead.\n"
          ]
        },
        {
          "output_type": "stream",
          "name": "stdout",
          "text": [
            "🏃 View run abrasive-finch-561 at: https://218d-35-247-53-211.ngrok-free.app/#/experiments/474008413382543543/runs/807991e7992344c38560cd41f981433e\n",
            "🧪 View experiment at: https://218d-35-247-53-211.ngrok-free.app/#/experiments/474008413382543543\n"
          ]
        },
        {
          "output_type": "stream",
          "name": "stderr",
          "text": [
            "[I 2025-06-16 09:08:40,287] Trial 59 finished with value: 0.8852131438721137 and parameters: {'booster': 'dart', 'lambda': 1.0196867520927655e-06, 'alpha': 7.414129190567142e-06, 'subsample': 0.46884860152977886, 'colsample_bytree': 0.7241330187458166, 'max_depth': 3, 'min_child_weight': 6, 'eta': 0.2152038398913282, 'gamma': 0.00037855010513407534, 'grow_policy': 'lossguide', 'sample_type': 'weighted', 'normalize_type': 'forest', 'rate_drop': 5.987501221357435e-07, 'skip_drop': 1.4750769027387072e-08}. Best is trial 23 with value: 0.9085257548845471.\n",
            "2025/06/16 09:08:40 INFO mlflow.utils.autologging_utils: Created MLflow autologging run with ID '1227486e2c6e4b85bba40a8c82f55030', which will track hyperparameters, performance metrics, model artifacts, and lineage information for the current xgboost workflow\n",
            "2025/06/16 09:08:41 WARNING mlflow.utils.autologging_utils: MLflow autologging encountered a warning: \"/usr/local/lib/python3.11/dist-packages/mlflow/types/utils.py:452: UserWarning: Hint: Inferred schema contains integer column(s). Integer columns in Python cannot represent missing values. If your input data contains missing values at inference time, it will be encoded as floats and will cause a schema enforcement error. The best way to avoid this problem is to infer the model schema based on a realistic data sample (training dataset) that includes missing values. Alternatively, you can declare integer columns as doubles (float64) whenever these columns may have missing values. See `Handling Integers With Missing Values <https://www.mlflow.org/docs/latest/models.html#handling-integers-with-missing-values>`_ for more details.\"\n",
            "2025/06/16 09:08:41 WARNING mlflow.models.model: `artifact_path` is deprecated. Please use `name` instead.\n"
          ]
        },
        {
          "output_type": "stream",
          "name": "stdout",
          "text": [
            "🏃 View run merciful-foal-741 at: https://218d-35-247-53-211.ngrok-free.app/#/experiments/474008413382543543/runs/1227486e2c6e4b85bba40a8c82f55030\n",
            "🧪 View experiment at: https://218d-35-247-53-211.ngrok-free.app/#/experiments/474008413382543543\n"
          ]
        },
        {
          "output_type": "stream",
          "name": "stderr",
          "text": [
            "[I 2025-06-16 09:08:47,504] Trial 60 finished with value: 0.9063055062166963 and parameters: {'booster': 'dart', 'lambda': 1.3025237792400027e-05, 'alpha': 0.009335818544708368, 'subsample': 0.8885986828642559, 'colsample_bytree': 0.8240132449306842, 'max_depth': 9, 'min_child_weight': 7, 'eta': 2.7258509824581486e-06, 'gamma': 0.0007765547468669724, 'grow_policy': 'lossguide', 'sample_type': 'uniform', 'normalize_type': 'forest', 'rate_drop': 1.1564031947539892e-08, 'skip_drop': 5.180853312428193e-08}. Best is trial 23 with value: 0.9085257548845471.\n",
            "2025/06/16 09:08:47 INFO mlflow.utils.autologging_utils: Created MLflow autologging run with ID '7c9fdb5a50e1423d84f5f09f07a39ca1', which will track hyperparameters, performance metrics, model artifacts, and lineage information for the current xgboost workflow\n",
            "2025/06/16 09:08:48 WARNING mlflow.utils.autologging_utils: MLflow autologging encountered a warning: \"/usr/local/lib/python3.11/dist-packages/mlflow/types/utils.py:452: UserWarning: Hint: Inferred schema contains integer column(s). Integer columns in Python cannot represent missing values. If your input data contains missing values at inference time, it will be encoded as floats and will cause a schema enforcement error. The best way to avoid this problem is to infer the model schema based on a realistic data sample (training dataset) that includes missing values. Alternatively, you can declare integer columns as doubles (float64) whenever these columns may have missing values. See `Handling Integers With Missing Values <https://www.mlflow.org/docs/latest/models.html#handling-integers-with-missing-values>`_ for more details.\"\n",
            "2025/06/16 09:08:48 WARNING mlflow.models.model: `artifact_path` is deprecated. Please use `name` instead.\n",
            "[I 2025-06-16 09:08:55,942] Trial 61 finished with value: 0.9045293072824157 and parameters: {'booster': 'dart', 'lambda': 1.2309478943091733e-05, 'alpha': 0.012063752922253994, 'subsample': 0.8831091682923369, 'colsample_bytree': 0.8265979174744493, 'max_depth': 9, 'min_child_weight': 7, 'eta': 1.0575606959040532e-06, 'gamma': 0.0009406623640399759, 'grow_policy': 'lossguide', 'sample_type': 'uniform', 'normalize_type': 'forest', 'rate_drop': 1.2022555834931164e-08, 'skip_drop': 4.757736110509335e-08}. Best is trial 23 with value: 0.9085257548845471.\n"
          ]
        },
        {
          "output_type": "stream",
          "name": "stdout",
          "text": [
            "🏃 View run efficient-cod-194 at: https://218d-35-247-53-211.ngrok-free.app/#/experiments/474008413382543543/runs/7c9fdb5a50e1423d84f5f09f07a39ca1\n",
            "🧪 View experiment at: https://218d-35-247-53-211.ngrok-free.app/#/experiments/474008413382543543\n"
          ]
        },
        {
          "output_type": "stream",
          "name": "stderr",
          "text": [
            "2025/06/16 09:08:56 INFO mlflow.utils.autologging_utils: Created MLflow autologging run with ID 'f02b216062ba47289dd5c31e7c458e5a', which will track hyperparameters, performance metrics, model artifacts, and lineage information for the current xgboost workflow\n",
            "2025/06/16 09:08:56 WARNING mlflow.utils.autologging_utils: MLflow autologging encountered a warning: \"/usr/local/lib/python3.11/dist-packages/mlflow/types/utils.py:452: UserWarning: Hint: Inferred schema contains integer column(s). Integer columns in Python cannot represent missing values. If your input data contains missing values at inference time, it will be encoded as floats and will cause a schema enforcement error. The best way to avoid this problem is to infer the model schema based on a realistic data sample (training dataset) that includes missing values. Alternatively, you can declare integer columns as doubles (float64) whenever these columns may have missing values. See `Handling Integers With Missing Values <https://www.mlflow.org/docs/latest/models.html#handling-integers-with-missing-values>`_ for more details.\"\n",
            "2025/06/16 09:08:56 WARNING mlflow.models.model: `artifact_path` is deprecated. Please use `name` instead.\n"
          ]
        },
        {
          "output_type": "stream",
          "name": "stdout",
          "text": [
            "🏃 View run masked-gull-38 at: https://218d-35-247-53-211.ngrok-free.app/#/experiments/474008413382543543/runs/f02b216062ba47289dd5c31e7c458e5a\n",
            "🧪 View experiment at: https://218d-35-247-53-211.ngrok-free.app/#/experiments/474008413382543543\n"
          ]
        },
        {
          "output_type": "stream",
          "name": "stderr",
          "text": [
            "[I 2025-06-16 09:09:03,251] Trial 62 finished with value: 0.9058614564831261 and parameters: {'booster': 'dart', 'lambda': 1.6819939315427312e-05, 'alpha': 0.10594488786321529, 'subsample': 0.969677587519553, 'colsample_bytree': 0.8615026294285291, 'max_depth': 9, 'min_child_weight': 6, 'eta': 1.1325675714692195e-07, 'gamma': 0.008567722363104708, 'grow_policy': 'lossguide', 'sample_type': 'uniform', 'normalize_type': 'forest', 'rate_drop': 0.00011510445836527044, 'skip_drop': 5.254025131053417e-07}. Best is trial 23 with value: 0.9085257548845471.\n",
            "2025/06/16 09:09:03 INFO mlflow.utils.autologging_utils: Created MLflow autologging run with ID '9c5fbdd7135d4945b5508b0b9b47021f', which will track hyperparameters, performance metrics, model artifacts, and lineage information for the current xgboost workflow\n",
            "2025/06/16 09:09:04 WARNING mlflow.utils.autologging_utils: MLflow autologging encountered a warning: \"/usr/local/lib/python3.11/dist-packages/mlflow/types/utils.py:452: UserWarning: Hint: Inferred schema contains integer column(s). Integer columns in Python cannot represent missing values. If your input data contains missing values at inference time, it will be encoded as floats and will cause a schema enforcement error. The best way to avoid this problem is to infer the model schema based on a realistic data sample (training dataset) that includes missing values. Alternatively, you can declare integer columns as doubles (float64) whenever these columns may have missing values. See `Handling Integers With Missing Values <https://www.mlflow.org/docs/latest/models.html#handling-integers-with-missing-values>`_ for more details.\"\n",
            "2025/06/16 09:09:04 WARNING mlflow.models.model: `artifact_path` is deprecated. Please use `name` instead.\n",
            "[I 2025-06-16 09:09:11,188] Trial 63 finished with value: 0.8909857904085258 and parameters: {'booster': 'dart', 'lambda': 6.88948171898311e-05, 'alpha': 0.12429185008554504, 'subsample': 0.9993409888455498, 'colsample_bytree': 0.7831639809550555, 'max_depth': 9, 'min_child_weight': 6, 'eta': 2.066895388976346e-08, 'gamma': 0.010122956013817299, 'grow_policy': 'lossguide', 'sample_type': 'uniform', 'normalize_type': 'forest', 'rate_drop': 0.00017493726585128295, 'skip_drop': 3.9665010716218316e-07}. Best is trial 23 with value: 0.9085257548845471.\n"
          ]
        },
        {
          "output_type": "stream",
          "name": "stdout",
          "text": [
            "🏃 View run honorable-deer-247 at: https://218d-35-247-53-211.ngrok-free.app/#/experiments/474008413382543543/runs/9c5fbdd7135d4945b5508b0b9b47021f\n",
            "🧪 View experiment at: https://218d-35-247-53-211.ngrok-free.app/#/experiments/474008413382543543\n"
          ]
        },
        {
          "output_type": "stream",
          "name": "stderr",
          "text": [
            "2025/06/16 09:09:11 INFO mlflow.utils.autologging_utils: Created MLflow autologging run with ID '0c916554a1524ca294253d610970da96', which will track hyperparameters, performance metrics, model artifacts, and lineage information for the current xgboost workflow\n",
            "2025/06/16 09:09:11 WARNING mlflow.utils.autologging_utils: MLflow autologging encountered a warning: \"/usr/local/lib/python3.11/dist-packages/mlflow/types/utils.py:452: UserWarning: Hint: Inferred schema contains integer column(s). Integer columns in Python cannot represent missing values. If your input data contains missing values at inference time, it will be encoded as floats and will cause a schema enforcement error. The best way to avoid this problem is to infer the model schema based on a realistic data sample (training dataset) that includes missing values. Alternatively, you can declare integer columns as doubles (float64) whenever these columns may have missing values. See `Handling Integers With Missing Values <https://www.mlflow.org/docs/latest/models.html#handling-integers-with-missing-values>`_ for more details.\"\n",
            "2025/06/16 09:09:11 WARNING mlflow.models.model: `artifact_path` is deprecated. Please use `name` instead.\n"
          ]
        },
        {
          "output_type": "stream",
          "name": "stdout",
          "text": [
            "🏃 View run painted-seal-754 at: https://218d-35-247-53-211.ngrok-free.app/#/experiments/474008413382543543/runs/0c916554a1524ca294253d610970da96\n",
            "🧪 View experiment at: https://218d-35-247-53-211.ngrok-free.app/#/experiments/474008413382543543\n"
          ]
        },
        {
          "output_type": "stream",
          "name": "stderr",
          "text": [
            "[I 2025-06-16 09:09:18,683] Trial 64 finished with value: 0.908303730017762 and parameters: {'booster': 'dart', 'lambda': 6.099112348045614e-06, 'alpha': 0.22446468525435995, 'subsample': 0.839488894884097, 'colsample_bytree': 0.8664155380648325, 'max_depth': 9, 'min_child_weight': 5, 'eta': 5.003745119968236e-08, 'gamma': 0.002061072155450935, 'grow_policy': 'lossguide', 'sample_type': 'uniform', 'normalize_type': 'forest', 'rate_drop': 3.503111819603233e-05, 'skip_drop': 2.958996407472956e-06}. Best is trial 23 with value: 0.9085257548845471.\n",
            "2025/06/16 09:09:18 INFO mlflow.utils.autologging_utils: Created MLflow autologging run with ID '8594a11458054d6f86e8c2a5b2cd8a66', which will track hyperparameters, performance metrics, model artifacts, and lineage information for the current xgboost workflow\n",
            "2025/06/16 09:09:19 WARNING mlflow.utils.autologging_utils: MLflow autologging encountered a warning: \"/usr/local/lib/python3.11/dist-packages/mlflow/types/utils.py:452: UserWarning: Hint: Inferred schema contains integer column(s). Integer columns in Python cannot represent missing values. If your input data contains missing values at inference time, it will be encoded as floats and will cause a schema enforcement error. The best way to avoid this problem is to infer the model schema based on a realistic data sample (training dataset) that includes missing values. Alternatively, you can declare integer columns as doubles (float64) whenever these columns may have missing values. See `Handling Integers With Missing Values <https://www.mlflow.org/docs/latest/models.html#handling-integers-with-missing-values>`_ for more details.\"\n",
            "2025/06/16 09:09:19 WARNING mlflow.models.model: `artifact_path` is deprecated. Please use `name` instead.\n",
            "[I 2025-06-16 09:09:25,982] Trial 65 finished with value: 0.9091918294849023 and parameters: {'booster': 'dart', 'lambda': 4.753471494267503e-06, 'alpha': 0.3266027192775913, 'subsample': 0.8376880644393908, 'colsample_bytree': 0.8677921489329279, 'max_depth': 9, 'min_child_weight': 5, 'eta': 9.787927711840947e-08, 'gamma': 0.0001884345722651077, 'grow_policy': 'lossguide', 'sample_type': 'uniform', 'normalize_type': 'forest', 'rate_drop': 2.7505515477792895e-05, 'skip_drop': 3.901305189725552e-06}. Best is trial 65 with value: 0.9091918294849023.\n"
          ]
        },
        {
          "output_type": "stream",
          "name": "stdout",
          "text": [
            "🏃 View run lyrical-ray-840 at: https://218d-35-247-53-211.ngrok-free.app/#/experiments/474008413382543543/runs/8594a11458054d6f86e8c2a5b2cd8a66\n",
            "🧪 View experiment at: https://218d-35-247-53-211.ngrok-free.app/#/experiments/474008413382543543\n"
          ]
        },
        {
          "output_type": "stream",
          "name": "stderr",
          "text": [
            "2025/06/16 09:09:26 INFO mlflow.utils.autologging_utils: Created MLflow autologging run with ID 'ec09cf471522424dbb5916feabd39302', which will track hyperparameters, performance metrics, model artifacts, and lineage information for the current xgboost workflow\n",
            "2025/06/16 09:09:26 WARNING mlflow.utils.autologging_utils: MLflow autologging encountered a warning: \"/usr/local/lib/python3.11/dist-packages/mlflow/types/utils.py:452: UserWarning: Hint: Inferred schema contains integer column(s). Integer columns in Python cannot represent missing values. If your input data contains missing values at inference time, it will be encoded as floats and will cause a schema enforcement error. The best way to avoid this problem is to infer the model schema based on a realistic data sample (training dataset) that includes missing values. Alternatively, you can declare integer columns as doubles (float64) whenever these columns may have missing values. See `Handling Integers With Missing Values <https://www.mlflow.org/docs/latest/models.html#handling-integers-with-missing-values>`_ for more details.\"\n",
            "2025/06/16 09:09:26 WARNING mlflow.models.model: `artifact_path` is deprecated. Please use `name` instead.\n",
            "[I 2025-06-16 09:09:33,711] Trial 66 finished with value: 0.8936500888099467 and parameters: {'booster': 'dart', 'lambda': 6.349109520592766e-06, 'alpha': 0.28640880469240965, 'subsample': 0.7882130188753439, 'colsample_bytree': 0.9515175181997114, 'max_depth': 5, 'min_child_weight': 5, 'eta': 7.293403939094421e-08, 'gamma': 0.00012215106428765338, 'grow_policy': 'lossguide', 'sample_type': 'uniform', 'normalize_type': 'forest', 'rate_drop': 3.757860461779234e-05, 'skip_drop': 3.352458417754546e-06}. Best is trial 65 with value: 0.9091918294849023.\n"
          ]
        },
        {
          "output_type": "stream",
          "name": "stdout",
          "text": [
            "🏃 View run exultant-doe-379 at: https://218d-35-247-53-211.ngrok-free.app/#/experiments/474008413382543543/runs/ec09cf471522424dbb5916feabd39302\n",
            "🧪 View experiment at: https://218d-35-247-53-211.ngrok-free.app/#/experiments/474008413382543543\n"
          ]
        },
        {
          "output_type": "stream",
          "name": "stderr",
          "text": [
            "2025/06/16 09:09:33 INFO mlflow.utils.autologging_utils: Created MLflow autologging run with ID '48b814c2554840edbc20fc01b751bd4a', which will track hyperparameters, performance metrics, model artifacts, and lineage information for the current xgboost workflow\n",
            "2025/06/16 09:09:34 WARNING mlflow.utils.autologging_utils: MLflow autologging encountered a warning: \"/usr/local/lib/python3.11/dist-packages/mlflow/types/utils.py:452: UserWarning: Hint: Inferred schema contains integer column(s). Integer columns in Python cannot represent missing values. If your input data contains missing values at inference time, it will be encoded as floats and will cause a schema enforcement error. The best way to avoid this problem is to infer the model schema based on a realistic data sample (training dataset) that includes missing values. Alternatively, you can declare integer columns as doubles (float64) whenever these columns may have missing values. See `Handling Integers With Missing Values <https://www.mlflow.org/docs/latest/models.html#handling-integers-with-missing-values>`_ for more details.\"\n",
            "2025/06/16 09:09:34 WARNING mlflow.models.model: `artifact_path` is deprecated. Please use `name` instead.\n",
            "[I 2025-06-16 09:09:40,854] Trial 67 finished with value: 0.9018650088809946 and parameters: {'booster': 'dart', 'lambda': 4.4610077251786385e-06, 'alpha': 0.033999586859315555, 'subsample': 0.7607770043135554, 'colsample_bytree': 0.8649991699114783, 'max_depth': 7, 'min_child_weight': 4, 'eta': 1.0984892594654216e-06, 'gamma': 0.0001960370606313844, 'grow_policy': 'lossguide', 'sample_type': 'uniform', 'normalize_type': 'forest', 'rate_drop': 3.6959895154053316e-06, 'skip_drop': 1.904807667434549e-06}. Best is trial 65 with value: 0.9091918294849023.\n"
          ]
        },
        {
          "output_type": "stream",
          "name": "stdout",
          "text": [
            "🏃 View run delightful-crow-334 at: https://218d-35-247-53-211.ngrok-free.app/#/experiments/474008413382543543/runs/48b814c2554840edbc20fc01b751bd4a\n",
            "🧪 View experiment at: https://218d-35-247-53-211.ngrok-free.app/#/experiments/474008413382543543\n"
          ]
        },
        {
          "output_type": "stream",
          "name": "stderr",
          "text": [
            "2025/06/16 09:09:41 INFO mlflow.utils.autologging_utils: Created MLflow autologging run with ID 'dfa94b8a77284c1a97d2d707d83b5ef0', which will track hyperparameters, performance metrics, model artifacts, and lineage information for the current xgboost workflow\n",
            "2025/06/16 09:09:41 WARNING mlflow.utils.autologging_utils: MLflow autologging encountered a warning: \"/usr/local/lib/python3.11/dist-packages/mlflow/types/utils.py:452: UserWarning: Hint: Inferred schema contains integer column(s). Integer columns in Python cannot represent missing values. If your input data contains missing values at inference time, it will be encoded as floats and will cause a schema enforcement error. The best way to avoid this problem is to infer the model schema based on a realistic data sample (training dataset) that includes missing values. Alternatively, you can declare integer columns as doubles (float64) whenever these columns may have missing values. See `Handling Integers With Missing Values <https://www.mlflow.org/docs/latest/models.html#handling-integers-with-missing-values>`_ for more details.\"\n",
            "2025/06/16 09:09:41 WARNING mlflow.models.model: `artifact_path` is deprecated. Please use `name` instead.\n",
            "[I 2025-06-16 09:09:48,977] Trial 68 finished with value: 0.8647868561278863 and parameters: {'booster': 'dart', 'lambda': 5.5148328629601865e-05, 'alpha': 0.3565342964293081, 'subsample': 0.7406426510313603, 'colsample_bytree': 0.8265295796016356, 'max_depth': 9, 'min_child_weight': 4, 'eta': 1.0460385802403843e-08, 'gamma': 0.0003936946911501503, 'grow_policy': 'lossguide', 'sample_type': 'uniform', 'normalize_type': 'forest', 'rate_drop': 1.3214333001030087e-05, 'skip_drop': 6.036874802466762e-06}. Best is trial 65 with value: 0.9091918294849023.\n"
          ]
        },
        {
          "output_type": "stream",
          "name": "stdout",
          "text": [
            "🏃 View run bedecked-flea-150 at: https://218d-35-247-53-211.ngrok-free.app/#/experiments/474008413382543543/runs/dfa94b8a77284c1a97d2d707d83b5ef0\n",
            "🧪 View experiment at: https://218d-35-247-53-211.ngrok-free.app/#/experiments/474008413382543543\n"
          ]
        },
        {
          "output_type": "stream",
          "name": "stderr",
          "text": [
            "2025/06/16 09:09:49 INFO mlflow.utils.autologging_utils: Created MLflow autologging run with ID '8cac069a5a9749b296ff37f61cc2949a', which will track hyperparameters, performance metrics, model artifacts, and lineage information for the current xgboost workflow\n",
            "2025/06/16 09:09:49 WARNING mlflow.utils.autologging_utils: MLflow autologging encountered a warning: \"/usr/local/lib/python3.11/dist-packages/mlflow/types/utils.py:452: UserWarning: Hint: Inferred schema contains integer column(s). Integer columns in Python cannot represent missing values. If your input data contains missing values at inference time, it will be encoded as floats and will cause a schema enforcement error. The best way to avoid this problem is to infer the model schema based on a realistic data sample (training dataset) that includes missing values. Alternatively, you can declare integer columns as doubles (float64) whenever these columns may have missing values. See `Handling Integers With Missing Values <https://www.mlflow.org/docs/latest/models.html#handling-integers-with-missing-values>`_ for more details.\"\n",
            "2025/06/16 09:09:49 WARNING mlflow.models.model: `artifact_path` is deprecated. Please use `name` instead.\n",
            "[I 2025-06-16 09:09:56,194] Trial 69 finished with value: 0.9071936056838366 and parameters: {'booster': 'dart', 'lambda': 2.3198794943411266e-05, 'alpha': 0.003284066308286126, 'subsample': 0.8412834945220322, 'colsample_bytree': 0.9000292283649532, 'max_depth': 9, 'min_child_weight': 5, 'eta': 5.020437791158291e-06, 'gamma': 0.0013987740530143824, 'grow_policy': 'lossguide', 'sample_type': 'uniform', 'normalize_type': 'forest', 'rate_drop': 4.65924525625506e-07, 'skip_drop': 1.0722947082344946e-07}. Best is trial 65 with value: 0.9091918294849023.\n"
          ]
        },
        {
          "output_type": "stream",
          "name": "stdout",
          "text": [
            "🏃 View run judicious-midge-689 at: https://218d-35-247-53-211.ngrok-free.app/#/experiments/474008413382543543/runs/8cac069a5a9749b296ff37f61cc2949a\n",
            "🧪 View experiment at: https://218d-35-247-53-211.ngrok-free.app/#/experiments/474008413382543543\n"
          ]
        },
        {
          "output_type": "stream",
          "name": "stderr",
          "text": [
            "2025/06/16 09:09:56 INFO mlflow.utils.autologging_utils: Created MLflow autologging run with ID 'ecd87773f8894bf2b33383c428d42df9', which will track hyperparameters, performance metrics, model artifacts, and lineage information for the current xgboost workflow\n",
            "2025/06/16 09:09:56 WARNING mlflow.utils.autologging_utils: MLflow autologging encountered a warning: \"/usr/local/lib/python3.11/dist-packages/mlflow/types/utils.py:452: UserWarning: Hint: Inferred schema contains integer column(s). Integer columns in Python cannot represent missing values. If your input data contains missing values at inference time, it will be encoded as floats and will cause a schema enforcement error. The best way to avoid this problem is to infer the model schema based on a realistic data sample (training dataset) that includes missing values. Alternatively, you can declare integer columns as doubles (float64) whenever these columns may have missing values. See `Handling Integers With Missing Values <https://www.mlflow.org/docs/latest/models.html#handling-integers-with-missing-values>`_ for more details.\"\n",
            "2025/06/16 09:09:56 WARNING mlflow.models.model: `artifact_path` is deprecated. Please use `name` instead.\n",
            "[I 2025-06-16 09:10:04,787] Trial 70 finished with value: 0.9089698046181173 and parameters: {'booster': 'dart', 'lambda': 2.392270616797382e-05, 'alpha': 0.005784287032467667, 'subsample': 0.8328661417048779, 'colsample_bytree': 0.8870422876584058, 'max_depth': 9, 'min_child_weight': 5, 'eta': 3.731011862521887e-07, 'gamma': 0.0019815081008427845, 'grow_policy': 'lossguide', 'sample_type': 'uniform', 'normalize_type': 'forest', 'rate_drop': 4.175426858232284e-06, 'skip_drop': 2.2758335792409833e-05}. Best is trial 65 with value: 0.9091918294849023.\n"
          ]
        },
        {
          "output_type": "stream",
          "name": "stdout",
          "text": [
            "🏃 View run abrasive-bass-522 at: https://218d-35-247-53-211.ngrok-free.app/#/experiments/474008413382543543/runs/ecd87773f8894bf2b33383c428d42df9\n",
            "🧪 View experiment at: https://218d-35-247-53-211.ngrok-free.app/#/experiments/474008413382543543\n"
          ]
        },
        {
          "output_type": "stream",
          "name": "stderr",
          "text": [
            "2025/06/16 09:10:05 INFO mlflow.utils.autologging_utils: Created MLflow autologging run with ID 'd73a50ad53784ca9bc5ee14bd641f1b8', which will track hyperparameters, performance metrics, model artifacts, and lineage information for the current xgboost workflow\n",
            "2025/06/16 09:10:05 WARNING mlflow.utils.autologging_utils: MLflow autologging encountered a warning: \"/usr/local/lib/python3.11/dist-packages/mlflow/types/utils.py:452: UserWarning: Hint: Inferred schema contains integer column(s). Integer columns in Python cannot represent missing values. If your input data contains missing values at inference time, it will be encoded as floats and will cause a schema enforcement error. The best way to avoid this problem is to infer the model schema based on a realistic data sample (training dataset) that includes missing values. Alternatively, you can declare integer columns as doubles (float64) whenever these columns may have missing values. See `Handling Integers With Missing Values <https://www.mlflow.org/docs/latest/models.html#handling-integers-with-missing-values>`_ for more details.\"\n",
            "2025/06/16 09:10:05 WARNING mlflow.models.model: `artifact_path` is deprecated. Please use `name` instead.\n",
            "[I 2025-06-16 09:10:12,105] Trial 71 finished with value: 0.9076376554174067 and parameters: {'booster': 'dart', 'lambda': 2.2932267364520978e-05, 'alpha': 0.0033341447995140065, 'subsample': 0.8411781792031945, 'colsample_bytree': 0.8907641533755385, 'max_depth': 9, 'min_child_weight': 5, 'eta': 2.1259006242091056e-07, 'gamma': 0.0018712666046171147, 'grow_policy': 'lossguide', 'sample_type': 'uniform', 'normalize_type': 'forest', 'rate_drop': 3.0989046005376722e-06, 'skip_drop': 3.1988001868390194e-05}. Best is trial 65 with value: 0.9091918294849023.\n"
          ]
        },
        {
          "output_type": "stream",
          "name": "stdout",
          "text": [
            "🏃 View run rare-ray-840 at: https://218d-35-247-53-211.ngrok-free.app/#/experiments/474008413382543543/runs/d73a50ad53784ca9bc5ee14bd641f1b8\n",
            "🧪 View experiment at: https://218d-35-247-53-211.ngrok-free.app/#/experiments/474008413382543543\n"
          ]
        },
        {
          "output_type": "stream",
          "name": "stderr",
          "text": [
            "2025/06/16 09:10:12 INFO mlflow.utils.autologging_utils: Created MLflow autologging run with ID '16d86af27e814d13af1863acc5dc2608', which will track hyperparameters, performance metrics, model artifacts, and lineage information for the current xgboost workflow\n",
            "2025/06/16 09:10:13 WARNING mlflow.utils.autologging_utils: MLflow autologging encountered a warning: \"/usr/local/lib/python3.11/dist-packages/mlflow/types/utils.py:452: UserWarning: Hint: Inferred schema contains integer column(s). Integer columns in Python cannot represent missing values. If your input data contains missing values at inference time, it will be encoded as floats and will cause a schema enforcement error. The best way to avoid this problem is to infer the model schema based on a realistic data sample (training dataset) that includes missing values. Alternatively, you can declare integer columns as doubles (float64) whenever these columns may have missing values. See `Handling Integers With Missing Values <https://www.mlflow.org/docs/latest/models.html#handling-integers-with-missing-values>`_ for more details.\"\n",
            "2025/06/16 09:10:13 WARNING mlflow.models.model: `artifact_path` is deprecated. Please use `name` instead.\n",
            "[I 2025-06-16 09:10:20,748] Trial 72 finished with value: 0.9091918294849023 and parameters: {'booster': 'dart', 'lambda': 0.0002575935141989004, 'alpha': 0.002987790461668472, 'subsample': 0.8394563224390477, 'colsample_bytree': 0.8929824244830895, 'max_depth': 9, 'min_child_weight': 5, 'eta': 3.254680862508822e-07, 'gamma': 0.002556824823582358, 'grow_policy': 'lossguide', 'sample_type': 'uniform', 'normalize_type': 'forest', 'rate_drop': 3.9814776586770995e-06, 'skip_drop': 2.7531024130534408e-05}. Best is trial 65 with value: 0.9091918294849023.\n"
          ]
        },
        {
          "output_type": "stream",
          "name": "stdout",
          "text": [
            "🏃 View run bedecked-bass-81 at: https://218d-35-247-53-211.ngrok-free.app/#/experiments/474008413382543543/runs/16d86af27e814d13af1863acc5dc2608\n",
            "🧪 View experiment at: https://218d-35-247-53-211.ngrok-free.app/#/experiments/474008413382543543\n"
          ]
        },
        {
          "output_type": "stream",
          "name": "stderr",
          "text": [
            "2025/06/16 09:10:21 INFO mlflow.utils.autologging_utils: Created MLflow autologging run with ID 'f764763a262644d3ad4fd1900a81f3d0', which will track hyperparameters, performance metrics, model artifacts, and lineage information for the current xgboost workflow\n",
            "2025/06/16 09:10:21 WARNING mlflow.utils.autologging_utils: MLflow autologging encountered a warning: \"/usr/local/lib/python3.11/dist-packages/mlflow/types/utils.py:452: UserWarning: Hint: Inferred schema contains integer column(s). Integer columns in Python cannot represent missing values. If your input data contains missing values at inference time, it will be encoded as floats and will cause a schema enforcement error. The best way to avoid this problem is to infer the model schema based on a realistic data sample (training dataset) that includes missing values. Alternatively, you can declare integer columns as doubles (float64) whenever these columns may have missing values. See `Handling Integers With Missing Values <https://www.mlflow.org/docs/latest/models.html#handling-integers-with-missing-values>`_ for more details.\"\n",
            "2025/06/16 09:10:21 WARNING mlflow.models.model: `artifact_path` is deprecated. Please use `name` instead.\n"
          ]
        },
        {
          "output_type": "stream",
          "name": "stdout",
          "text": [
            "🏃 View run luminous-yak-542 at: https://218d-35-247-53-211.ngrok-free.app/#/experiments/474008413382543543/runs/f764763a262644d3ad4fd1900a81f3d0\n",
            "🧪 View experiment at: https://218d-35-247-53-211.ngrok-free.app/#/experiments/474008413382543543\n"
          ]
        },
        {
          "output_type": "stream",
          "name": "stderr",
          "text": [
            "[I 2025-06-16 09:10:28,179] Trial 73 finished with value: 0.9089698046181173 and parameters: {'booster': 'dart', 'lambda': 0.00024997009966235066, 'alpha': 0.005900984973061707, 'subsample': 0.7982406804587323, 'colsample_bytree': 0.9296094931096321, 'max_depth': 9, 'min_child_weight': 5, 'eta': 2.681299466440272e-07, 'gamma': 0.002335643143375514, 'grow_policy': 'lossguide', 'sample_type': 'uniform', 'normalize_type': 'forest', 'rate_drop': 4.819432282961166e-06, 'skip_drop': 2.95339634281499e-05}. Best is trial 65 with value: 0.9091918294849023.\n",
            "2025/06/16 09:10:28 INFO mlflow.utils.autologging_utils: Created MLflow autologging run with ID 'b23823de3b03473197b1e851fc59b936', which will track hyperparameters, performance metrics, model artifacts, and lineage information for the current xgboost workflow\n",
            "2025/06/16 09:10:29 WARNING mlflow.utils.autologging_utils: MLflow autologging encountered a warning: \"/usr/local/lib/python3.11/dist-packages/mlflow/types/utils.py:452: UserWarning: Hint: Inferred schema contains integer column(s). Integer columns in Python cannot represent missing values. If your input data contains missing values at inference time, it will be encoded as floats and will cause a schema enforcement error. The best way to avoid this problem is to infer the model schema based on a realistic data sample (training dataset) that includes missing values. Alternatively, you can declare integer columns as doubles (float64) whenever these columns may have missing values. See `Handling Integers With Missing Values <https://www.mlflow.org/docs/latest/models.html#handling-integers-with-missing-values>`_ for more details.\"\n",
            "2025/06/16 09:10:29 WARNING mlflow.models.model: `artifact_path` is deprecated. Please use `name` instead.\n",
            "[I 2025-06-16 09:10:36,631] Trial 74 finished with value: 0.9071936056838366 and parameters: {'booster': 'dart', 'lambda': 0.0003117699069305766, 'alpha': 0.006116571512243658, 'subsample': 0.8010418783144765, 'colsample_bytree': 0.9217400454527315, 'max_depth': 9, 'min_child_weight': 5, 'eta': 2.450239067163704e-07, 'gamma': 0.0022832050723968064, 'grow_policy': 'lossguide', 'sample_type': 'uniform', 'normalize_type': 'forest', 'rate_drop': 2.5948441511076696e-06, 'skip_drop': 3.771168989229149e-05}. Best is trial 65 with value: 0.9091918294849023.\n"
          ]
        },
        {
          "output_type": "stream",
          "name": "stdout",
          "text": [
            "🏃 View run rare-colt-207 at: https://218d-35-247-53-211.ngrok-free.app/#/experiments/474008413382543543/runs/b23823de3b03473197b1e851fc59b936\n",
            "🧪 View experiment at: https://218d-35-247-53-211.ngrok-free.app/#/experiments/474008413382543543\n"
          ]
        },
        {
          "output_type": "stream",
          "name": "stderr",
          "text": [
            "2025/06/16 09:10:36 INFO mlflow.utils.autologging_utils: Created MLflow autologging run with ID 'f9b6b639410b43b99c969d3997a22d03', which will track hyperparameters, performance metrics, model artifacts, and lineage information for the current xgboost workflow\n",
            "2025/06/16 09:10:37 WARNING mlflow.utils.autologging_utils: MLflow autologging encountered a warning: \"/usr/local/lib/python3.11/dist-packages/mlflow/types/utils.py:452: UserWarning: Hint: Inferred schema contains integer column(s). Integer columns in Python cannot represent missing values. If your input data contains missing values at inference time, it will be encoded as floats and will cause a schema enforcement error. The best way to avoid this problem is to infer the model schema based on a realistic data sample (training dataset) that includes missing values. Alternatively, you can declare integer columns as doubles (float64) whenever these columns may have missing values. See `Handling Integers With Missing Values <https://www.mlflow.org/docs/latest/models.html#handling-integers-with-missing-values>`_ for more details.\"\n",
            "2025/06/16 09:10:37 WARNING mlflow.models.model: `artifact_path` is deprecated. Please use `name` instead.\n"
          ]
        },
        {
          "output_type": "stream",
          "name": "stdout",
          "text": [
            "🏃 View run abundant-newt-949 at: https://218d-35-247-53-211.ngrok-free.app/#/experiments/474008413382543543/runs/f9b6b639410b43b99c969d3997a22d03\n",
            "🧪 View experiment at: https://218d-35-247-53-211.ngrok-free.app/#/experiments/474008413382543543\n"
          ]
        },
        {
          "output_type": "stream",
          "name": "stderr",
          "text": [
            "[I 2025-06-16 09:10:44,142] Trial 75 finished with value: 0.9069715808170515 and parameters: {'booster': 'dart', 'lambda': 0.00024184648049825294, 'alpha': 0.0009472543838966845, 'subsample': 0.8306459100551575, 'colsample_bytree': 0.9584990692936666, 'max_depth': 9, 'min_child_weight': 4, 'eta': 7.09643471884602e-08, 'gamma': 0.002234889728382448, 'grow_policy': 'lossguide', 'sample_type': 'uniform', 'normalize_type': 'forest', 'rate_drop': 3.1282662335237366e-05, 'skip_drop': 2.2613220811995403e-05}. Best is trial 65 with value: 0.9091918294849023.\n",
            "2025/06/16 09:10:44 INFO mlflow.utils.autologging_utils: Created MLflow autologging run with ID '034a6a1cd95643ff996dc9fb1c32ce73', which will track hyperparameters, performance metrics, model artifacts, and lineage information for the current xgboost workflow\n",
            "2025/06/16 09:10:45 WARNING mlflow.utils.autologging_utils: MLflow autologging encountered a warning: \"/usr/local/lib/python3.11/dist-packages/mlflow/types/utils.py:452: UserWarning: Hint: Inferred schema contains integer column(s). Integer columns in Python cannot represent missing values. If your input data contains missing values at inference time, it will be encoded as floats and will cause a schema enforcement error. The best way to avoid this problem is to infer the model schema based on a realistic data sample (training dataset) that includes missing values. Alternatively, you can declare integer columns as doubles (float64) whenever these columns may have missing values. See `Handling Integers With Missing Values <https://www.mlflow.org/docs/latest/models.html#handling-integers-with-missing-values>`_ for more details.\"\n",
            "2025/06/16 09:10:45 WARNING mlflow.models.model: `artifact_path` is deprecated. Please use `name` instead.\n",
            "[I 2025-06-16 09:10:51,775] Trial 76 finished with value: 0.9080817051509769 and parameters: {'booster': 'dart', 'lambda': 0.002603568456095268, 'alpha': 0.003600393761318536, 'subsample': 0.7827505956397415, 'colsample_bytree': 0.8723971677963155, 'max_depth': 9, 'min_child_weight': 5, 'eta': 2.3300880121518585e-07, 'gamma': 0.0011681375215889603, 'grow_policy': 'lossguide', 'sample_type': 'uniform', 'normalize_type': 'forest', 'rate_drop': 7.173726923016703e-06, 'skip_drop': 7.729039895045024e-05}. Best is trial 65 with value: 0.9091918294849023.\n"
          ]
        },
        {
          "output_type": "stream",
          "name": "stdout",
          "text": [
            "🏃 View run victorious-fox-73 at: https://218d-35-247-53-211.ngrok-free.app/#/experiments/474008413382543543/runs/034a6a1cd95643ff996dc9fb1c32ce73\n",
            "🧪 View experiment at: https://218d-35-247-53-211.ngrok-free.app/#/experiments/474008413382543543\n"
          ]
        },
        {
          "output_type": "stream",
          "name": "stderr",
          "text": [
            "2025/06/16 09:10:52 INFO mlflow.utils.autologging_utils: Created MLflow autologging run with ID '7582a505cd7e4ba5a86e4f47674ab046', which will track hyperparameters, performance metrics, model artifacts, and lineage information for the current xgboost workflow\n",
            "2025/06/16 09:10:52 WARNING mlflow.utils.autologging_utils: MLflow autologging encountered a warning: \"/usr/local/lib/python3.11/dist-packages/mlflow/types/utils.py:452: UserWarning: Hint: Inferred schema contains integer column(s). Integer columns in Python cannot represent missing values. If your input data contains missing values at inference time, it will be encoded as floats and will cause a schema enforcement error. The best way to avoid this problem is to infer the model schema based on a realistic data sample (training dataset) that includes missing values. Alternatively, you can declare integer columns as doubles (float64) whenever these columns may have missing values. See `Handling Integers With Missing Values <https://www.mlflow.org/docs/latest/models.html#handling-integers-with-missing-values>`_ for more details.\"\n",
            "2025/06/16 09:10:52 WARNING mlflow.models.model: `artifact_path` is deprecated. Please use `name` instead.\n",
            "[I 2025-06-16 09:11:00,189] Trial 77 finished with value: 0.9069715808170515 and parameters: {'booster': 'dart', 'lambda': 0.0014146462753176629, 'alpha': 0.07704087835621355, 'subsample': 0.7286650609245962, 'colsample_bytree': 0.9734106460796985, 'max_depth': 9, 'min_child_weight': 4, 'eta': 3.9967132253553887e-07, 'gamma': 0.000417829372962496, 'grow_policy': 'lossguide', 'sample_type': 'uniform', 'normalize_type': 'forest', 'rate_drop': 8.749854337707826e-06, 'skip_drop': 9.276678865606579e-05}. Best is trial 65 with value: 0.9091918294849023.\n"
          ]
        },
        {
          "output_type": "stream",
          "name": "stdout",
          "text": [
            "🏃 View run orderly-dog-711 at: https://218d-35-247-53-211.ngrok-free.app/#/experiments/474008413382543543/runs/7582a505cd7e4ba5a86e4f47674ab046\n",
            "🧪 View experiment at: https://218d-35-247-53-211.ngrok-free.app/#/experiments/474008413382543543\n"
          ]
        },
        {
          "output_type": "stream",
          "name": "stderr",
          "text": [
            "2025/06/16 09:11:00 INFO mlflow.utils.autologging_utils: Created MLflow autologging run with ID '82e78f4293c8414e85a9bfade2360185', which will track hyperparameters, performance metrics, model artifacts, and lineage information for the current xgboost workflow\n",
            "2025/06/16 09:11:00 WARNING mlflow.utils.autologging_utils: MLflow autologging encountered a warning: \"/usr/local/lib/python3.11/dist-packages/mlflow/types/utils.py:452: UserWarning: Hint: Inferred schema contains integer column(s). Integer columns in Python cannot represent missing values. If your input data contains missing values at inference time, it will be encoded as floats and will cause a schema enforcement error. The best way to avoid this problem is to infer the model schema based on a realistic data sample (training dataset) that includes missing values. Alternatively, you can declare integer columns as doubles (float64) whenever these columns may have missing values. See `Handling Integers With Missing Values <https://www.mlflow.org/docs/latest/models.html#handling-integers-with-missing-values>`_ for more details.\"\n",
            "2025/06/16 09:11:00 WARNING mlflow.models.model: `artifact_path` is deprecated. Please use `name` instead.\n",
            "[I 2025-06-16 09:11:07,395] Trial 78 finished with value: 0.9011989342806395 and parameters: {'booster': 'dart', 'lambda': 0.02499119443337015, 'alpha': 0.017071584367424612, 'subsample': 0.7849390504393572, 'colsample_bytree': 0.8610505723112062, 'max_depth': 7, 'min_child_weight': 5, 'eta': 5.785878156458188e-07, 'gamma': 6.633420739667663e-05, 'grow_policy': 'lossguide', 'sample_type': 'uniform', 'normalize_type': 'forest', 'rate_drop': 9.704601910047982e-07, 'skip_drop': 6.080730682043567e-06}. Best is trial 65 with value: 0.9091918294849023.\n"
          ]
        },
        {
          "output_type": "stream",
          "name": "stdout",
          "text": [
            "🏃 View run welcoming-hare-167 at: https://218d-35-247-53-211.ngrok-free.app/#/experiments/474008413382543543/runs/82e78f4293c8414e85a9bfade2360185\n",
            "🧪 View experiment at: https://218d-35-247-53-211.ngrok-free.app/#/experiments/474008413382543543\n"
          ]
        }
      ]
    },
    {
      "cell_type": "code",
      "source": [
        "print(\"Number of finished trials: \", len(study.trials))\n",
        "print(\"Best trial:\")\n",
        "trial = study.best_trial\n",
        "\n",
        "print(\"  Value: {}\".format(trial.value))\n",
        "print(\"  Params: \")\n",
        "for key, value in trial.params.items():\n",
        "  print(\"    {}: {}\".format(key, value))"
      ],
      "metadata": {
        "colab": {
          "base_uri": "https://localhost:8080/"
        },
        "id": "_UmCoyji-Tkd",
        "outputId": "37bb997b-fcab-4a9f-eb8e-82d946d0dfd4"
      },
      "execution_count": null,
      "outputs": [
        {
          "output_type": "stream",
          "name": "stdout",
          "text": [
            "Number of finished trials:  79\n",
            "Best trial:\n",
            "  Value: 0.9091918294849023\n",
            "  Params: \n",
            "    booster: dart\n",
            "    lambda: 4.753471494267503e-06\n",
            "    alpha: 0.3266027192775913\n",
            "    subsample: 0.8376880644393908\n",
            "    colsample_bytree: 0.8677921489329279\n",
            "    max_depth: 9\n",
            "    min_child_weight: 5\n",
            "    eta: 9.787927711840947e-08\n",
            "    gamma: 0.0001884345722651077\n",
            "    grow_policy: lossguide\n",
            "    sample_type: uniform\n",
            "    normalize_type: forest\n",
            "    rate_drop: 2.7505515477792895e-05\n",
            "    skip_drop: 3.901305189725552e-06\n"
          ]
        }
      ]
    },
    {
      "cell_type": "code",
      "source": [
        "model = xgb.train(params = trial.params, dtrain= dmatrix_train)"
      ],
      "metadata": {
        "colab": {
          "base_uri": "https://localhost:8080/"
        },
        "id": "6LBzsWDq1_Zc",
        "outputId": "2fb30c6a-c3cd-4456-b25b-51dbb6dc33f3"
      },
      "execution_count": null,
      "outputs": [
        {
          "output_type": "stream",
          "name": "stderr",
          "text": [
            "2025/06/16 09:54:28 INFO mlflow.utils.autologging_utils: Created MLflow autologging run with ID '1a04683482514468b9e63a4cd8d16e13', which will track hyperparameters, performance metrics, model artifacts, and lineage information for the current xgboost workflow\n",
            "2025/06/16 09:54:28 WARNING mlflow.utils.autologging_utils: MLflow autologging encountered a warning: \"/usr/local/lib/python3.11/dist-packages/mlflow/types/utils.py:452: UserWarning: Hint: Inferred schema contains integer column(s). Integer columns in Python cannot represent missing values. If your input data contains missing values at inference time, it will be encoded as floats and will cause a schema enforcement error. The best way to avoid this problem is to infer the model schema based on a realistic data sample (training dataset) that includes missing values. Alternatively, you can declare integer columns as doubles (float64) whenever these columns may have missing values. See `Handling Integers With Missing Values <https://www.mlflow.org/docs/latest/models.html#handling-integers-with-missing-values>`_ for more details.\"\n",
            "2025/06/16 09:54:28 WARNING mlflow.models.model: `artifact_path` is deprecated. Please use `name` instead.\n"
          ]
        },
        {
          "output_type": "stream",
          "name": "stdout",
          "text": [
            "🏃 View run delicate-stoat-405 at: https://218d-35-247-53-211.ngrok-free.app/#/experiments/474008413382543543/runs/1a04683482514468b9e63a4cd8d16e13\n",
            "🧪 View experiment at: https://218d-35-247-53-211.ngrok-free.app/#/experiments/474008413382543543\n"
          ]
        }
      ]
    },
    {
      "cell_type": "code",
      "source": [
        "test_predictions = model.predict(dmatrix_test)\n",
        "round_test_predictions = [round(p) for p in test_predictions]\n",
        "accuracy_score(y_test,round_test_predictions)"
      ],
      "metadata": {
        "colab": {
          "base_uri": "https://localhost:8080/"
        },
        "id": "bstECIDj2T9p",
        "outputId": "90b2b7dd-4f25-4ed9-ab0d-33dd7ecbfb85"
      },
      "execution_count": null,
      "outputs": [
        {
          "output_type": "execute_result",
          "data": {
            "text/plain": [
              "0.8960923623445826"
            ]
          },
          "metadata": {},
          "execution_count": 38
        }
      ]
    }
  ]
}
